{
 "cells": [
  {
   "cell_type": "code",
   "execution_count": 1,
   "id": "e58e94d2",
   "metadata": {
    "execution": {
     "iopub.execute_input": "2021-07-23T13:55:52.630142Z",
     "iopub.status.busy": "2021-07-23T13:55:52.629016Z",
     "iopub.status.idle": "2021-07-23T13:55:53.684533Z",
     "shell.execute_reply": "2021-07-23T13:55:53.683757Z",
     "shell.execute_reply.started": "2021-07-23T13:23:10.481057Z"
    },
    "papermill": {
     "duration": 1.12452,
     "end_time": "2021-07-23T13:55:53.684704",
     "exception": false,
     "start_time": "2021-07-23T13:55:52.560184",
     "status": "completed"
    },
    "tags": []
   },
   "outputs": [],
   "source": [
    "import pandas as pd\n",
    "import numpy as np\n",
    "import seaborn as sns\n",
    "import matplotlib.pyplot as plt\n"
   ]
  },
  {
   "cell_type": "code",
   "execution_count": 2,
   "id": "5b5dc895",
   "metadata": {
    "execution": {
     "iopub.execute_input": "2021-07-23T13:55:53.825041Z",
     "iopub.status.busy": "2021-07-23T13:55:53.824269Z",
     "iopub.status.idle": "2021-07-23T13:55:53.826156Z",
     "shell.execute_reply": "2021-07-23T13:55:53.826653Z",
     "shell.execute_reply.started": "2021-07-23T13:23:11.431116Z"
    },
    "papermill": {
     "duration": 0.07541,
     "end_time": "2021-07-23T13:55:53.826851",
     "exception": false,
     "start_time": "2021-07-23T13:55:53.751441",
     "status": "completed"
    },
    "tags": []
   },
   "outputs": [],
   "source": [
    "%matplotlib inline\n",
    "plt.rc('xtick', labelsize=15)     \n",
    "plt.rc('ytick', labelsize=15)\n",
    "plt.rc('axes', titlesize=16)\n",
    "sns.set_style('darkgrid')"
   ]
  },
  {
   "cell_type": "code",
   "execution_count": 3,
   "id": "9a8765a5",
   "metadata": {
    "execution": {
     "iopub.execute_input": "2021-07-23T13:55:53.959955Z",
     "iopub.status.busy": "2021-07-23T13:55:53.959240Z",
     "iopub.status.idle": "2021-07-23T13:55:54.048073Z",
     "shell.execute_reply": "2021-07-23T13:55:54.048641Z",
     "shell.execute_reply.started": "2021-07-23T13:23:46.029460Z"
    },
    "papermill": {
     "duration": 0.157624,
     "end_time": "2021-07-23T13:55:54.048842",
     "exception": false,
     "start_time": "2021-07-23T13:55:53.891218",
     "status": "completed"
    },
    "tags": []
   },
   "outputs": [],
   "source": [
    "train = pd.read_csv('../input/titanic/train.csv')\n",
    "test = pd.read_csv('../input/titanic/test.csv')"
   ]
  },
  {
   "cell_type": "code",
   "execution_count": 4,
   "id": "172cc097",
   "metadata": {
    "execution": {
     "iopub.execute_input": "2021-07-23T13:55:54.181570Z",
     "iopub.status.busy": "2021-07-23T13:55:54.180884Z",
     "iopub.status.idle": "2021-07-23T13:55:54.188467Z",
     "shell.execute_reply": "2021-07-23T13:55:54.188970Z",
     "shell.execute_reply.started": "2021-07-23T13:23:55.140388Z"
    },
    "papermill": {
     "duration": 0.074887,
     "end_time": "2021-07-23T13:55:54.189159",
     "exception": false,
     "start_time": "2021-07-23T13:55:54.114272",
     "status": "completed"
    },
    "tags": []
   },
   "outputs": [
    {
     "data": {
      "text/plain": [
       "((891, 12), (418, 11))"
      ]
     },
     "execution_count": 4,
     "metadata": {},
     "output_type": "execute_result"
    }
   ],
   "source": [
    "train.shape, test.shape"
   ]
  },
  {
   "cell_type": "code",
   "execution_count": 5,
   "id": "c8358135",
   "metadata": {
    "execution": {
     "iopub.execute_input": "2021-07-23T13:55:54.329345Z",
     "iopub.status.busy": "2021-07-23T13:55:54.328693Z",
     "iopub.status.idle": "2021-07-23T13:55:54.380758Z",
     "shell.execute_reply": "2021-07-23T13:55:54.381333Z",
     "shell.execute_reply.started": "2021-07-23T13:24:03.627912Z"
    },
    "papermill": {
     "duration": 0.123363,
     "end_time": "2021-07-23T13:55:54.381510",
     "exception": false,
     "start_time": "2021-07-23T13:55:54.258147",
     "status": "completed"
    },
    "tags": []
   },
   "outputs": [
    {
     "data": {
      "text/html": [
       "<div>\n",
       "<style scoped>\n",
       "    .dataframe tbody tr th:only-of-type {\n",
       "        vertical-align: middle;\n",
       "    }\n",
       "\n",
       "    .dataframe tbody tr th {\n",
       "        vertical-align: top;\n",
       "    }\n",
       "\n",
       "    .dataframe thead th {\n",
       "        text-align: right;\n",
       "    }\n",
       "</style>\n",
       "<table border=\"1\" class=\"dataframe\">\n",
       "  <thead>\n",
       "    <tr style=\"text-align: right;\">\n",
       "      <th></th>\n",
       "      <th>PassengerId</th>\n",
       "      <th>Survived</th>\n",
       "      <th>Pclass</th>\n",
       "      <th>Age</th>\n",
       "      <th>SibSp</th>\n",
       "      <th>Parch</th>\n",
       "      <th>Fare</th>\n",
       "    </tr>\n",
       "  </thead>\n",
       "  <tbody>\n",
       "    <tr>\n",
       "      <th>count</th>\n",
       "      <td>891.000000</td>\n",
       "      <td>891.000000</td>\n",
       "      <td>891.000000</td>\n",
       "      <td>714.000000</td>\n",
       "      <td>891.000000</td>\n",
       "      <td>891.000000</td>\n",
       "      <td>891.000000</td>\n",
       "    </tr>\n",
       "    <tr>\n",
       "      <th>mean</th>\n",
       "      <td>446.000000</td>\n",
       "      <td>0.383838</td>\n",
       "      <td>2.308642</td>\n",
       "      <td>29.699118</td>\n",
       "      <td>0.523008</td>\n",
       "      <td>0.381594</td>\n",
       "      <td>32.204208</td>\n",
       "    </tr>\n",
       "    <tr>\n",
       "      <th>std</th>\n",
       "      <td>257.353842</td>\n",
       "      <td>0.486592</td>\n",
       "      <td>0.836071</td>\n",
       "      <td>14.526497</td>\n",
       "      <td>1.102743</td>\n",
       "      <td>0.806057</td>\n",
       "      <td>49.693429</td>\n",
       "    </tr>\n",
       "    <tr>\n",
       "      <th>min</th>\n",
       "      <td>1.000000</td>\n",
       "      <td>0.000000</td>\n",
       "      <td>1.000000</td>\n",
       "      <td>0.420000</td>\n",
       "      <td>0.000000</td>\n",
       "      <td>0.000000</td>\n",
       "      <td>0.000000</td>\n",
       "    </tr>\n",
       "    <tr>\n",
       "      <th>25%</th>\n",
       "      <td>223.500000</td>\n",
       "      <td>0.000000</td>\n",
       "      <td>2.000000</td>\n",
       "      <td>20.125000</td>\n",
       "      <td>0.000000</td>\n",
       "      <td>0.000000</td>\n",
       "      <td>7.910400</td>\n",
       "    </tr>\n",
       "    <tr>\n",
       "      <th>50%</th>\n",
       "      <td>446.000000</td>\n",
       "      <td>0.000000</td>\n",
       "      <td>3.000000</td>\n",
       "      <td>28.000000</td>\n",
       "      <td>0.000000</td>\n",
       "      <td>0.000000</td>\n",
       "      <td>14.454200</td>\n",
       "    </tr>\n",
       "    <tr>\n",
       "      <th>75%</th>\n",
       "      <td>668.500000</td>\n",
       "      <td>1.000000</td>\n",
       "      <td>3.000000</td>\n",
       "      <td>38.000000</td>\n",
       "      <td>1.000000</td>\n",
       "      <td>0.000000</td>\n",
       "      <td>31.000000</td>\n",
       "    </tr>\n",
       "    <tr>\n",
       "      <th>max</th>\n",
       "      <td>891.000000</td>\n",
       "      <td>1.000000</td>\n",
       "      <td>3.000000</td>\n",
       "      <td>80.000000</td>\n",
       "      <td>8.000000</td>\n",
       "      <td>6.000000</td>\n",
       "      <td>512.329200</td>\n",
       "    </tr>\n",
       "  </tbody>\n",
       "</table>\n",
       "</div>"
      ],
      "text/plain": [
       "       PassengerId    Survived      Pclass         Age       SibSp  \\\n",
       "count   891.000000  891.000000  891.000000  714.000000  891.000000   \n",
       "mean    446.000000    0.383838    2.308642   29.699118    0.523008   \n",
       "std     257.353842    0.486592    0.836071   14.526497    1.102743   \n",
       "min       1.000000    0.000000    1.000000    0.420000    0.000000   \n",
       "25%     223.500000    0.000000    2.000000   20.125000    0.000000   \n",
       "50%     446.000000    0.000000    3.000000   28.000000    0.000000   \n",
       "75%     668.500000    1.000000    3.000000   38.000000    1.000000   \n",
       "max     891.000000    1.000000    3.000000   80.000000    8.000000   \n",
       "\n",
       "            Parch        Fare  \n",
       "count  891.000000  891.000000  \n",
       "mean     0.381594   32.204208  \n",
       "std      0.806057   49.693429  \n",
       "min      0.000000    0.000000  \n",
       "25%      0.000000    7.910400  \n",
       "50%      0.000000   14.454200  \n",
       "75%      0.000000   31.000000  \n",
       "max      6.000000  512.329200  "
      ]
     },
     "execution_count": 5,
     "metadata": {},
     "output_type": "execute_result"
    }
   ],
   "source": [
    "train.describe()"
   ]
  },
  {
   "cell_type": "code",
   "execution_count": 6,
   "id": "7f09843c",
   "metadata": {
    "execution": {
     "iopub.execute_input": "2021-07-23T13:55:54.517032Z",
     "iopub.status.busy": "2021-07-23T13:55:54.516329Z",
     "iopub.status.idle": "2021-07-23T13:55:54.524342Z",
     "shell.execute_reply": "2021-07-23T13:55:54.524910Z",
     "shell.execute_reply.started": "2021-07-23T13:24:11.233348Z"
    },
    "papermill": {
     "duration": 0.077984,
     "end_time": "2021-07-23T13:55:54.525089",
     "exception": false,
     "start_time": "2021-07-23T13:55:54.447105",
     "status": "completed"
    },
    "tags": []
   },
   "outputs": [
    {
     "data": {
      "text/plain": [
       "PassengerId      0\n",
       "Survived         0\n",
       "Pclass           0\n",
       "Name             0\n",
       "Sex              0\n",
       "Age            177\n",
       "SibSp            0\n",
       "Parch            0\n",
       "Ticket           0\n",
       "Fare             0\n",
       "Cabin          687\n",
       "Embarked         2\n",
       "dtype: int64"
      ]
     },
     "execution_count": 6,
     "metadata": {},
     "output_type": "execute_result"
    }
   ],
   "source": [
    "train.isnull().sum()"
   ]
  },
  {
   "cell_type": "code",
   "execution_count": 7,
   "id": "71c3774a",
   "metadata": {
    "execution": {
     "iopub.execute_input": "2021-07-23T13:55:54.665994Z",
     "iopub.status.busy": "2021-07-23T13:55:54.665217Z",
     "iopub.status.idle": "2021-07-23T13:55:54.692622Z",
     "shell.execute_reply": "2021-07-23T13:55:54.691995Z",
     "shell.execute_reply.started": "2021-07-23T13:24:29.091504Z"
    },
    "papermill": {
     "duration": 0.096557,
     "end_time": "2021-07-23T13:55:54.692804",
     "exception": false,
     "start_time": "2021-07-23T13:55:54.596247",
     "status": "completed"
    },
    "tags": []
   },
   "outputs": [],
   "source": [
    "train.drop(columns=['Cabin'], inplace=True)\n",
    "train.dropna(subset=['Embarked'], inplace=True)"
   ]
  },
  {
   "cell_type": "code",
   "execution_count": 8,
   "id": "308494d0",
   "metadata": {
    "execution": {
     "iopub.execute_input": "2021-07-23T13:55:54.835197Z",
     "iopub.status.busy": "2021-07-23T13:55:54.834088Z",
     "iopub.status.idle": "2021-07-23T13:55:54.837279Z",
     "shell.execute_reply": "2021-07-23T13:55:54.836682Z",
     "shell.execute_reply.started": "2021-07-23T13:24:39.932654Z"
    },
    "papermill": {
     "duration": 0.078402,
     "end_time": "2021-07-23T13:55:54.837433",
     "exception": false,
     "start_time": "2021-07-23T13:55:54.759031",
     "status": "completed"
    },
    "tags": []
   },
   "outputs": [],
   "source": [
    "test.drop(columns=['Cabin'], inplace=True)\n",
    "test.dropna(subset=['Embarked','Fare'], inplace=True)"
   ]
  },
  {
   "cell_type": "code",
   "execution_count": 9,
   "id": "d23981fa",
   "metadata": {
    "execution": {
     "iopub.execute_input": "2021-07-23T13:55:54.978126Z",
     "iopub.status.busy": "2021-07-23T13:55:54.977364Z",
     "iopub.status.idle": "2021-07-23T13:55:54.980206Z",
     "shell.execute_reply": "2021-07-23T13:55:54.980699Z",
     "shell.execute_reply.started": "2021-07-23T13:24:48.851770Z"
    },
    "papermill": {
     "duration": 0.077008,
     "end_time": "2021-07-23T13:55:54.980908",
     "exception": false,
     "start_time": "2021-07-23T13:55:54.903900",
     "status": "completed"
    },
    "tags": []
   },
   "outputs": [
    {
     "data": {
      "text/plain": [
       "PassengerId      0\n",
       "Survived         0\n",
       "Pclass           0\n",
       "Name             0\n",
       "Sex              0\n",
       "Age            177\n",
       "SibSp            0\n",
       "Parch            0\n",
       "Ticket           0\n",
       "Fare             0\n",
       "Embarked         0\n",
       "dtype: int64"
      ]
     },
     "execution_count": 9,
     "metadata": {},
     "output_type": "execute_result"
    }
   ],
   "source": [
    "train.isnull().sum()"
   ]
  },
  {
   "cell_type": "code",
   "execution_count": 10,
   "id": "a2f6796d",
   "metadata": {
    "execution": {
     "iopub.execute_input": "2021-07-23T13:55:55.118096Z",
     "iopub.status.busy": "2021-07-23T13:55:55.117426Z",
     "iopub.status.idle": "2021-07-23T13:55:55.133572Z",
     "shell.execute_reply": "2021-07-23T13:55:55.134066Z",
     "shell.execute_reply.started": "2021-07-23T13:25:24.042848Z"
    },
    "papermill": {
     "duration": 0.086875,
     "end_time": "2021-07-23T13:55:55.134249",
     "exception": false,
     "start_time": "2021-07-23T13:55:55.047374",
     "status": "completed"
    },
    "tags": []
   },
   "outputs": [
    {
     "data": {
      "text/html": [
       "<div>\n",
       "<style scoped>\n",
       "    .dataframe tbody tr th:only-of-type {\n",
       "        vertical-align: middle;\n",
       "    }\n",
       "\n",
       "    .dataframe tbody tr th {\n",
       "        vertical-align: top;\n",
       "    }\n",
       "\n",
       "    .dataframe thead th {\n",
       "        text-align: right;\n",
       "    }\n",
       "</style>\n",
       "<table border=\"1\" class=\"dataframe\">\n",
       "  <thead>\n",
       "    <tr style=\"text-align: right;\">\n",
       "      <th></th>\n",
       "      <th>PassengerId</th>\n",
       "      <th>Survived</th>\n",
       "      <th>Pclass</th>\n",
       "      <th>Name</th>\n",
       "      <th>Sex</th>\n",
       "      <th>Age</th>\n",
       "      <th>SibSp</th>\n",
       "      <th>Parch</th>\n",
       "      <th>Ticket</th>\n",
       "      <th>Fare</th>\n",
       "      <th>Embarked</th>\n",
       "    </tr>\n",
       "  </thead>\n",
       "  <tbody>\n",
       "    <tr>\n",
       "      <th>0</th>\n",
       "      <td>1</td>\n",
       "      <td>0</td>\n",
       "      <td>3</td>\n",
       "      <td>Braund, Mr. Owen Harris</td>\n",
       "      <td>male</td>\n",
       "      <td>22.0</td>\n",
       "      <td>1</td>\n",
       "      <td>0</td>\n",
       "      <td>A/5 21171</td>\n",
       "      <td>7.2500</td>\n",
       "      <td>S</td>\n",
       "    </tr>\n",
       "    <tr>\n",
       "      <th>1</th>\n",
       "      <td>2</td>\n",
       "      <td>1</td>\n",
       "      <td>1</td>\n",
       "      <td>Cumings, Mrs. John Bradley (Florence Briggs Th...</td>\n",
       "      <td>female</td>\n",
       "      <td>38.0</td>\n",
       "      <td>1</td>\n",
       "      <td>0</td>\n",
       "      <td>PC 17599</td>\n",
       "      <td>71.2833</td>\n",
       "      <td>C</td>\n",
       "    </tr>\n",
       "    <tr>\n",
       "      <th>2</th>\n",
       "      <td>3</td>\n",
       "      <td>1</td>\n",
       "      <td>3</td>\n",
       "      <td>Heikkinen, Miss. Laina</td>\n",
       "      <td>female</td>\n",
       "      <td>26.0</td>\n",
       "      <td>0</td>\n",
       "      <td>0</td>\n",
       "      <td>STON/O2. 3101282</td>\n",
       "      <td>7.9250</td>\n",
       "      <td>S</td>\n",
       "    </tr>\n",
       "    <tr>\n",
       "      <th>3</th>\n",
       "      <td>4</td>\n",
       "      <td>1</td>\n",
       "      <td>1</td>\n",
       "      <td>Futrelle, Mrs. Jacques Heath (Lily May Peel)</td>\n",
       "      <td>female</td>\n",
       "      <td>35.0</td>\n",
       "      <td>1</td>\n",
       "      <td>0</td>\n",
       "      <td>113803</td>\n",
       "      <td>53.1000</td>\n",
       "      <td>S</td>\n",
       "    </tr>\n",
       "    <tr>\n",
       "      <th>4</th>\n",
       "      <td>5</td>\n",
       "      <td>0</td>\n",
       "      <td>3</td>\n",
       "      <td>Allen, Mr. William Henry</td>\n",
       "      <td>male</td>\n",
       "      <td>35.0</td>\n",
       "      <td>0</td>\n",
       "      <td>0</td>\n",
       "      <td>373450</td>\n",
       "      <td>8.0500</td>\n",
       "      <td>S</td>\n",
       "    </tr>\n",
       "  </tbody>\n",
       "</table>\n",
       "</div>"
      ],
      "text/plain": [
       "   PassengerId  Survived  Pclass  \\\n",
       "0            1         0       3   \n",
       "1            2         1       1   \n",
       "2            3         1       3   \n",
       "3            4         1       1   \n",
       "4            5         0       3   \n",
       "\n",
       "                                                Name     Sex   Age  SibSp  \\\n",
       "0                            Braund, Mr. Owen Harris    male  22.0      1   \n",
       "1  Cumings, Mrs. John Bradley (Florence Briggs Th...  female  38.0      1   \n",
       "2                             Heikkinen, Miss. Laina  female  26.0      0   \n",
       "3       Futrelle, Mrs. Jacques Heath (Lily May Peel)  female  35.0      1   \n",
       "4                           Allen, Mr. William Henry    male  35.0      0   \n",
       "\n",
       "   Parch            Ticket     Fare Embarked  \n",
       "0      0         A/5 21171   7.2500        S  \n",
       "1      0          PC 17599  71.2833        C  \n",
       "2      0  STON/O2. 3101282   7.9250        S  \n",
       "3      0            113803  53.1000        S  \n",
       "4      0            373450   8.0500        S  "
      ]
     },
     "execution_count": 10,
     "metadata": {},
     "output_type": "execute_result"
    }
   ],
   "source": [
    "train.head()"
   ]
  },
  {
   "cell_type": "code",
   "execution_count": 11,
   "id": "a56f4bd5",
   "metadata": {
    "execution": {
     "iopub.execute_input": "2021-07-23T13:55:55.270715Z",
     "iopub.status.busy": "2021-07-23T13:55:55.269703Z",
     "iopub.status.idle": "2021-07-23T13:55:55.277474Z",
     "shell.execute_reply": "2021-07-23T13:55:55.277958Z",
     "shell.execute_reply.started": "2021-07-23T13:25:32.672584Z"
    },
    "papermill": {
     "duration": 0.07747,
     "end_time": "2021-07-23T13:55:55.278145",
     "exception": false,
     "start_time": "2021-07-23T13:55:55.200675",
     "status": "completed"
    },
    "tags": []
   },
   "outputs": [
    {
     "data": {
      "text/plain": [
       "PassengerId      int64\n",
       "Survived         int64\n",
       "Pclass           int64\n",
       "Name            object\n",
       "Sex             object\n",
       "Age            float64\n",
       "SibSp            int64\n",
       "Parch            int64\n",
       "Ticket          object\n",
       "Fare           float64\n",
       "Embarked        object\n",
       "dtype: object"
      ]
     },
     "execution_count": 11,
     "metadata": {},
     "output_type": "execute_result"
    }
   ],
   "source": [
    "train.dtypes"
   ]
  },
  {
   "cell_type": "code",
   "execution_count": 12,
   "id": "6ac878a7",
   "metadata": {
    "execution": {
     "iopub.execute_input": "2021-07-23T13:55:55.415751Z",
     "iopub.status.busy": "2021-07-23T13:55:55.414757Z",
     "iopub.status.idle": "2021-07-23T13:55:55.425952Z",
     "shell.execute_reply": "2021-07-23T13:55:55.425446Z",
     "shell.execute_reply.started": "2021-07-23T13:25:40.129652Z"
    },
    "papermill": {
     "duration": 0.08145,
     "end_time": "2021-07-23T13:55:55.426090",
     "exception": false,
     "start_time": "2021-07-23T13:55:55.344640",
     "status": "completed"
    },
    "tags": []
   },
   "outputs": [
    {
     "data": {
      "text/plain": [
       "S    644\n",
       "C    168\n",
       "Q     77\n",
       "Name: Embarked, dtype: int64"
      ]
     },
     "execution_count": 12,
     "metadata": {},
     "output_type": "execute_result"
    }
   ],
   "source": [
    "train['Embarked'].value_counts()"
   ]
  },
  {
   "cell_type": "code",
   "execution_count": 13,
   "id": "0c79fabc",
   "metadata": {
    "execution": {
     "iopub.execute_input": "2021-07-23T13:55:55.573202Z",
     "iopub.status.busy": "2021-07-23T13:55:55.572327Z",
     "iopub.status.idle": "2021-07-23T13:55:55.575586Z",
     "shell.execute_reply": "2021-07-23T13:55:55.575050Z",
     "shell.execute_reply.started": "2021-07-23T13:25:56.803484Z"
    },
    "papermill": {
     "duration": 0.080757,
     "end_time": "2021-07-23T13:55:55.575725",
     "exception": false,
     "start_time": "2021-07-23T13:55:55.494968",
     "status": "completed"
    },
    "tags": []
   },
   "outputs": [],
   "source": [
    "def convert_embarked(x):\n",
    "    if x == \"C\":\n",
    "        return \"Cherbourg\"\n",
    "    elif x == 'Q':\n",
    "        return \"Queenstown\"\n",
    "    elif x == 'S':\n",
    "        return \"Southampton\"\n",
    "train.Embarked = train.Embarked.map(convert_embarked)\n",
    "test.Embarked = train.Embarked.map(convert_embarked)"
   ]
  },
  {
   "cell_type": "code",
   "execution_count": 14,
   "id": "974d06ac",
   "metadata": {
    "execution": {
     "iopub.execute_input": "2021-07-23T13:55:55.717026Z",
     "iopub.status.busy": "2021-07-23T13:55:55.716141Z",
     "iopub.status.idle": "2021-07-23T13:55:55.719374Z",
     "shell.execute_reply": "2021-07-23T13:55:55.719855Z",
     "shell.execute_reply.started": "2021-07-23T13:26:03.915306Z"
    },
    "papermill": {
     "duration": 0.077318,
     "end_time": "2021-07-23T13:55:55.720033",
     "exception": false,
     "start_time": "2021-07-23T13:55:55.642715",
     "status": "completed"
    },
    "tags": []
   },
   "outputs": [
    {
     "data": {
      "text/plain": [
       "Southampton    644\n",
       "Cherbourg      168\n",
       "Queenstown      77\n",
       "Name: Embarked, dtype: int64"
      ]
     },
     "execution_count": 14,
     "metadata": {},
     "output_type": "execute_result"
    }
   ],
   "source": [
    "train['Embarked'].value_counts()"
   ]
  },
  {
   "cell_type": "code",
   "execution_count": 15,
   "id": "dbe9957d",
   "metadata": {
    "execution": {
     "iopub.execute_input": "2021-07-23T13:55:55.857083Z",
     "iopub.status.busy": "2021-07-23T13:55:55.856412Z",
     "iopub.status.idle": "2021-07-23T13:55:55.862585Z",
     "shell.execute_reply": "2021-07-23T13:55:55.863131Z",
     "shell.execute_reply.started": "2021-07-23T13:28:11.148620Z"
    },
    "papermill": {
     "duration": 0.076525,
     "end_time": "2021-07-23T13:55:55.863326",
     "exception": false,
     "start_time": "2021-07-23T13:55:55.786801",
     "status": "completed"
    },
    "tags": []
   },
   "outputs": [],
   "source": [
    "train['FamilySize'] = train['SibSp'] + train['Parch']\n",
    "test['FamilySize'] = test['SibSp'] + test['Parch']\n"
   ]
  },
  {
   "cell_type": "code",
   "execution_count": 16,
   "id": "43ac7ccb",
   "metadata": {
    "execution": {
     "iopub.execute_input": "2021-07-23T13:55:56.001150Z",
     "iopub.status.busy": "2021-07-23T13:55:56.000366Z",
     "iopub.status.idle": "2021-07-23T13:55:56.300603Z",
     "shell.execute_reply": "2021-07-23T13:55:56.300063Z",
     "shell.execute_reply.started": "2021-07-23T13:28:55.693962Z"
    },
    "papermill": {
     "duration": 0.370333,
     "end_time": "2021-07-23T13:55:56.300754",
     "exception": false,
     "start_time": "2021-07-23T13:55:55.930421",
     "status": "completed"
    },
    "tags": []
   },
   "outputs": [
    {
     "data": {
      "text/plain": [
       "<AxesSubplot:xlabel='FamilySize'>"
      ]
     },
     "execution_count": 16,
     "metadata": {},
     "output_type": "execute_result"
    },
    {
     "data": {
      "image/png": "[encoded data removed]",
      "text/plain": [
       "<Figure size 432x288 with 1 Axes>"
      ]
     },
     "metadata": {},
     "output_type": "display_data"
    }
   ],
   "source": [
    "train.groupby('FamilySize').agg({\"Survived\" : 'mean'}).plot(kind='bar')"
   ]
  },
  {
   "cell_type": "code",
   "execution_count": 17,
   "id": "dcad2d7b",
   "metadata": {
    "execution": {
     "iopub.execute_input": "2021-07-23T13:55:56.447374Z",
     "iopub.status.busy": "2021-07-23T13:55:56.446545Z",
     "iopub.status.idle": "2021-07-23T13:55:56.449744Z",
     "shell.execute_reply": "2021-07-23T13:55:56.449206Z",
     "shell.execute_reply.started": "2021-07-23T13:29:07.561613Z"
    },
    "papermill": {
     "duration": 0.080903,
     "end_time": "2021-07-23T13:55:56.449932",
     "exception": false,
     "start_time": "2021-07-23T13:55:56.369029",
     "status": "completed"
    },
    "tags": []
   },
   "outputs": [],
   "source": [
    "train.drop(columns=['PassengerId','Ticket'], inplace=True)\n",
    "test.drop(columns=['PassengerId','Ticket'], inplace=True)"
   ]
  },
  {
   "cell_type": "code",
   "execution_count": 18,
   "id": "11e2b123",
   "metadata": {
    "execution": {
     "iopub.execute_input": "2021-07-23T13:55:56.599325Z",
     "iopub.status.busy": "2021-07-23T13:55:56.598639Z",
     "iopub.status.idle": "2021-07-23T13:55:56.601660Z",
     "shell.execute_reply": "2021-07-23T13:55:56.602182Z",
     "shell.execute_reply.started": "2021-07-23T13:29:16.072779Z"
    },
    "papermill": {
     "duration": 0.083175,
     "end_time": "2021-07-23T13:55:56.602381",
     "exception": false,
     "start_time": "2021-07-23T13:55:56.519206",
     "status": "completed"
    },
    "tags": []
   },
   "outputs": [],
   "source": [
    "train['Title'] = train['Name'].map(lambda x: x.split(',')[1].split('.')[0].strip())\n",
    "test['Title'] = test['Name'].map(lambda x: x.split(',')[1].split('.')[0].strip())"
   ]
  },
  {
   "cell_type": "code",
   "execution_count": 19,
   "id": "243e6b3d",
   "metadata": {
    "execution": {
     "iopub.execute_input": "2021-07-23T13:55:56.746999Z",
     "iopub.status.busy": "2021-07-23T13:55:56.746062Z",
     "iopub.status.idle": "2021-07-23T13:55:56.750860Z",
     "shell.execute_reply": "2021-07-23T13:55:56.750295Z",
     "shell.execute_reply.started": "2021-07-23T13:29:21.559796Z"
    },
    "papermill": {
     "duration": 0.080629,
     "end_time": "2021-07-23T13:55:56.751016",
     "exception": false,
     "start_time": "2021-07-23T13:55:56.670387",
     "status": "completed"
    },
    "tags": []
   },
   "outputs": [
    {
     "data": {
      "text/plain": [
       "Mr              517\n",
       "Miss            181\n",
       "Mrs             124\n",
       "Master           40\n",
       "Dr                7\n",
       "Rev               6\n",
       "Major             2\n",
       "Col               2\n",
       "Mlle              2\n",
       "Capt              1\n",
       "Mme               1\n",
       "the Countess      1\n",
       "Jonkheer          1\n",
       "Don               1\n",
       "Sir               1\n",
       "Ms                1\n",
       "Lady              1\n",
       "Name: Title, dtype: int64"
      ]
     },
     "execution_count": 19,
     "metadata": {},
     "output_type": "execute_result"
    }
   ],
   "source": [
    "train['Title'].value_counts()"
   ]
  },
  {
   "cell_type": "code",
   "execution_count": 20,
   "id": "b6d2c70d",
   "metadata": {
    "execution": {
     "iopub.execute_input": "2021-07-23T13:55:56.899055Z",
     "iopub.status.busy": "2021-07-23T13:55:56.898109Z",
     "iopub.status.idle": "2021-07-23T13:55:56.901304Z",
     "shell.execute_reply": "2021-07-23T13:55:56.900728Z",
     "shell.execute_reply.started": "2021-07-23T13:29:33.450454Z"
    },
    "papermill": {
     "duration": 0.080116,
     "end_time": "2021-07-23T13:55:56.901448",
     "exception": false,
     "start_time": "2021-07-23T13:55:56.821332",
     "status": "completed"
    },
    "tags": []
   },
   "outputs": [],
   "source": [
    "train.drop(columns=['Name'], inplace=True)\n",
    "test.drop(columns=['Name'], inplace=True)"
   ]
  },
  {
   "cell_type": "code",
   "execution_count": 21,
   "id": "e8987eb2",
   "metadata": {
    "execution": {
     "iopub.execute_input": "2021-07-23T13:55:57.054991Z",
     "iopub.status.busy": "2021-07-23T13:55:57.053989Z",
     "iopub.status.idle": "2021-07-23T13:55:57.058462Z",
     "shell.execute_reply": "2021-07-23T13:55:57.057805Z",
     "shell.execute_reply.started": "2021-07-23T13:29:40.423096Z"
    },
    "papermill": {
     "duration": 0.088368,
     "end_time": "2021-07-23T13:55:57.058608",
     "exception": false,
     "start_time": "2021-07-23T13:55:56.970240",
     "status": "completed"
    },
    "tags": []
   },
   "outputs": [
    {
     "data": {
      "text/html": [
       "<div>\n",
       "<style scoped>\n",
       "    .dataframe tbody tr th:only-of-type {\n",
       "        vertical-align: middle;\n",
       "    }\n",
       "\n",
       "    .dataframe tbody tr th {\n",
       "        vertical-align: top;\n",
       "    }\n",
       "\n",
       "    .dataframe thead th {\n",
       "        text-align: right;\n",
       "    }\n",
       "</style>\n",
       "<table border=\"1\" class=\"dataframe\">\n",
       "  <thead>\n",
       "    <tr style=\"text-align: right;\">\n",
       "      <th></th>\n",
       "      <th>Survived</th>\n",
       "      <th>Pclass</th>\n",
       "      <th>Sex</th>\n",
       "      <th>Age</th>\n",
       "      <th>SibSp</th>\n",
       "      <th>Parch</th>\n",
       "      <th>Fare</th>\n",
       "      <th>Embarked</th>\n",
       "      <th>FamilySize</th>\n",
       "      <th>Title</th>\n",
       "    </tr>\n",
       "  </thead>\n",
       "  <tbody>\n",
       "    <tr>\n",
       "      <th>0</th>\n",
       "      <td>0</td>\n",
       "      <td>3</td>\n",
       "      <td>male</td>\n",
       "      <td>22.0</td>\n",
       "      <td>1</td>\n",
       "      <td>0</td>\n",
       "      <td>7.2500</td>\n",
       "      <td>Southampton</td>\n",
       "      <td>1</td>\n",
       "      <td>Mr</td>\n",
       "    </tr>\n",
       "    <tr>\n",
       "      <th>1</th>\n",
       "      <td>1</td>\n",
       "      <td>1</td>\n",
       "      <td>female</td>\n",
       "      <td>38.0</td>\n",
       "      <td>1</td>\n",
       "      <td>0</td>\n",
       "      <td>71.2833</td>\n",
       "      <td>Cherbourg</td>\n",
       "      <td>1</td>\n",
       "      <td>Mrs</td>\n",
       "    </tr>\n",
       "    <tr>\n",
       "      <th>2</th>\n",
       "      <td>1</td>\n",
       "      <td>3</td>\n",
       "      <td>female</td>\n",
       "      <td>26.0</td>\n",
       "      <td>0</td>\n",
       "      <td>0</td>\n",
       "      <td>7.9250</td>\n",
       "      <td>Southampton</td>\n",
       "      <td>0</td>\n",
       "      <td>Miss</td>\n",
       "    </tr>\n",
       "    <tr>\n",
       "      <th>3</th>\n",
       "      <td>1</td>\n",
       "      <td>1</td>\n",
       "      <td>female</td>\n",
       "      <td>35.0</td>\n",
       "      <td>1</td>\n",
       "      <td>0</td>\n",
       "      <td>53.1000</td>\n",
       "      <td>Southampton</td>\n",
       "      <td>1</td>\n",
       "      <td>Mrs</td>\n",
       "    </tr>\n",
       "    <tr>\n",
       "      <th>4</th>\n",
       "      <td>0</td>\n",
       "      <td>3</td>\n",
       "      <td>male</td>\n",
       "      <td>35.0</td>\n",
       "      <td>0</td>\n",
       "      <td>0</td>\n",
       "      <td>8.0500</td>\n",
       "      <td>Southampton</td>\n",
       "      <td>0</td>\n",
       "      <td>Mr</td>\n",
       "    </tr>\n",
       "  </tbody>\n",
       "</table>\n",
       "</div>"
      ],
      "text/plain": [
       "   Survived  Pclass     Sex   Age  SibSp  Parch     Fare     Embarked  \\\n",
       "0         0       3    male  22.0      1      0   7.2500  Southampton   \n",
       "1         1       1  female  38.0      1      0  71.2833    Cherbourg   \n",
       "2         1       3  female  26.0      0      0   7.9250  Southampton   \n",
       "3         1       1  female  35.0      1      0  53.1000  Southampton   \n",
       "4         0       3    male  35.0      0      0   8.0500  Southampton   \n",
       "\n",
       "   FamilySize Title  \n",
       "0           1    Mr  \n",
       "1           1   Mrs  \n",
       "2           0  Miss  \n",
       "3           1   Mrs  \n",
       "4           0    Mr  "
      ]
     },
     "execution_count": 21,
     "metadata": {},
     "output_type": "execute_result"
    }
   ],
   "source": [
    "train.head()"
   ]
  },
  {
   "cell_type": "code",
   "execution_count": 22,
   "id": "e9857183",
   "metadata": {
    "execution": {
     "iopub.execute_input": "2021-07-23T13:55:57.207930Z",
     "iopub.status.busy": "2021-07-23T13:55:57.206846Z",
     "iopub.status.idle": "2021-07-23T13:55:57.210188Z",
     "shell.execute_reply": "2021-07-23T13:55:57.209623Z",
     "shell.execute_reply.started": "2021-07-23T13:29:47.762994Z"
    },
    "papermill": {
     "duration": 0.080636,
     "end_time": "2021-07-23T13:55:57.210342",
     "exception": false,
     "start_time": "2021-07-23T13:55:57.129706",
     "status": "completed"
    },
    "tags": []
   },
   "outputs": [],
   "source": [
    "train['Pclass'] = train['Pclass'].astype(str)\n",
    "test['Pclass'] = test['Pclass'].astype(str)"
   ]
  },
  {
   "cell_type": "code",
   "execution_count": 23,
   "id": "d18d5905",
   "metadata": {
    "execution": {
     "iopub.execute_input": "2021-07-23T13:55:57.359244Z",
     "iopub.status.busy": "2021-07-23T13:55:57.358500Z",
     "iopub.status.idle": "2021-07-23T13:55:57.373607Z",
     "shell.execute_reply": "2021-07-23T13:55:57.374143Z",
     "shell.execute_reply.started": "2021-07-23T13:29:56.146014Z"
    },
    "papermill": {
     "duration": 0.094931,
     "end_time": "2021-07-23T13:55:57.374353",
     "exception": false,
     "start_time": "2021-07-23T13:55:57.279422",
     "status": "completed"
    },
    "tags": []
   },
   "outputs": [],
   "source": [
    "train = pd.get_dummies(train, columns=['Sex','Embarked','Pclass','Title'], drop_first=True)\n",
    "test = pd.get_dummies(test, columns=['Sex','Embarked','Pclass','Title'], drop_first=True)"
   ]
  },
  {
   "cell_type": "code",
   "execution_count": 24,
   "id": "57563643",
   "metadata": {
    "execution": {
     "iopub.execute_input": "2021-07-23T13:55:57.519739Z",
     "iopub.status.busy": "2021-07-23T13:55:57.519086Z",
     "iopub.status.idle": "2021-07-23T13:55:57.526741Z",
     "shell.execute_reply": "2021-07-23T13:55:57.527257Z",
     "shell.execute_reply.started": "2021-07-23T13:30:03.006754Z"
    },
    "papermill": {
     "duration": 0.08131,
     "end_time": "2021-07-23T13:55:57.527441",
     "exception": false,
     "start_time": "2021-07-23T13:55:57.446131",
     "status": "completed"
    },
    "tags": []
   },
   "outputs": [
    {
     "data": {
      "text/plain": [
       "Survived                  int64\n",
       "Age                     float64\n",
       "SibSp                     int64\n",
       "Parch                     int64\n",
       "Fare                    float64\n",
       "FamilySize                int64\n",
       "Sex_male                  uint8\n",
       "Embarked_Queenstown       uint8\n",
       "Embarked_Southampton      uint8\n",
       "Pclass_2                  uint8\n",
       "Pclass_3                  uint8\n",
       "Title_Col                 uint8\n",
       "Title_Don                 uint8\n",
       "Title_Dr                  uint8\n",
       "Title_Jonkheer            uint8\n",
       "Title_Lady                uint8\n",
       "Title_Major               uint8\n",
       "Title_Master              uint8\n",
       "Title_Miss                uint8\n",
       "Title_Mlle                uint8\n",
       "Title_Mme                 uint8\n",
       "Title_Mr                  uint8\n",
       "Title_Mrs                 uint8\n",
       "Title_Ms                  uint8\n",
       "Title_Rev                 uint8\n",
       "Title_Sir                 uint8\n",
       "Title_the Countess        uint8\n",
       "dtype: object"
      ]
     },
     "execution_count": 24,
     "metadata": {},
     "output_type": "execute_result"
    }
   ],
   "source": [
    "train.dtypes"
   ]
  },
  {
   "cell_type": "code",
   "execution_count": 25,
   "id": "5fef95dd",
   "metadata": {
    "execution": {
     "iopub.execute_input": "2021-07-23T13:55:57.671502Z",
     "iopub.status.busy": "2021-07-23T13:55:57.670791Z",
     "iopub.status.idle": "2021-07-23T13:55:58.023911Z",
     "shell.execute_reply": "2021-07-23T13:55:58.024411Z",
     "shell.execute_reply.started": "2021-07-23T13:30:19.787498Z"
    },
    "papermill": {
     "duration": 0.427738,
     "end_time": "2021-07-23T13:55:58.024600",
     "exception": false,
     "start_time": "2021-07-23T13:55:57.596862",
     "status": "completed"
    },
    "tags": []
   },
   "outputs": [],
   "source": [
    "from sklearn.neighbors import KNeighborsRegressor"
   ]
  },
  {
   "cell_type": "code",
   "execution_count": 26,
   "id": "0010d831",
   "metadata": {
    "execution": {
     "iopub.execute_input": "2021-07-23T13:55:58.168753Z",
     "iopub.status.busy": "2021-07-23T13:55:58.168106Z",
     "iopub.status.idle": "2021-07-23T13:55:58.257441Z",
     "shell.execute_reply": "2021-07-23T13:55:58.258159Z",
     "shell.execute_reply.started": "2021-07-23T13:30:25.031044Z"
    },
    "papermill": {
     "duration": 0.162924,
     "end_time": "2021-07-23T13:55:58.258377",
     "exception": false,
     "start_time": "2021-07-23T13:55:58.095453",
     "status": "completed"
    },
    "tags": []
   },
   "outputs": [
    {
     "data": {
      "text/html": [
       "<div>\n",
       "<style scoped>\n",
       "    .dataframe tbody tr th:only-of-type {\n",
       "        vertical-align: middle;\n",
       "    }\n",
       "\n",
       "    .dataframe tbody tr th {\n",
       "        vertical-align: top;\n",
       "    }\n",
       "\n",
       "    .dataframe thead th {\n",
       "        text-align: right;\n",
       "    }\n",
       "</style>\n",
       "<table border=\"1\" class=\"dataframe\">\n",
       "  <thead>\n",
       "    <tr style=\"text-align: right;\">\n",
       "      <th></th>\n",
       "      <th>Survived</th>\n",
       "      <th>SibSp</th>\n",
       "      <th>Parch</th>\n",
       "      <th>Fare</th>\n",
       "      <th>FamilySize</th>\n",
       "      <th>Sex_male</th>\n",
       "      <th>Embarked_Queenstown</th>\n",
       "      <th>Embarked_Southampton</th>\n",
       "      <th>Pclass_2</th>\n",
       "      <th>Pclass_3</th>\n",
       "      <th>...</th>\n",
       "      <th>Title_Master</th>\n",
       "      <th>Title_Miss</th>\n",
       "      <th>Title_Mlle</th>\n",
       "      <th>Title_Mme</th>\n",
       "      <th>Title_Mr</th>\n",
       "      <th>Title_Mrs</th>\n",
       "      <th>Title_Ms</th>\n",
       "      <th>Title_Rev</th>\n",
       "      <th>Title_Sir</th>\n",
       "      <th>Title_the Countess</th>\n",
       "    </tr>\n",
       "  </thead>\n",
       "  <tbody>\n",
       "    <tr>\n",
       "      <th>count</th>\n",
       "      <td>177.000000</td>\n",
       "      <td>177.000000</td>\n",
       "      <td>177.000000</td>\n",
       "      <td>177.000000</td>\n",
       "      <td>177.000000</td>\n",
       "      <td>177.000000</td>\n",
       "      <td>177.000000</td>\n",
       "      <td>177.000000</td>\n",
       "      <td>177.000000</td>\n",
       "      <td>177.000000</td>\n",
       "      <td>...</td>\n",
       "      <td>177.000000</td>\n",
       "      <td>177.000000</td>\n",
       "      <td>177.0</td>\n",
       "      <td>177.0</td>\n",
       "      <td>177.000000</td>\n",
       "      <td>177.000000</td>\n",
       "      <td>177.0</td>\n",
       "      <td>177.0</td>\n",
       "      <td>177.0</td>\n",
       "      <td>177.0</td>\n",
       "    </tr>\n",
       "    <tr>\n",
       "      <th>mean</th>\n",
       "      <td>0.293785</td>\n",
       "      <td>0.564972</td>\n",
       "      <td>0.180791</td>\n",
       "      <td>22.158567</td>\n",
       "      <td>0.745763</td>\n",
       "      <td>0.700565</td>\n",
       "      <td>0.276836</td>\n",
       "      <td>0.508475</td>\n",
       "      <td>0.062147</td>\n",
       "      <td>0.768362</td>\n",
       "      <td>...</td>\n",
       "      <td>0.022599</td>\n",
       "      <td>0.203390</td>\n",
       "      <td>0.0</td>\n",
       "      <td>0.0</td>\n",
       "      <td>0.672316</td>\n",
       "      <td>0.096045</td>\n",
       "      <td>0.0</td>\n",
       "      <td>0.0</td>\n",
       "      <td>0.0</td>\n",
       "      <td>0.0</td>\n",
       "    </tr>\n",
       "    <tr>\n",
       "      <th>std</th>\n",
       "      <td>0.456787</td>\n",
       "      <td>1.626316</td>\n",
       "      <td>0.534145</td>\n",
       "      <td>31.874608</td>\n",
       "      <td>2.052658</td>\n",
       "      <td>0.459310</td>\n",
       "      <td>0.448704</td>\n",
       "      <td>0.501346</td>\n",
       "      <td>0.242107</td>\n",
       "      <td>0.423076</td>\n",
       "      <td>...</td>\n",
       "      <td>0.149042</td>\n",
       "      <td>0.403662</td>\n",
       "      <td>0.0</td>\n",
       "      <td>0.0</td>\n",
       "      <td>0.470700</td>\n",
       "      <td>0.295489</td>\n",
       "      <td>0.0</td>\n",
       "      <td>0.0</td>\n",
       "      <td>0.0</td>\n",
       "      <td>0.0</td>\n",
       "    </tr>\n",
       "    <tr>\n",
       "      <th>min</th>\n",
       "      <td>0.000000</td>\n",
       "      <td>0.000000</td>\n",
       "      <td>0.000000</td>\n",
       "      <td>0.000000</td>\n",
       "      <td>0.000000</td>\n",
       "      <td>0.000000</td>\n",
       "      <td>0.000000</td>\n",
       "      <td>0.000000</td>\n",
       "      <td>0.000000</td>\n",
       "      <td>0.000000</td>\n",
       "      <td>...</td>\n",
       "      <td>0.000000</td>\n",
       "      <td>0.000000</td>\n",
       "      <td>0.0</td>\n",
       "      <td>0.0</td>\n",
       "      <td>0.000000</td>\n",
       "      <td>0.000000</td>\n",
       "      <td>0.0</td>\n",
       "      <td>0.0</td>\n",
       "      <td>0.0</td>\n",
       "      <td>0.0</td>\n",
       "    </tr>\n",
       "    <tr>\n",
       "      <th>25%</th>\n",
       "      <td>0.000000</td>\n",
       "      <td>0.000000</td>\n",
       "      <td>0.000000</td>\n",
       "      <td>7.750000</td>\n",
       "      <td>0.000000</td>\n",
       "      <td>0.000000</td>\n",
       "      <td>0.000000</td>\n",
       "      <td>0.000000</td>\n",
       "      <td>0.000000</td>\n",
       "      <td>1.000000</td>\n",
       "      <td>...</td>\n",
       "      <td>0.000000</td>\n",
       "      <td>0.000000</td>\n",
       "      <td>0.0</td>\n",
       "      <td>0.0</td>\n",
       "      <td>0.000000</td>\n",
       "      <td>0.000000</td>\n",
       "      <td>0.0</td>\n",
       "      <td>0.0</td>\n",
       "      <td>0.0</td>\n",
       "      <td>0.0</td>\n",
       "    </tr>\n",
       "    <tr>\n",
       "      <th>50%</th>\n",
       "      <td>0.000000</td>\n",
       "      <td>0.000000</td>\n",
       "      <td>0.000000</td>\n",
       "      <td>8.050000</td>\n",
       "      <td>0.000000</td>\n",
       "      <td>1.000000</td>\n",
       "      <td>0.000000</td>\n",
       "      <td>1.000000</td>\n",
       "      <td>0.000000</td>\n",
       "      <td>1.000000</td>\n",
       "      <td>...</td>\n",
       "      <td>0.000000</td>\n",
       "      <td>0.000000</td>\n",
       "      <td>0.0</td>\n",
       "      <td>0.0</td>\n",
       "      <td>1.000000</td>\n",
       "      <td>0.000000</td>\n",
       "      <td>0.0</td>\n",
       "      <td>0.0</td>\n",
       "      <td>0.0</td>\n",
       "      <td>0.0</td>\n",
       "    </tr>\n",
       "    <tr>\n",
       "      <th>75%</th>\n",
       "      <td>1.000000</td>\n",
       "      <td>0.000000</td>\n",
       "      <td>0.000000</td>\n",
       "      <td>24.150000</td>\n",
       "      <td>0.000000</td>\n",
       "      <td>1.000000</td>\n",
       "      <td>1.000000</td>\n",
       "      <td>1.000000</td>\n",
       "      <td>0.000000</td>\n",
       "      <td>1.000000</td>\n",
       "      <td>...</td>\n",
       "      <td>0.000000</td>\n",
       "      <td>0.000000</td>\n",
       "      <td>0.0</td>\n",
       "      <td>0.0</td>\n",
       "      <td>1.000000</td>\n",
       "      <td>0.000000</td>\n",
       "      <td>0.0</td>\n",
       "      <td>0.0</td>\n",
       "      <td>0.0</td>\n",
       "      <td>0.0</td>\n",
       "    </tr>\n",
       "    <tr>\n",
       "      <th>max</th>\n",
       "      <td>1.000000</td>\n",
       "      <td>8.000000</td>\n",
       "      <td>2.000000</td>\n",
       "      <td>227.525000</td>\n",
       "      <td>10.000000</td>\n",
       "      <td>1.000000</td>\n",
       "      <td>1.000000</td>\n",
       "      <td>1.000000</td>\n",
       "      <td>1.000000</td>\n",
       "      <td>1.000000</td>\n",
       "      <td>...</td>\n",
       "      <td>1.000000</td>\n",
       "      <td>1.000000</td>\n",
       "      <td>0.0</td>\n",
       "      <td>0.0</td>\n",
       "      <td>1.000000</td>\n",
       "      <td>1.000000</td>\n",
       "      <td>0.0</td>\n",
       "      <td>0.0</td>\n",
       "      <td>0.0</td>\n",
       "      <td>0.0</td>\n",
       "    </tr>\n",
       "  </tbody>\n",
       "</table>\n",
       "<p>8 rows × 26 columns</p>\n",
       "</div>"
      ],
      "text/plain": [
       "         Survived       SibSp       Parch        Fare  FamilySize    Sex_male  \\\n",
       "count  177.000000  177.000000  177.000000  177.000000  177.000000  177.000000   \n",
       "mean     0.293785    0.564972    0.180791   22.158567    0.745763    0.700565   \n",
       "std      0.456787    1.626316    0.534145   31.874608    2.052658    0.459310   \n",
       "min      0.000000    0.000000    0.000000    0.000000    0.000000    0.000000   \n",
       "25%      0.000000    0.000000    0.000000    7.750000    0.000000    0.000000   \n",
       "50%      0.000000    0.000000    0.000000    8.050000    0.000000    1.000000   \n",
       "75%      1.000000    0.000000    0.000000   24.150000    0.000000    1.000000   \n",
       "max      1.000000    8.000000    2.000000  227.525000   10.000000    1.000000   \n",
       "\n",
       "       Embarked_Queenstown  Embarked_Southampton    Pclass_2    Pclass_3  ...  \\\n",
       "count           177.000000            177.000000  177.000000  177.000000  ...   \n",
       "mean              0.276836              0.508475    0.062147    0.768362  ...   \n",
       "std               0.448704              0.501346    0.242107    0.423076  ...   \n",
       "min               0.000000              0.000000    0.000000    0.000000  ...   \n",
       "25%               0.000000              0.000000    0.000000    1.000000  ...   \n",
       "50%               0.000000              1.000000    0.000000    1.000000  ...   \n",
       "75%               1.000000              1.000000    0.000000    1.000000  ...   \n",
       "max               1.000000              1.000000    1.000000    1.000000  ...   \n",
       "\n",
       "       Title_Master  Title_Miss  Title_Mlle  Title_Mme    Title_Mr  \\\n",
       "count    177.000000  177.000000       177.0      177.0  177.000000   \n",
       "mean       0.022599    0.203390         0.0        0.0    0.672316   \n",
       "std        0.149042    0.403662         0.0        0.0    0.470700   \n",
       "min        0.000000    0.000000         0.0        0.0    0.000000   \n",
       "25%        0.000000    0.000000         0.0        0.0    0.000000   \n",
       "50%        0.000000    0.000000         0.0        0.0    1.000000   \n",
       "75%        0.000000    0.000000         0.0        0.0    1.000000   \n",
       "max        1.000000    1.000000         0.0        0.0    1.000000   \n",
       "\n",
       "        Title_Mrs  Title_Ms  Title_Rev  Title_Sir  Title_the Countess  \n",
       "count  177.000000     177.0      177.0      177.0               177.0  \n",
       "mean     0.096045       0.0        0.0        0.0                 0.0  \n",
       "std      0.295489       0.0        0.0        0.0                 0.0  \n",
       "min      0.000000       0.0        0.0        0.0                 0.0  \n",
       "25%      0.000000       0.0        0.0        0.0                 0.0  \n",
       "50%      0.000000       0.0        0.0        0.0                 0.0  \n",
       "75%      0.000000       0.0        0.0        0.0                 0.0  \n",
       "max      1.000000       0.0        0.0        0.0                 0.0  \n",
       "\n",
       "[8 rows x 26 columns]"
      ]
     },
     "execution_count": 26,
     "metadata": {},
     "output_type": "execute_result"
    }
   ],
   "source": [
    "# train\n",
    "impute_train = train[train.Age.isnull()].drop(['Age'], axis=1)\n",
    "impute_train.describe()"
   ]
  },
  {
   "cell_type": "code",
   "execution_count": 27,
   "id": "8d5f6e17",
   "metadata": {
    "execution": {
     "iopub.execute_input": "2021-07-23T13:55:58.407815Z",
     "iopub.status.busy": "2021-07-23T13:55:58.407121Z",
     "iopub.status.idle": "2021-07-23T13:55:58.463367Z",
     "shell.execute_reply": "2021-07-23T13:55:58.463910Z",
     "shell.execute_reply.started": "2021-07-23T13:30:34.857906Z"
    },
    "papermill": {
     "duration": 0.134671,
     "end_time": "2021-07-23T13:55:58.464103",
     "exception": false,
     "start_time": "2021-07-23T13:55:58.329432",
     "status": "completed"
    },
    "tags": []
   },
   "outputs": [
    {
     "data": {
      "text/html": [
       "<div>\n",
       "<style scoped>\n",
       "    .dataframe tbody tr th:only-of-type {\n",
       "        vertical-align: middle;\n",
       "    }\n",
       "\n",
       "    .dataframe tbody tr th {\n",
       "        vertical-align: top;\n",
       "    }\n",
       "\n",
       "    .dataframe thead th {\n",
       "        text-align: right;\n",
       "    }\n",
       "</style>\n",
       "<table border=\"1\" class=\"dataframe\">\n",
       "  <thead>\n",
       "    <tr style=\"text-align: right;\">\n",
       "      <th></th>\n",
       "      <th>SibSp</th>\n",
       "      <th>Parch</th>\n",
       "      <th>Fare</th>\n",
       "      <th>FamilySize</th>\n",
       "      <th>Sex_male</th>\n",
       "      <th>Pclass_2</th>\n",
       "      <th>Pclass_3</th>\n",
       "      <th>Title_Dona</th>\n",
       "      <th>Title_Dr</th>\n",
       "      <th>Title_Master</th>\n",
       "      <th>Title_Miss</th>\n",
       "      <th>Title_Mr</th>\n",
       "      <th>Title_Mrs</th>\n",
       "      <th>Title_Ms</th>\n",
       "      <th>Title_Rev</th>\n",
       "    </tr>\n",
       "  </thead>\n",
       "  <tbody>\n",
       "    <tr>\n",
       "      <th>count</th>\n",
       "      <td>86.000000</td>\n",
       "      <td>86.000000</td>\n",
       "      <td>86.000000</td>\n",
       "      <td>86.000000</td>\n",
       "      <td>86.000000</td>\n",
       "      <td>86.00000</td>\n",
       "      <td>86.000000</td>\n",
       "      <td>86.0</td>\n",
       "      <td>86.0</td>\n",
       "      <td>86.000000</td>\n",
       "      <td>86.000000</td>\n",
       "      <td>86.000000</td>\n",
       "      <td>86.000000</td>\n",
       "      <td>86.000000</td>\n",
       "      <td>86.0</td>\n",
       "    </tr>\n",
       "    <tr>\n",
       "      <th>mean</th>\n",
       "      <td>0.313953</td>\n",
       "      <td>0.372093</td>\n",
       "      <td>15.017055</td>\n",
       "      <td>0.686047</td>\n",
       "      <td>0.709302</td>\n",
       "      <td>0.05814</td>\n",
       "      <td>0.837209</td>\n",
       "      <td>0.0</td>\n",
       "      <td>0.0</td>\n",
       "      <td>0.046512</td>\n",
       "      <td>0.162791</td>\n",
       "      <td>0.662791</td>\n",
       "      <td>0.116279</td>\n",
       "      <td>0.011628</td>\n",
       "      <td>0.0</td>\n",
       "    </tr>\n",
       "    <tr>\n",
       "      <th>std</th>\n",
       "      <td>0.973310</td>\n",
       "      <td>1.471666</td>\n",
       "      <td>14.184527</td>\n",
       "      <td>1.953950</td>\n",
       "      <td>0.456748</td>\n",
       "      <td>0.23538</td>\n",
       "      <td>0.371340</td>\n",
       "      <td>0.0</td>\n",
       "      <td>0.0</td>\n",
       "      <td>0.211825</td>\n",
       "      <td>0.371340</td>\n",
       "      <td>0.475530</td>\n",
       "      <td>0.322439</td>\n",
       "      <td>0.107833</td>\n",
       "      <td>0.0</td>\n",
       "    </tr>\n",
       "    <tr>\n",
       "      <th>min</th>\n",
       "      <td>0.000000</td>\n",
       "      <td>0.000000</td>\n",
       "      <td>0.000000</td>\n",
       "      <td>0.000000</td>\n",
       "      <td>0.000000</td>\n",
       "      <td>0.00000</td>\n",
       "      <td>0.000000</td>\n",
       "      <td>0.0</td>\n",
       "      <td>0.0</td>\n",
       "      <td>0.000000</td>\n",
       "      <td>0.000000</td>\n",
       "      <td>0.000000</td>\n",
       "      <td>0.000000</td>\n",
       "      <td>0.000000</td>\n",
       "      <td>0.0</td>\n",
       "    </tr>\n",
       "    <tr>\n",
       "      <th>25%</th>\n",
       "      <td>0.000000</td>\n",
       "      <td>0.000000</td>\n",
       "      <td>7.750000</td>\n",
       "      <td>0.000000</td>\n",
       "      <td>0.000000</td>\n",
       "      <td>0.00000</td>\n",
       "      <td>1.000000</td>\n",
       "      <td>0.0</td>\n",
       "      <td>0.0</td>\n",
       "      <td>0.000000</td>\n",
       "      <td>0.000000</td>\n",
       "      <td>0.000000</td>\n",
       "      <td>0.000000</td>\n",
       "      <td>0.000000</td>\n",
       "      <td>0.0</td>\n",
       "    </tr>\n",
       "    <tr>\n",
       "      <th>50%</th>\n",
       "      <td>0.000000</td>\n",
       "      <td>0.000000</td>\n",
       "      <td>7.972900</td>\n",
       "      <td>0.000000</td>\n",
       "      <td>1.000000</td>\n",
       "      <td>0.00000</td>\n",
       "      <td>1.000000</td>\n",
       "      <td>0.0</td>\n",
       "      <td>0.0</td>\n",
       "      <td>0.000000</td>\n",
       "      <td>0.000000</td>\n",
       "      <td>1.000000</td>\n",
       "      <td>0.000000</td>\n",
       "      <td>0.000000</td>\n",
       "      <td>0.0</td>\n",
       "    </tr>\n",
       "    <tr>\n",
       "      <th>75%</th>\n",
       "      <td>0.000000</td>\n",
       "      <td>0.000000</td>\n",
       "      <td>15.559400</td>\n",
       "      <td>0.000000</td>\n",
       "      <td>1.000000</td>\n",
       "      <td>0.00000</td>\n",
       "      <td>1.000000</td>\n",
       "      <td>0.0</td>\n",
       "      <td>0.0</td>\n",
       "      <td>0.000000</td>\n",
       "      <td>0.000000</td>\n",
       "      <td>1.000000</td>\n",
       "      <td>0.000000</td>\n",
       "      <td>0.000000</td>\n",
       "      <td>0.0</td>\n",
       "    </tr>\n",
       "    <tr>\n",
       "      <th>max</th>\n",
       "      <td>8.000000</td>\n",
       "      <td>9.000000</td>\n",
       "      <td>69.550000</td>\n",
       "      <td>10.000000</td>\n",
       "      <td>1.000000</td>\n",
       "      <td>1.00000</td>\n",
       "      <td>1.000000</td>\n",
       "      <td>0.0</td>\n",
       "      <td>0.0</td>\n",
       "      <td>1.000000</td>\n",
       "      <td>1.000000</td>\n",
       "      <td>1.000000</td>\n",
       "      <td>1.000000</td>\n",
       "      <td>1.000000</td>\n",
       "      <td>0.0</td>\n",
       "    </tr>\n",
       "  </tbody>\n",
       "</table>\n",
       "</div>"
      ],
      "text/plain": [
       "           SibSp      Parch       Fare  FamilySize   Sex_male  Pclass_2  \\\n",
       "count  86.000000  86.000000  86.000000   86.000000  86.000000  86.00000   \n",
       "mean    0.313953   0.372093  15.017055    0.686047   0.709302   0.05814   \n",
       "std     0.973310   1.471666  14.184527    1.953950   0.456748   0.23538   \n",
       "min     0.000000   0.000000   0.000000    0.000000   0.000000   0.00000   \n",
       "25%     0.000000   0.000000   7.750000    0.000000   0.000000   0.00000   \n",
       "50%     0.000000   0.000000   7.972900    0.000000   1.000000   0.00000   \n",
       "75%     0.000000   0.000000  15.559400    0.000000   1.000000   0.00000   \n",
       "max     8.000000   9.000000  69.550000   10.000000   1.000000   1.00000   \n",
       "\n",
       "        Pclass_3  Title_Dona  Title_Dr  Title_Master  Title_Miss   Title_Mr  \\\n",
       "count  86.000000        86.0      86.0     86.000000   86.000000  86.000000   \n",
       "mean    0.837209         0.0       0.0      0.046512    0.162791   0.662791   \n",
       "std     0.371340         0.0       0.0      0.211825    0.371340   0.475530   \n",
       "min     0.000000         0.0       0.0      0.000000    0.000000   0.000000   \n",
       "25%     1.000000         0.0       0.0      0.000000    0.000000   0.000000   \n",
       "50%     1.000000         0.0       0.0      0.000000    0.000000   1.000000   \n",
       "75%     1.000000         0.0       0.0      0.000000    0.000000   1.000000   \n",
       "max     1.000000         0.0       0.0      1.000000    1.000000   1.000000   \n",
       "\n",
       "       Title_Mrs   Title_Ms  Title_Rev  \n",
       "count  86.000000  86.000000       86.0  \n",
       "mean    0.116279   0.011628        0.0  \n",
       "std     0.322439   0.107833        0.0  \n",
       "min     0.000000   0.000000        0.0  \n",
       "25%     0.000000   0.000000        0.0  \n",
       "50%     0.000000   0.000000        0.0  \n",
       "75%     0.000000   0.000000        0.0  \n",
       "max     1.000000   1.000000        0.0  "
      ]
     },
     "execution_count": 27,
     "metadata": {},
     "output_type": "execute_result"
    }
   ],
   "source": [
    "# test\n",
    "impute_test = test[test.Age.isnull()].drop(['Age'], axis=1)\n",
    "impute_test.describe()"
   ]
  },
  {
   "cell_type": "code",
   "execution_count": 28,
   "id": "c6f9bee9",
   "metadata": {
    "execution": {
     "iopub.execute_input": "2021-07-23T13:55:58.613732Z",
     "iopub.status.busy": "2021-07-23T13:55:58.613061Z",
     "iopub.status.idle": "2021-07-23T13:55:58.618278Z",
     "shell.execute_reply": "2021-07-23T13:55:58.617728Z",
     "shell.execute_reply.started": "2021-07-23T13:30:53.412292Z"
    },
    "papermill": {
     "duration": 0.083123,
     "end_time": "2021-07-23T13:55:58.618425",
     "exception": false,
     "start_time": "2021-07-23T13:55:58.535302",
     "status": "completed"
    },
    "tags": []
   },
   "outputs": [],
   "source": [
    "# train\n",
    "knr = KNeighborsRegressor()\n",
    "titanic_knn_train = train[train.Age.notnull()]\n",
    "X_train = titanic_knn_train.drop(['Age'], axis = 1)\n",
    "y_train = titanic_knn_train.Age"
   ]
  },
  {
   "cell_type": "code",
   "execution_count": 29,
   "id": "1cfa8479",
   "metadata": {
    "execution": {
     "iopub.execute_input": "2021-07-23T13:55:58.767448Z",
     "iopub.status.busy": "2021-07-23T13:55:58.766744Z",
     "iopub.status.idle": "2021-07-23T13:55:58.777690Z",
     "shell.execute_reply": "2021-07-23T13:55:58.777099Z",
     "shell.execute_reply.started": "2021-07-23T13:31:08.816587Z"
    },
    "papermill": {
     "duration": 0.088592,
     "end_time": "2021-07-23T13:55:58.777873",
     "exception": false,
     "start_time": "2021-07-23T13:55:58.689281",
     "status": "completed"
    },
    "tags": []
   },
   "outputs": [
    {
     "data": {
      "text/plain": [
       "KNeighborsRegressor()"
      ]
     },
     "execution_count": 29,
     "metadata": {},
     "output_type": "execute_result"
    }
   ],
   "source": [
    "knr.fit(X_train, y_train)"
   ]
  },
  {
   "cell_type": "code",
   "execution_count": 30,
   "id": "03374374",
   "metadata": {
    "execution": {
     "iopub.execute_input": "2021-07-23T13:55:58.929034Z",
     "iopub.status.busy": "2021-07-23T13:55:58.928325Z",
     "iopub.status.idle": "2021-07-23T13:55:58.937661Z",
     "shell.execute_reply": "2021-07-23T13:55:58.938195Z",
     "shell.execute_reply.started": "2021-07-23T13:31:13.787002Z"
    },
    "papermill": {
     "duration": 0.088724,
     "end_time": "2021-07-23T13:55:58.938376",
     "exception": false,
     "start_time": "2021-07-23T13:55:58.849652",
     "status": "completed"
    },
    "tags": []
   },
   "outputs": [
    {
     "data": {
      "text/plain": [
       "array([47.8  , 29.8  , 18.4  , 32.8  , 17.6  , 33.   , 21.584, 17.6  ,\n",
       "       24.6  , 28.7  , 30.3  , 31.4  , 17.6  , 27.   , 49.4  , 46.7  ,\n",
       "        8.334, 33.   , 30.3  , 17.6  , 30.3  , 30.3  , 33.   , 32.6  ,\n",
       "       22.   , 30.3  , 47.8  , 17.4  , 27.   , 34.8  , 27.6  , 34.2  ,\n",
       "       29.2  , 58.8  , 14.2  , 39.   , 40.   , 45.4  , 28.8  , 47.8  ,\n",
       "       17.6  , 34.2  , 47.8  , 33.   , 12.6  , 26.6  , 17.1  , 18.9  ,\n",
       "       34.8  , 39.8  , 47.8  , 21.5  , 45.6  , 17.6  , 36.6  , 58.8  ,\n",
       "       46.7  , 43.4  , 17.6  , 29.6  , 29.   , 30.3  , 25.6  , 34.2  ,\n",
       "       24.4  , 40.4  , 33.   , 29.6  , 50.4  , 32.8  , 17.6  , 17.6  ,\n",
       "       31.4  , 18.4  , 17.6  , 36.4  , 33.   , 44.4  , 12.6  , 33.   ,\n",
       "       40.1  , 36.6  , 25.4  , 28.7  , 34.8  , 47.8  , 29.6  , 26.   ,\n",
       "       26.   , 30.3  , 40.6  , 47.8  , 30.3  , 36.6  , 44.4  , 34.8  ,\n",
       "       41.   , 36.6  , 12.6  , 26.   , 22.4  , 30.3  , 20.3  , 41.2  ,\n",
       "       30.3  , 41.6  , 32.8  , 29.9  , 30.8  , 29.9  , 24.   , 33.5  ,\n",
       "       39.   , 47.8  , 30.8  , 47.8  , 30.3  , 22.8  , 29.9  , 17.6  ,\n",
       "       29.5  , 31.2  , 30.3  , 18.484, 37.2  , 32.8  , 33.   , 34.4  ,\n",
       "       28.6  , 18.9  , 47.8  , 44.4  , 36.6  , 30.   , 29.8  , 28.6  ,\n",
       "       33.   , 17.6  , 33.   , 34.4  , 40.6  , 36.6  , 20.3  , 29.8  ,\n",
       "       17.6  ,  8.334, 61.8  , 25.5  , 17.6  , 36.6  , 33.   , 33.   ,\n",
       "       43.4  , 33.5  , 41.4  , 31.4  , 32.8  , 47.8  , 44.4  , 20.8  ,\n",
       "       47.8  , 39.   , 47.   , 36.6  , 40.1  , 33.6  , 47.2  , 29.9  ,\n",
       "       30.3  , 46.2  , 34.2  , 34.8  , 29.9  , 39.   , 24.2  , 33.   ,\n",
       "       16.8  ])"
      ]
     },
     "execution_count": 30,
     "metadata": {},
     "output_type": "execute_result"
    }
   ],
   "source": [
    "imputed_train_ages = knr.predict(impute_train)\n",
    "imputed_train_ages"
   ]
  },
  {
   "cell_type": "code",
   "execution_count": 31,
   "id": "90d20350",
   "metadata": {
    "execution": {
     "iopub.execute_input": "2021-07-23T13:55:59.087197Z",
     "iopub.status.busy": "2021-07-23T13:55:59.086421Z",
     "iopub.status.idle": "2021-07-23T13:55:59.093765Z",
     "shell.execute_reply": "2021-07-23T13:55:59.094343Z",
     "shell.execute_reply.started": "2021-07-23T13:31:28.664800Z"
    },
    "papermill": {
     "duration": 0.084072,
     "end_time": "2021-07-23T13:55:59.094538",
     "exception": false,
     "start_time": "2021-07-23T13:55:59.010466",
     "status": "completed"
    },
    "tags": []
   },
   "outputs": [],
   "source": [
    "# test\n",
    "knr = KNeighborsRegressor()\n",
    "titanic_knn_test = test[test.Age.notnull()]\n",
    "X_test = titanic_knn_test.drop(['Age'], axis = 1)\n",
    "y_test = titanic_knn_test.Age"
   ]
  },
  {
   "cell_type": "code",
   "execution_count": 32,
   "id": "b5ed72c5",
   "metadata": {
    "execution": {
     "iopub.execute_input": "2021-07-23T13:55:59.242379Z",
     "iopub.status.busy": "2021-07-23T13:55:59.241708Z",
     "iopub.status.idle": "2021-07-23T13:55:59.257446Z",
     "shell.execute_reply": "2021-07-23T13:55:59.256910Z",
     "shell.execute_reply.started": "2021-07-23T13:31:34.557840Z"
    },
    "papermill": {
     "duration": 0.090488,
     "end_time": "2021-07-23T13:55:59.257601",
     "exception": false,
     "start_time": "2021-07-23T13:55:59.167113",
     "status": "completed"
    },
    "tags": []
   },
   "outputs": [
    {
     "data": {
      "text/plain": [
       "array([25.2  , 37.2  , 28.8  , 22.   , 23.   , 37.4  , 42.6  , 23.6  ,\n",
       "       33.7  , 32.8  , 27.   , 27.8  , 25.2  , 22.   , 34.1  , 27.4  ,\n",
       "       25.   , 27.8  , 23.6  , 23.6  , 22.6  , 25.8  , 24.   , 22.6  ,\n",
       "       23.6  , 24.8  , 26.384, 22.9  , 41.4  , 42.6  , 25.2  , 24.4  ,\n",
       "       24.   , 44.5  , 26.   , 22.7  , 23.6  , 38.1  , 40.   , 28.4  ,\n",
       "       23.7  , 40.   , 24.   , 23.4  , 27.8  , 18.066, 27.4  , 25.   ,\n",
       "       25.2  , 19.6  , 26.8  , 26.   , 23.6  , 25.2  , 26.4  , 26.   ,\n",
       "       23.   , 23.6  , 15.2  , 23.4  , 27.4  , 29.   , 22.7  , 27.8  ,\n",
       "       36.4  , 22.7  , 28.8  , 31.4  , 27.4  , 26.   , 23.4  , 22.7  ,\n",
       "       34.3  ,  5.116, 25.   , 23.6  , 34.3  , 34.1  , 23.6  , 33.5  ,\n",
       "       30.   , 24.4  , 27.4  , 27.8  , 27.8  , 16.4  ])"
      ]
     },
     "execution_count": 32,
     "metadata": {},
     "output_type": "execute_result"
    }
   ],
   "source": [
    "X_test.isnull().sum()\n",
    "knr.fit(X_test, y_test)\n",
    "imputed_test_ages = knr.predict(impute_test)\n",
    "imputed_test_ages\n"
   ]
  },
  {
   "cell_type": "code",
   "execution_count": 33,
   "id": "b0a045f5",
   "metadata": {
    "execution": {
     "iopub.execute_input": "2021-07-23T13:55:59.407971Z",
     "iopub.status.busy": "2021-07-23T13:55:59.407297Z",
     "iopub.status.idle": "2021-07-23T13:55:59.410502Z",
     "shell.execute_reply": "2021-07-23T13:55:59.409765Z",
     "shell.execute_reply.started": "2021-07-23T13:31:47.124050Z"
    },
    "papermill": {
     "duration": 0.08098,
     "end_time": "2021-07-23T13:55:59.410646",
     "exception": false,
     "start_time": "2021-07-23T13:55:59.329666",
     "status": "completed"
    },
    "tags": []
   },
   "outputs": [],
   "source": [
    "# test\n",
    "impute_test['Age'] = imputed_test_ages"
   ]
  },
  {
   "cell_type": "code",
   "execution_count": 34,
   "id": "6c7cb4a7",
   "metadata": {
    "execution": {
     "iopub.execute_input": "2021-07-23T13:55:59.561092Z",
     "iopub.status.busy": "2021-07-23T13:55:59.560244Z",
     "iopub.status.idle": "2021-07-23T13:55:59.564715Z",
     "shell.execute_reply": "2021-07-23T13:55:59.565554Z",
     "shell.execute_reply.started": "2021-07-23T13:31:56.284561Z"
    },
    "papermill": {
     "duration": 0.0817,
     "end_time": "2021-07-23T13:55:59.565758",
     "exception": false,
     "start_time": "2021-07-23T13:55:59.484058",
     "status": "completed"
    },
    "tags": []
   },
   "outputs": [],
   "source": [
    "# train\n",
    "impute_train['Age'] = imputed_train_ages"
   ]
  },
  {
   "cell_type": "code",
   "execution_count": 35,
   "id": "c037c09f",
   "metadata": {
    "execution": {
     "iopub.execute_input": "2021-07-23T13:55:59.714064Z",
     "iopub.status.busy": "2021-07-23T13:55:59.713453Z",
     "iopub.status.idle": "2021-07-23T13:55:59.738571Z",
     "shell.execute_reply": "2021-07-23T13:55:59.739110Z",
     "shell.execute_reply.started": "2021-07-23T13:32:00.971024Z"
    },
    "papermill": {
     "duration": 0.100156,
     "end_time": "2021-07-23T13:55:59.739292",
     "exception": false,
     "start_time": "2021-07-23T13:55:59.639136",
     "status": "completed"
    },
    "tags": []
   },
   "outputs": [
    {
     "data": {
      "text/html": [
       "<div>\n",
       "<style scoped>\n",
       "    .dataframe tbody tr th:only-of-type {\n",
       "        vertical-align: middle;\n",
       "    }\n",
       "\n",
       "    .dataframe tbody tr th {\n",
       "        vertical-align: top;\n",
       "    }\n",
       "\n",
       "    .dataframe thead th {\n",
       "        text-align: right;\n",
       "    }\n",
       "</style>\n",
       "<table border=\"1\" class=\"dataframe\">\n",
       "  <thead>\n",
       "    <tr style=\"text-align: right;\">\n",
       "      <th></th>\n",
       "      <th>Survived</th>\n",
       "      <th>SibSp</th>\n",
       "      <th>Parch</th>\n",
       "      <th>Fare</th>\n",
       "      <th>FamilySize</th>\n",
       "      <th>Sex_male</th>\n",
       "      <th>Embarked_Queenstown</th>\n",
       "      <th>Embarked_Southampton</th>\n",
       "      <th>Pclass_2</th>\n",
       "      <th>Pclass_3</th>\n",
       "      <th>...</th>\n",
       "      <th>Title_Miss</th>\n",
       "      <th>Title_Mlle</th>\n",
       "      <th>Title_Mme</th>\n",
       "      <th>Title_Mr</th>\n",
       "      <th>Title_Mrs</th>\n",
       "      <th>Title_Ms</th>\n",
       "      <th>Title_Rev</th>\n",
       "      <th>Title_Sir</th>\n",
       "      <th>Title_the Countess</th>\n",
       "      <th>Age</th>\n",
       "    </tr>\n",
       "  </thead>\n",
       "  <tbody>\n",
       "    <tr>\n",
       "      <th>5</th>\n",
       "      <td>0</td>\n",
       "      <td>0</td>\n",
       "      <td>0</td>\n",
       "      <td>8.4583</td>\n",
       "      <td>0</td>\n",
       "      <td>1</td>\n",
       "      <td>1</td>\n",
       "      <td>0</td>\n",
       "      <td>0</td>\n",
       "      <td>1</td>\n",
       "      <td>...</td>\n",
       "      <td>0</td>\n",
       "      <td>0</td>\n",
       "      <td>0</td>\n",
       "      <td>1</td>\n",
       "      <td>0</td>\n",
       "      <td>0</td>\n",
       "      <td>0</td>\n",
       "      <td>0</td>\n",
       "      <td>0</td>\n",
       "      <td>47.800</td>\n",
       "    </tr>\n",
       "    <tr>\n",
       "      <th>17</th>\n",
       "      <td>1</td>\n",
       "      <td>0</td>\n",
       "      <td>0</td>\n",
       "      <td>13.0000</td>\n",
       "      <td>0</td>\n",
       "      <td>1</td>\n",
       "      <td>0</td>\n",
       "      <td>1</td>\n",
       "      <td>1</td>\n",
       "      <td>0</td>\n",
       "      <td>...</td>\n",
       "      <td>0</td>\n",
       "      <td>0</td>\n",
       "      <td>0</td>\n",
       "      <td>1</td>\n",
       "      <td>0</td>\n",
       "      <td>0</td>\n",
       "      <td>0</td>\n",
       "      <td>0</td>\n",
       "      <td>0</td>\n",
       "      <td>29.800</td>\n",
       "    </tr>\n",
       "    <tr>\n",
       "      <th>19</th>\n",
       "      <td>1</td>\n",
       "      <td>0</td>\n",
       "      <td>0</td>\n",
       "      <td>7.2250</td>\n",
       "      <td>0</td>\n",
       "      <td>0</td>\n",
       "      <td>0</td>\n",
       "      <td>0</td>\n",
       "      <td>0</td>\n",
       "      <td>1</td>\n",
       "      <td>...</td>\n",
       "      <td>0</td>\n",
       "      <td>0</td>\n",
       "      <td>0</td>\n",
       "      <td>0</td>\n",
       "      <td>1</td>\n",
       "      <td>0</td>\n",
       "      <td>0</td>\n",
       "      <td>0</td>\n",
       "      <td>0</td>\n",
       "      <td>18.400</td>\n",
       "    </tr>\n",
       "    <tr>\n",
       "      <th>26</th>\n",
       "      <td>0</td>\n",
       "      <td>0</td>\n",
       "      <td>0</td>\n",
       "      <td>7.2250</td>\n",
       "      <td>0</td>\n",
       "      <td>1</td>\n",
       "      <td>0</td>\n",
       "      <td>0</td>\n",
       "      <td>0</td>\n",
       "      <td>1</td>\n",
       "      <td>...</td>\n",
       "      <td>0</td>\n",
       "      <td>0</td>\n",
       "      <td>0</td>\n",
       "      <td>1</td>\n",
       "      <td>0</td>\n",
       "      <td>0</td>\n",
       "      <td>0</td>\n",
       "      <td>0</td>\n",
       "      <td>0</td>\n",
       "      <td>32.800</td>\n",
       "    </tr>\n",
       "    <tr>\n",
       "      <th>28</th>\n",
       "      <td>1</td>\n",
       "      <td>0</td>\n",
       "      <td>0</td>\n",
       "      <td>7.8792</td>\n",
       "      <td>0</td>\n",
       "      <td>0</td>\n",
       "      <td>1</td>\n",
       "      <td>0</td>\n",
       "      <td>0</td>\n",
       "      <td>1</td>\n",
       "      <td>...</td>\n",
       "      <td>1</td>\n",
       "      <td>0</td>\n",
       "      <td>0</td>\n",
       "      <td>0</td>\n",
       "      <td>0</td>\n",
       "      <td>0</td>\n",
       "      <td>0</td>\n",
       "      <td>0</td>\n",
       "      <td>0</td>\n",
       "      <td>17.600</td>\n",
       "    </tr>\n",
       "    <tr>\n",
       "      <th>29</th>\n",
       "      <td>0</td>\n",
       "      <td>0</td>\n",
       "      <td>0</td>\n",
       "      <td>7.8958</td>\n",
       "      <td>0</td>\n",
       "      <td>1</td>\n",
       "      <td>0</td>\n",
       "      <td>1</td>\n",
       "      <td>0</td>\n",
       "      <td>1</td>\n",
       "      <td>...</td>\n",
       "      <td>0</td>\n",
       "      <td>0</td>\n",
       "      <td>0</td>\n",
       "      <td>1</td>\n",
       "      <td>0</td>\n",
       "      <td>0</td>\n",
       "      <td>0</td>\n",
       "      <td>0</td>\n",
       "      <td>0</td>\n",
       "      <td>33.000</td>\n",
       "    </tr>\n",
       "    <tr>\n",
       "      <th>31</th>\n",
       "      <td>1</td>\n",
       "      <td>1</td>\n",
       "      <td>0</td>\n",
       "      <td>146.5208</td>\n",
       "      <td>1</td>\n",
       "      <td>0</td>\n",
       "      <td>0</td>\n",
       "      <td>0</td>\n",
       "      <td>0</td>\n",
       "      <td>0</td>\n",
       "      <td>...</td>\n",
       "      <td>0</td>\n",
       "      <td>0</td>\n",
       "      <td>0</td>\n",
       "      <td>0</td>\n",
       "      <td>1</td>\n",
       "      <td>0</td>\n",
       "      <td>0</td>\n",
       "      <td>0</td>\n",
       "      <td>0</td>\n",
       "      <td>21.584</td>\n",
       "    </tr>\n",
       "    <tr>\n",
       "      <th>32</th>\n",
       "      <td>1</td>\n",
       "      <td>0</td>\n",
       "      <td>0</td>\n",
       "      <td>7.7500</td>\n",
       "      <td>0</td>\n",
       "      <td>0</td>\n",
       "      <td>1</td>\n",
       "      <td>0</td>\n",
       "      <td>0</td>\n",
       "      <td>1</td>\n",
       "      <td>...</td>\n",
       "      <td>1</td>\n",
       "      <td>0</td>\n",
       "      <td>0</td>\n",
       "      <td>0</td>\n",
       "      <td>0</td>\n",
       "      <td>0</td>\n",
       "      <td>0</td>\n",
       "      <td>0</td>\n",
       "      <td>0</td>\n",
       "      <td>17.600</td>\n",
       "    </tr>\n",
       "    <tr>\n",
       "      <th>36</th>\n",
       "      <td>1</td>\n",
       "      <td>0</td>\n",
       "      <td>0</td>\n",
       "      <td>7.2292</td>\n",
       "      <td>0</td>\n",
       "      <td>1</td>\n",
       "      <td>0</td>\n",
       "      <td>0</td>\n",
       "      <td>0</td>\n",
       "      <td>1</td>\n",
       "      <td>...</td>\n",
       "      <td>0</td>\n",
       "      <td>0</td>\n",
       "      <td>0</td>\n",
       "      <td>1</td>\n",
       "      <td>0</td>\n",
       "      <td>0</td>\n",
       "      <td>0</td>\n",
       "      <td>0</td>\n",
       "      <td>0</td>\n",
       "      <td>24.600</td>\n",
       "    </tr>\n",
       "    <tr>\n",
       "      <th>42</th>\n",
       "      <td>0</td>\n",
       "      <td>0</td>\n",
       "      <td>0</td>\n",
       "      <td>7.8958</td>\n",
       "      <td>0</td>\n",
       "      <td>1</td>\n",
       "      <td>0</td>\n",
       "      <td>0</td>\n",
       "      <td>0</td>\n",
       "      <td>1</td>\n",
       "      <td>...</td>\n",
       "      <td>0</td>\n",
       "      <td>0</td>\n",
       "      <td>0</td>\n",
       "      <td>1</td>\n",
       "      <td>0</td>\n",
       "      <td>0</td>\n",
       "      <td>0</td>\n",
       "      <td>0</td>\n",
       "      <td>0</td>\n",
       "      <td>28.700</td>\n",
       "    </tr>\n",
       "  </tbody>\n",
       "</table>\n",
       "<p>10 rows × 27 columns</p>\n",
       "</div>"
      ],
      "text/plain": [
       "    Survived  SibSp  Parch      Fare  FamilySize  Sex_male  \\\n",
       "5          0      0      0    8.4583           0         1   \n",
       "17         1      0      0   13.0000           0         1   \n",
       "19         1      0      0    7.2250           0         0   \n",
       "26         0      0      0    7.2250           0         1   \n",
       "28         1      0      0    7.8792           0         0   \n",
       "29         0      0      0    7.8958           0         1   \n",
       "31         1      1      0  146.5208           1         0   \n",
       "32         1      0      0    7.7500           0         0   \n",
       "36         1      0      0    7.2292           0         1   \n",
       "42         0      0      0    7.8958           0         1   \n",
       "\n",
       "    Embarked_Queenstown  Embarked_Southampton  Pclass_2  Pclass_3  ...  \\\n",
       "5                     1                     0         0         1  ...   \n",
       "17                    0                     1         1         0  ...   \n",
       "19                    0                     0         0         1  ...   \n",
       "26                    0                     0         0         1  ...   \n",
       "28                    1                     0         0         1  ...   \n",
       "29                    0                     1         0         1  ...   \n",
       "31                    0                     0         0         0  ...   \n",
       "32                    1                     0         0         1  ...   \n",
       "36                    0                     0         0         1  ...   \n",
       "42                    0                     0         0         1  ...   \n",
       "\n",
       "    Title_Miss  Title_Mlle  Title_Mme  Title_Mr  Title_Mrs  Title_Ms  \\\n",
       "5            0           0          0         1          0         0   \n",
       "17           0           0          0         1          0         0   \n",
       "19           0           0          0         0          1         0   \n",
       "26           0           0          0         1          0         0   \n",
       "28           1           0          0         0          0         0   \n",
       "29           0           0          0         1          0         0   \n",
       "31           0           0          0         0          1         0   \n",
       "32           1           0          0         0          0         0   \n",
       "36           0           0          0         1          0         0   \n",
       "42           0           0          0         1          0         0   \n",
       "\n",
       "    Title_Rev  Title_Sir  Title_the Countess     Age  \n",
       "5           0          0                   0  47.800  \n",
       "17          0          0                   0  29.800  \n",
       "19          0          0                   0  18.400  \n",
       "26          0          0                   0  32.800  \n",
       "28          0          0                   0  17.600  \n",
       "29          0          0                   0  33.000  \n",
       "31          0          0                   0  21.584  \n",
       "32          0          0                   0  17.600  \n",
       "36          0          0                   0  24.600  \n",
       "42          0          0                   0  28.700  \n",
       "\n",
       "[10 rows x 27 columns]"
      ]
     },
     "execution_count": 35,
     "metadata": {},
     "output_type": "execute_result"
    }
   ],
   "source": [
    "impute_train.head(10)"
   ]
  },
  {
   "cell_type": "code",
   "execution_count": 36,
   "id": "fae3d0bc",
   "metadata": {
    "execution": {
     "iopub.execute_input": "2021-07-23T13:55:59.893855Z",
     "iopub.status.busy": "2021-07-23T13:55:59.893163Z",
     "iopub.status.idle": "2021-07-23T13:55:59.895153Z",
     "shell.execute_reply": "2021-07-23T13:55:59.895640Z",
     "shell.execute_reply.started": "2021-07-23T13:32:19.076147Z"
    },
    "papermill": {
     "duration": 0.083512,
     "end_time": "2021-07-23T13:55:59.895838",
     "exception": false,
     "start_time": "2021-07-23T13:55:59.812326",
     "status": "completed"
    },
    "tags": []
   },
   "outputs": [],
   "source": [
    "# train\n",
    "titanic_train_imputed = pd.concat([titanic_knn_train, impute_train], sort=False, axis=0)\n",
    "train = titanic_train_imputed"
   ]
  },
  {
   "cell_type": "code",
   "execution_count": 37,
   "id": "e28559c1",
   "metadata": {
    "execution": {
     "iopub.execute_input": "2021-07-23T13:56:00.048080Z",
     "iopub.status.busy": "2021-07-23T13:56:00.047360Z",
     "iopub.status.idle": "2021-07-23T13:56:00.054068Z",
     "shell.execute_reply": "2021-07-23T13:56:00.054616Z",
     "shell.execute_reply.started": "2021-07-23T13:32:25.293303Z"
    },
    "papermill": {
     "duration": 0.083892,
     "end_time": "2021-07-23T13:56:00.054817",
     "exception": false,
     "start_time": "2021-07-23T13:55:59.970925",
     "status": "completed"
    },
    "tags": []
   },
   "outputs": [],
   "source": [
    "# test\n",
    "titanic_test_imputed = pd.concat([titanic_knn_test, impute_test], sort=False, axis=0)\n",
    "test = titanic_test_imputed"
   ]
  },
  {
   "cell_type": "code",
   "execution_count": 38,
   "id": "e16782b2",
   "metadata": {
    "execution": {
     "iopub.execute_input": "2021-07-23T13:56:00.207043Z",
     "iopub.status.busy": "2021-07-23T13:56:00.206317Z",
     "iopub.status.idle": "2021-07-23T13:56:00.215236Z",
     "shell.execute_reply": "2021-07-23T13:56:00.215690Z",
     "shell.execute_reply.started": "2021-07-23T13:32:30.483352Z"
    },
    "papermill": {
     "duration": 0.086351,
     "end_time": "2021-07-23T13:56:00.215908",
     "exception": false,
     "start_time": "2021-07-23T13:56:00.129557",
     "status": "completed"
    },
    "tags": []
   },
   "outputs": [
    {
     "data": {
      "text/plain": [
       "Survived                0\n",
       "Age                     0\n",
       "SibSp                   0\n",
       "Parch                   0\n",
       "Fare                    0\n",
       "FamilySize              0\n",
       "Sex_male                0\n",
       "Embarked_Queenstown     0\n",
       "Embarked_Southampton    0\n",
       "Pclass_2                0\n",
       "Pclass_3                0\n",
       "Title_Col               0\n",
       "Title_Don               0\n",
       "Title_Dr                0\n",
       "Title_Jonkheer          0\n",
       "Title_Lady              0\n",
       "Title_Major             0\n",
       "Title_Master            0\n",
       "Title_Miss              0\n",
       "Title_Mlle              0\n",
       "Title_Mme               0\n",
       "Title_Mr                0\n",
       "Title_Mrs               0\n",
       "Title_Ms                0\n",
       "Title_Rev               0\n",
       "Title_Sir               0\n",
       "Title_the Countess      0\n",
       "dtype: int64"
      ]
     },
     "execution_count": 38,
     "metadata": {},
     "output_type": "execute_result"
    }
   ],
   "source": [
    "train.isnull().sum()"
   ]
  },
  {
   "cell_type": "code",
   "execution_count": 39,
   "id": "d7c04e9c",
   "metadata": {
    "execution": {
     "iopub.execute_input": "2021-07-23T13:56:00.371019Z",
     "iopub.status.busy": "2021-07-23T13:56:00.370354Z",
     "iopub.status.idle": "2021-07-23T13:56:00.379560Z",
     "shell.execute_reply": "2021-07-23T13:56:00.380109Z",
     "shell.execute_reply.started": "2021-07-23T13:32:39.400053Z"
    },
    "papermill": {
     "duration": 0.088975,
     "end_time": "2021-07-23T13:56:00.380301",
     "exception": false,
     "start_time": "2021-07-23T13:56:00.291326",
     "status": "completed"
    },
    "tags": []
   },
   "outputs": [
    {
     "data": {
      "text/plain": [
       "count    889.000000\n",
       "mean      30.127003\n",
       "std       13.773981\n",
       "min        0.420000\n",
       "25%       21.000000\n",
       "50%       29.600000\n",
       "75%       38.000000\n",
       "max       80.000000\n",
       "Name: Age, dtype: float64"
      ]
     },
     "execution_count": 39,
     "metadata": {},
     "output_type": "execute_result"
    }
   ],
   "source": [
    "train['Age'].describe()"
   ]
  },
  {
   "cell_type": "code",
   "execution_count": 40,
   "id": "16948731",
   "metadata": {
    "execution": {
     "iopub.execute_input": "2021-07-23T13:56:00.540305Z",
     "iopub.status.busy": "2021-07-23T13:56:00.539308Z",
     "iopub.status.idle": "2021-07-23T13:56:00.543521Z",
     "shell.execute_reply": "2021-07-23T13:56:00.542812Z",
     "shell.execute_reply.started": "2021-07-23T13:32:50.533770Z"
    },
    "papermill": {
     "duration": 0.088443,
     "end_time": "2021-07-23T13:56:00.543680",
     "exception": false,
     "start_time": "2021-07-23T13:56:00.455237",
     "status": "completed"
    },
    "tags": []
   },
   "outputs": [],
   "source": [
    "# train\n",
    "train['Age'] = np.round(train['Age']).astype(int)"
   ]
  },
  {
   "cell_type": "code",
   "execution_count": 41,
   "id": "0c2dba95",
   "metadata": {
    "execution": {
     "iopub.execute_input": "2021-07-23T13:56:00.737657Z",
     "iopub.status.busy": "2021-07-23T13:56:00.736638Z",
     "iopub.status.idle": "2021-07-23T13:56:00.742197Z",
     "shell.execute_reply": "2021-07-23T13:56:00.742747Z",
     "shell.execute_reply.started": "2021-07-23T13:32:56.744470Z"
    },
    "papermill": {
     "duration": 0.092485,
     "end_time": "2021-07-23T13:56:00.742958",
     "exception": false,
     "start_time": "2021-07-23T13:56:00.650473",
     "status": "completed"
    },
    "tags": []
   },
   "outputs": [],
   "source": [
    "# test\n",
    "test['Age'] = np.round(test['Age']).astype(int)\n"
   ]
  },
  {
   "cell_type": "code",
   "execution_count": 42,
   "id": "579bbb91",
   "metadata": {
    "execution": {
     "iopub.execute_input": "2021-07-23T13:56:00.919573Z",
     "iopub.status.busy": "2021-07-23T13:56:00.913560Z",
     "iopub.status.idle": "2021-07-23T13:56:00.923141Z",
     "shell.execute_reply": "2021-07-23T13:56:00.923644Z",
     "shell.execute_reply.started": "2021-07-23T13:33:02.662896Z"
    },
    "papermill": {
     "duration": 0.106215,
     "end_time": "2021-07-23T13:56:00.923857",
     "exception": false,
     "start_time": "2021-07-23T13:56:00.817642",
     "status": "completed"
    },
    "tags": []
   },
   "outputs": [
    {
     "data": {
      "text/plain": [
       "30    53\n",
       "18    43\n",
       "24    35\n",
       "33    34\n",
       "22    31\n",
       "      ..\n",
       "0      1\n",
       "66     1\n",
       "53     1\n",
       "12     1\n",
       "80     1\n",
       "Name: Age, Length: 71, dtype: int64"
      ]
     },
     "execution_count": 42,
     "metadata": {},
     "output_type": "execute_result"
    }
   ],
   "source": [
    "train['Age'].value_counts()"
   ]
  },
  {
   "cell_type": "code",
   "execution_count": 43,
   "id": "847c169d",
   "metadata": {
    "execution": {
     "iopub.execute_input": "2021-07-23T13:56:01.094451Z",
     "iopub.status.busy": "2021-07-23T13:56:01.093678Z",
     "iopub.status.idle": "2021-07-23T13:56:01.607565Z",
     "shell.execute_reply": "2021-07-23T13:56:01.608138Z",
     "shell.execute_reply.started": "2021-07-23T13:33:31.175140Z"
    },
    "papermill": {
     "duration": 0.602463,
     "end_time": "2021-07-23T13:56:01.608354",
     "exception": false,
     "start_time": "2021-07-23T13:56:01.005891",
     "status": "completed"
    },
    "tags": []
   },
   "outputs": [
    {
     "data": {
      "text/plain": [
       "<AxesSubplot:>"
      ]
     },
     "execution_count": 43,
     "metadata": {},
     "output_type": "execute_result"
    },
    {
     "data": {
      "image/png": "[encoded data removed]",
      "text/plain": [
       "<Figure size 864x720 with 1 Axes>"
      ]
     },
     "metadata": {},
     "output_type": "display_data"
    }
   ],
   "source": [
    "plt.figure(figsize = (12,10))\n",
    "train.corr()['Survived'].sort_values(ascending = True).plot(kind = 'barh')"
   ]
  },
  {
   "cell_type": "code",
   "execution_count": 44,
   "id": "dcd7dc46",
   "metadata": {
    "execution": {
     "iopub.execute_input": "2021-07-23T13:56:01.768134Z",
     "iopub.status.busy": "2021-07-23T13:56:01.767220Z",
     "iopub.status.idle": "2021-07-23T13:56:01.778987Z",
     "shell.execute_reply": "2021-07-23T13:56:01.778388Z",
     "shell.execute_reply.started": "2021-07-23T13:34:30.384157Z"
    },
    "papermill": {
     "duration": 0.093216,
     "end_time": "2021-07-23T13:56:01.779136",
     "exception": false,
     "start_time": "2021-07-23T13:56:01.685920",
     "status": "completed"
    },
    "tags": []
   },
   "outputs": [
    {
     "data": {
      "text/plain": [
       "Survived                1.000000\n",
       "Title_Mrs               0.337892\n",
       "Title_Miss              0.326352\n",
       "Fare                    0.255290\n",
       "Pclass_2                0.095002\n",
       "Title_Master            0.085998\n",
       "Parch                   0.083151\n",
       "Title_Mlle              0.060339\n",
       "Title_the Countess      0.042642\n",
       "Title_Sir               0.042642\n",
       "Title_Lady              0.042642\n",
       "Title_Ms                0.042642\n",
       "Title_Mme               0.042642\n",
       "FamilySize              0.018277\n",
       "Title_Col               0.011485\n",
       "Title_Major             0.011485\n",
       "Title_Dr                0.008454\n",
       "Embarked_Queenstown     0.004536\n",
       "Title_Don              -0.026409\n",
       "Title_Jonkheer         -0.026409\n",
       "SibSp                  -0.034040\n",
       "Title_Rev              -0.064871\n",
       "Age                    -0.121004\n",
       "Embarked_Southampton   -0.151777\n",
       "Pclass_3               -0.320171\n",
       "Sex_male               -0.541585\n",
       "Title_Mr               -0.547689\n",
       "Name: Survived, dtype: float64"
      ]
     },
     "execution_count": 44,
     "metadata": {},
     "output_type": "execute_result"
    }
   ],
   "source": [
    "train.corr()['Survived'].sort_values(ascending = False)"
   ]
  },
  {
   "cell_type": "code",
   "execution_count": 45,
   "id": "82d72c11",
   "metadata": {
    "execution": {
     "iopub.execute_input": "2021-07-23T13:56:01.940106Z",
     "iopub.status.busy": "2021-07-23T13:56:01.939416Z",
     "iopub.status.idle": "2021-07-23T13:56:01.948338Z",
     "shell.execute_reply": "2021-07-23T13:56:01.947557Z",
     "shell.execute_reply.started": "2021-07-23T13:34:49.471411Z"
    },
    "papermill": {
     "duration": 0.090972,
     "end_time": "2021-07-23T13:56:01.948539",
     "exception": false,
     "start_time": "2021-07-23T13:56:01.857567",
     "status": "completed"
    },
    "tags": []
   },
   "outputs": [
    {
     "name": "stdout",
     "output_type": "stream",
     "text": [
      "Index(['Survived', 'Title_Mrs', 'Title_Miss', 'Fare', 'Pclass_2',\n",
      "       'Title_Master', 'Parch'],\n",
      "      dtype='object')\n"
     ]
    }
   ],
   "source": [
    "top_6 = train.corr()['Survived'].sort_values(ascending = False).keys()[0:7]\n",
    "print (top_6)"
   ]
  },
  {
   "cell_type": "code",
   "execution_count": 46,
   "id": "655c95c3",
   "metadata": {
    "execution": {
     "iopub.execute_input": "2021-07-23T13:56:02.113530Z",
     "iopub.status.busy": "2021-07-23T13:56:02.112571Z",
     "iopub.status.idle": "2021-07-23T13:56:12.496739Z",
     "shell.execute_reply": "2021-07-23T13:56:12.495529Z",
     "shell.execute_reply.started": "2021-07-23T13:34:55.424476Z"
    },
    "papermill": {
     "duration": 10.468856,
     "end_time": "2021-07-23T13:56:12.496941",
     "exception": false,
     "start_time": "2021-07-23T13:56:02.028085",
     "status": "completed"
    },
    "tags": []
   },
   "outputs": [
    {
     "data": {
      "text/html": [
       "<div>\n",
       "<style scoped>\n",
       "    .dataframe tbody tr th:only-of-type {\n",
       "        vertical-align: middle;\n",
       "    }\n",
       "\n",
       "    .dataframe tbody tr th {\n",
       "        vertical-align: top;\n",
       "    }\n",
       "\n",
       "    .dataframe thead th {\n",
       "        text-align: right;\n",
       "    }\n",
       "</style>\n",
       "<table border=\"1\" class=\"dataframe\">\n",
       "  <thead>\n",
       "    <tr style=\"text-align: right;\">\n",
       "      <th></th>\n",
       "      <th>Survived</th>\n",
       "      <th>Title_Mrs</th>\n",
       "      <th>Title_Miss</th>\n",
       "      <th>Fare</th>\n",
       "      <th>Pclass_2</th>\n",
       "      <th>Title_Master</th>\n",
       "      <th>Parch</th>\n",
       "    </tr>\n",
       "  </thead>\n",
       "  <tbody>\n",
       "    <tr>\n",
       "      <th>count</th>\n",
       "      <td>889.000000</td>\n",
       "      <td>889.000000</td>\n",
       "      <td>889.000000</td>\n",
       "      <td>889.000000</td>\n",
       "      <td>889.000000</td>\n",
       "      <td>889.000000</td>\n",
       "      <td>889.000000</td>\n",
       "    </tr>\n",
       "    <tr>\n",
       "      <th>mean</th>\n",
       "      <td>0.382452</td>\n",
       "      <td>0.139483</td>\n",
       "      <td>0.203600</td>\n",
       "      <td>32.096681</td>\n",
       "      <td>0.206974</td>\n",
       "      <td>0.044994</td>\n",
       "      <td>0.382452</td>\n",
       "    </tr>\n",
       "    <tr>\n",
       "      <th>std</th>\n",
       "      <td>0.486260</td>\n",
       "      <td>0.346644</td>\n",
       "      <td>0.402901</td>\n",
       "      <td>49.697504</td>\n",
       "      <td>0.405365</td>\n",
       "      <td>0.207408</td>\n",
       "      <td>0.806761</td>\n",
       "    </tr>\n",
       "    <tr>\n",
       "      <th>min</th>\n",
       "      <td>0.000000</td>\n",
       "      <td>0.000000</td>\n",
       "      <td>0.000000</td>\n",
       "      <td>0.000000</td>\n",
       "      <td>0.000000</td>\n",
       "      <td>0.000000</td>\n",
       "      <td>0.000000</td>\n",
       "    </tr>\n",
       "    <tr>\n",
       "      <th>25%</th>\n",
       "      <td>0.000000</td>\n",
       "      <td>0.000000</td>\n",
       "      <td>0.000000</td>\n",
       "      <td>7.895800</td>\n",
       "      <td>0.000000</td>\n",
       "      <td>0.000000</td>\n",
       "      <td>0.000000</td>\n",
       "    </tr>\n",
       "    <tr>\n",
       "      <th>50%</th>\n",
       "      <td>0.000000</td>\n",
       "      <td>0.000000</td>\n",
       "      <td>0.000000</td>\n",
       "      <td>14.454200</td>\n",
       "      <td>0.000000</td>\n",
       "      <td>0.000000</td>\n",
       "      <td>0.000000</td>\n",
       "    </tr>\n",
       "    <tr>\n",
       "      <th>75%</th>\n",
       "      <td>1.000000</td>\n",
       "      <td>0.000000</td>\n",
       "      <td>0.000000</td>\n",
       "      <td>31.000000</td>\n",
       "      <td>0.000000</td>\n",
       "      <td>0.000000</td>\n",
       "      <td>0.000000</td>\n",
       "    </tr>\n",
       "    <tr>\n",
       "      <th>max</th>\n",
       "      <td>1.000000</td>\n",
       "      <td>1.000000</td>\n",
       "      <td>1.000000</td>\n",
       "      <td>512.329200</td>\n",
       "      <td>1.000000</td>\n",
       "      <td>1.000000</td>\n",
       "      <td>6.000000</td>\n",
       "    </tr>\n",
       "  </tbody>\n",
       "</table>\n",
       "</div>"
      ],
      "text/plain": [
       "         Survived   Title_Mrs  Title_Miss        Fare    Pclass_2  \\\n",
       "count  889.000000  889.000000  889.000000  889.000000  889.000000   \n",
       "mean     0.382452    0.139483    0.203600   32.096681    0.206974   \n",
       "std      0.486260    0.346644    0.402901   49.697504    0.405365   \n",
       "min      0.000000    0.000000    0.000000    0.000000    0.000000   \n",
       "25%      0.000000    0.000000    0.000000    7.895800    0.000000   \n",
       "50%      0.000000    0.000000    0.000000   14.454200    0.000000   \n",
       "75%      1.000000    0.000000    0.000000   31.000000    0.000000   \n",
       "max      1.000000    1.000000    1.000000  512.329200    1.000000   \n",
       "\n",
       "       Title_Master       Parch  \n",
       "count    889.000000  889.000000  \n",
       "mean       0.044994    0.382452  \n",
       "std        0.207408    0.806761  \n",
       "min        0.000000    0.000000  \n",
       "25%        0.000000    0.000000  \n",
       "50%        0.000000    0.000000  \n",
       "75%        0.000000    0.000000  \n",
       "max        1.000000    6.000000  "
      ]
     },
     "execution_count": 46,
     "metadata": {},
     "output_type": "execute_result"
    },
    {
     "data": {
      "image/png": "[encoded data removed]",
      "text/plain": [
       "<Figure size 1260x1260 with 56 Axes>"
      ]
     },
     "metadata": {},
     "output_type": "display_data"
    }
   ],
   "source": [
    "top_6_train = train.loc[:,top_6].copy()\n",
    "top_6_train.head()\n",
    "sns.pairplot(top_6_train)\n",
    "top_6_train['Survived'].hist(bins=40)\n",
    "top_6_train.describe()"
   ]
  },
  {
   "cell_type": "code",
   "execution_count": 47,
   "id": "54bcd703",
   "metadata": {
    "execution": {
     "iopub.execute_input": "2021-07-23T13:56:12.670314Z",
     "iopub.status.busy": "2021-07-23T13:56:12.668985Z",
     "iopub.status.idle": "2021-07-23T13:56:12.674582Z",
     "shell.execute_reply": "2021-07-23T13:56:12.673911Z",
     "shell.execute_reply.started": "2021-07-23T13:35:34.903090Z"
    },
    "papermill": {
     "duration": 0.095443,
     "end_time": "2021-07-23T13:56:12.674725",
     "exception": false,
     "start_time": "2021-07-23T13:56:12.579282",
     "status": "completed"
    },
    "tags": []
   },
   "outputs": [
    {
     "data": {
      "text/plain": [
       "Index(['Survived', 'Age', 'SibSp', 'Parch', 'Fare', 'FamilySize', 'Sex_male',\n",
       "       'Embarked_Queenstown', 'Embarked_Southampton', 'Pclass_2', 'Pclass_3',\n",
       "       'Title_Col', 'Title_Don', 'Title_Dr', 'Title_Jonkheer', 'Title_Lady',\n",
       "       'Title_Major', 'Title_Master', 'Title_Miss', 'Title_Mlle', 'Title_Mme',\n",
       "       'Title_Mr', 'Title_Mrs', 'Title_Ms', 'Title_Rev', 'Title_Sir',\n",
       "       'Title_the Countess'],\n",
       "      dtype='object')"
      ]
     },
     "execution_count": 47,
     "metadata": {},
     "output_type": "execute_result"
    }
   ],
   "source": [
    "train.columns"
   ]
  },
  {
   "cell_type": "code",
   "execution_count": 48,
   "id": "f62f21b4",
   "metadata": {
    "execution": {
     "iopub.execute_input": "2021-07-23T13:56:12.843695Z",
     "iopub.status.busy": "2021-07-23T13:56:12.842890Z",
     "iopub.status.idle": "2021-07-23T13:56:12.845547Z",
     "shell.execute_reply": "2021-07-23T13:56:12.846029Z",
     "shell.execute_reply.started": "2021-07-23T13:35:41.532821Z"
    },
    "papermill": {
     "duration": 0.089561,
     "end_time": "2021-07-23T13:56:12.846207",
     "exception": false,
     "start_time": "2021-07-23T13:56:12.756646",
     "status": "completed"
    },
    "tags": []
   },
   "outputs": [],
   "source": [
    "y = train['Survived']"
   ]
  },
  {
   "cell_type": "code",
   "execution_count": 49,
   "id": "14b91139",
   "metadata": {
    "execution": {
     "iopub.execute_input": "2021-07-23T13:56:13.024622Z",
     "iopub.status.busy": "2021-07-23T13:56:13.023957Z",
     "iopub.status.idle": "2021-07-23T13:56:13.028225Z",
     "shell.execute_reply": "2021-07-23T13:56:13.027492Z",
     "shell.execute_reply.started": "2021-07-23T13:38:58.141877Z"
    },
    "papermill": {
     "duration": 0.097253,
     "end_time": "2021-07-23T13:56:13.028377",
     "exception": false,
     "start_time": "2021-07-23T13:56:12.931124",
     "status": "completed"
    },
    "tags": []
   },
   "outputs": [],
   "source": [
    "X = train.loc[:, ['Age', 'SibSp', 'Parch', 'Fare', 'FamilySize', 'Sex_male', 'Embarked_Queenstown', 'Embarked_Southampton', 'Pclass_2', 'Pclass_3', 'Title_Col', 'Title_Don', 'Title_Dr', 'Title_Jonkheer', 'Title_Lady', 'Title_Major', 'Title_Master', 'Title_Miss', 'Title_Mlle', 'Title_Mme', 'Title_Mr', 'Title_Mrs', 'Title_Ms', 'Title_Rev', 'Title_Sir', 'Title_the Countess']]"
   ]
  },
  {
   "cell_type": "code",
   "execution_count": 50,
   "id": "c0e79ca8",
   "metadata": {
    "execution": {
     "iopub.execute_input": "2021-07-23T13:56:13.205185Z",
     "iopub.status.busy": "2021-07-23T13:56:13.204475Z",
     "iopub.status.idle": "2021-07-23T13:56:13.243035Z",
     "shell.execute_reply": "2021-07-23T13:56:13.242325Z",
     "shell.execute_reply.started": "2021-07-23T13:39:02.414870Z"
    },
    "papermill": {
     "duration": 0.126431,
     "end_time": "2021-07-23T13:56:13.243184",
     "exception": false,
     "start_time": "2021-07-23T13:56:13.116753",
     "status": "completed"
    },
    "tags": []
   },
   "outputs": [],
   "source": [
    "from sklearn.model_selection import train_test_split\n",
    "from sklearn.linear_model import LogisticRegression\n",
    "from sklearn.tree import DecisionTreeClassifier\n",
    "from sklearn.preprocessing import StandardScaler"
   ]
  },
  {
   "cell_type": "code",
   "execution_count": 51,
   "id": "07914662",
   "metadata": {
    "execution": {
     "iopub.execute_input": "2021-07-23T13:56:13.418171Z",
     "iopub.status.busy": "2021-07-23T13:56:13.417100Z",
     "iopub.status.idle": "2021-07-23T13:56:13.423167Z",
     "shell.execute_reply": "2021-07-23T13:56:13.422615Z",
     "shell.execute_reply.started": "2021-07-23T13:39:08.706775Z"
    },
    "papermill": {
     "duration": 0.093954,
     "end_time": "2021-07-23T13:56:13.423317",
     "exception": false,
     "start_time": "2021-07-23T13:56:13.329363",
     "status": "completed"
    },
    "tags": []
   },
   "outputs": [],
   "source": [
    "X_train, X_test, y_train, y_test = train_test_split(X, y, test_size=0.3, random_state=1)"
   ]
  },
  {
   "cell_type": "code",
   "execution_count": 52,
   "id": "d1901226",
   "metadata": {
    "execution": {
     "iopub.execute_input": "2021-07-23T13:56:13.594394Z",
     "iopub.status.busy": "2021-07-23T13:56:13.593431Z",
     "iopub.status.idle": "2021-07-23T13:56:13.598120Z",
     "shell.execute_reply": "2021-07-23T13:56:13.598573Z",
     "shell.execute_reply.started": "2021-07-23T13:39:19.163663Z"
    },
    "papermill": {
     "duration": 0.09324,
     "end_time": "2021-07-23T13:56:13.598757",
     "exception": false,
     "start_time": "2021-07-23T13:56:13.505517",
     "status": "completed"
    },
    "tags": []
   },
   "outputs": [
    {
     "data": {
      "text/plain": [
       "((889, 26), (889,))"
      ]
     },
     "execution_count": 52,
     "metadata": {},
     "output_type": "execute_result"
    }
   ],
   "source": [
    "X.shape, y.shape"
   ]
  },
  {
   "cell_type": "code",
   "execution_count": 53,
   "id": "ad773d81",
   "metadata": {
    "execution": {
     "iopub.execute_input": "2021-07-23T13:56:13.769003Z",
     "iopub.status.busy": "2021-07-23T13:56:13.768237Z",
     "iopub.status.idle": "2021-07-23T13:56:13.771588Z",
     "shell.execute_reply": "2021-07-23T13:56:13.770926Z",
     "shell.execute_reply.started": "2021-07-23T13:39:27.508249Z"
    },
    "papermill": {
     "duration": 0.090168,
     "end_time": "2021-07-23T13:56:13.771794",
     "exception": false,
     "start_time": "2021-07-23T13:56:13.681626",
     "status": "completed"
    },
    "tags": []
   },
   "outputs": [
    {
     "data": {
      "text/plain": [
       "((267, 26), (267,))"
      ]
     },
     "execution_count": 53,
     "metadata": {},
     "output_type": "execute_result"
    }
   ],
   "source": [
    "X_test.shape, y_test.shape"
   ]
  },
  {
   "cell_type": "code",
   "execution_count": 54,
   "id": "39249893",
   "metadata": {
    "execution": {
     "iopub.execute_input": "2021-07-23T13:56:13.947185Z",
     "iopub.status.busy": "2021-07-23T13:56:13.946395Z",
     "iopub.status.idle": "2021-07-23T13:56:13.949069Z",
     "shell.execute_reply": "2021-07-23T13:56:13.948415Z",
     "shell.execute_reply.started": "2021-07-23T13:39:51.162246Z"
    },
    "papermill": {
     "duration": 0.090294,
     "end_time": "2021-07-23T13:56:13.949213",
     "exception": false,
     "start_time": "2021-07-23T13:56:13.858919",
     "status": "completed"
    },
    "tags": []
   },
   "outputs": [],
   "source": [
    "scaler = StandardScaler()"
   ]
  },
  {
   "cell_type": "code",
   "execution_count": 55,
   "id": "8b406ab8",
   "metadata": {
    "execution": {
     "iopub.execute_input": "2021-07-23T13:56:14.124325Z",
     "iopub.status.busy": "2021-07-23T13:56:14.123579Z",
     "iopub.status.idle": "2021-07-23T13:56:14.129817Z",
     "shell.execute_reply": "2021-07-23T13:56:14.129211Z",
     "shell.execute_reply.started": "2021-07-23T13:40:18.120805Z"
    },
    "papermill": {
     "duration": 0.098361,
     "end_time": "2021-07-23T13:56:14.129971",
     "exception": false,
     "start_time": "2021-07-23T13:56:14.031610",
     "status": "completed"
    },
    "tags": []
   },
   "outputs": [],
   "source": [
    "X_scaled = scaler.fit_transform(X_train)"
   ]
  },
  {
   "cell_type": "code",
   "execution_count": 56,
   "id": "f34dd928",
   "metadata": {
    "execution": {
     "iopub.execute_input": "2021-07-23T13:56:14.302489Z",
     "iopub.status.busy": "2021-07-23T13:56:14.301728Z",
     "iopub.status.idle": "2021-07-23T13:56:14.305838Z",
     "shell.execute_reply": "2021-07-23T13:56:14.305040Z",
     "shell.execute_reply.started": "2021-07-23T13:40:30.716025Z"
    },
    "papermill": {
     "duration": 0.093377,
     "end_time": "2021-07-23T13:56:14.306024",
     "exception": false,
     "start_time": "2021-07-23T13:56:14.212647",
     "status": "completed"
    },
    "tags": []
   },
   "outputs": [],
   "source": [
    "X_train = pd.DataFrame(X_scaled, columns=[X_train.columns])"
   ]
  },
  {
   "cell_type": "code",
   "execution_count": 57,
   "id": "403e6244",
   "metadata": {
    "execution": {
     "iopub.execute_input": "2021-07-23T13:56:14.482093Z",
     "iopub.status.busy": "2021-07-23T13:56:14.480894Z",
     "iopub.status.idle": "2021-07-23T13:56:14.521312Z",
     "shell.execute_reply": "2021-07-23T13:56:14.520652Z",
     "shell.execute_reply.started": "2021-07-23T13:40:35.514206Z"
    },
    "papermill": {
     "duration": 0.131258,
     "end_time": "2021-07-23T13:56:14.521463",
     "exception": false,
     "start_time": "2021-07-23T13:56:14.390205",
     "status": "completed"
    },
    "tags": []
   },
   "outputs": [
    {
     "data": {
      "text/html": [
       "<div>\n",
       "<style scoped>\n",
       "    .dataframe tbody tr th:only-of-type {\n",
       "        vertical-align: middle;\n",
       "    }\n",
       "\n",
       "    .dataframe tbody tr th {\n",
       "        vertical-align: top;\n",
       "    }\n",
       "\n",
       "    .dataframe thead tr th {\n",
       "        text-align: left;\n",
       "    }\n",
       "</style>\n",
       "<table border=\"1\" class=\"dataframe\">\n",
       "  <thead>\n",
       "    <tr>\n",
       "      <th></th>\n",
       "      <th>Age</th>\n",
       "      <th>SibSp</th>\n",
       "      <th>Parch</th>\n",
       "      <th>Fare</th>\n",
       "      <th>FamilySize</th>\n",
       "      <th>Sex_male</th>\n",
       "      <th>Embarked_Queenstown</th>\n",
       "      <th>Embarked_Southampton</th>\n",
       "      <th>Pclass_2</th>\n",
       "      <th>Pclass_3</th>\n",
       "      <th>...</th>\n",
       "      <th>Title_Master</th>\n",
       "      <th>Title_Miss</th>\n",
       "      <th>Title_Mlle</th>\n",
       "      <th>Title_Mme</th>\n",
       "      <th>Title_Mr</th>\n",
       "      <th>Title_Mrs</th>\n",
       "      <th>Title_Ms</th>\n",
       "      <th>Title_Rev</th>\n",
       "      <th>Title_Sir</th>\n",
       "      <th>Title_the Countess</th>\n",
       "    </tr>\n",
       "  </thead>\n",
       "  <tbody>\n",
       "    <tr>\n",
       "      <th>0</th>\n",
       "      <td>-0.885524</td>\n",
       "      <td>-0.467125</td>\n",
       "      <td>-0.463389</td>\n",
       "      <td>-0.418093</td>\n",
       "      <td>-0.558271</td>\n",
       "      <td>0.721653</td>\n",
       "      <td>-0.295656</td>\n",
       "      <td>0.613275</td>\n",
       "      <td>1.974244</td>\n",
       "      <td>-1.098032</td>\n",
       "      <td>...</td>\n",
       "      <td>-0.217113</td>\n",
       "      <td>-0.501507</td>\n",
       "      <td>-0.040129</td>\n",
       "      <td>-0.040129</td>\n",
       "      <td>0.836333</td>\n",
       "      <td>-0.395138</td>\n",
       "      <td>0.0</td>\n",
       "      <td>-0.056796</td>\n",
       "      <td>-0.040129</td>\n",
       "      <td>-0.040129</td>\n",
       "    </tr>\n",
       "    <tr>\n",
       "      <th>1</th>\n",
       "      <td>1.245490</td>\n",
       "      <td>-0.467125</td>\n",
       "      <td>-0.463389</td>\n",
       "      <td>-0.497440</td>\n",
       "      <td>-0.558271</td>\n",
       "      <td>0.721653</td>\n",
       "      <td>3.382307</td>\n",
       "      <td>-1.630590</td>\n",
       "      <td>-0.506523</td>\n",
       "      <td>0.910720</td>\n",
       "      <td>...</td>\n",
       "      <td>-0.217113</td>\n",
       "      <td>-0.501507</td>\n",
       "      <td>-0.040129</td>\n",
       "      <td>-0.040129</td>\n",
       "      <td>0.836333</td>\n",
       "      <td>-0.395138</td>\n",
       "      <td>0.0</td>\n",
       "      <td>-0.056796</td>\n",
       "      <td>-0.040129</td>\n",
       "      <td>-0.040129</td>\n",
       "    </tr>\n",
       "    <tr>\n",
       "      <th>2</th>\n",
       "      <td>0.251017</td>\n",
       "      <td>0.473172</td>\n",
       "      <td>-0.463389</td>\n",
       "      <td>-0.111289</td>\n",
       "      <td>0.081222</td>\n",
       "      <td>0.721653</td>\n",
       "      <td>-0.295656</td>\n",
       "      <td>0.613275</td>\n",
       "      <td>1.974244</td>\n",
       "      <td>-1.098032</td>\n",
       "      <td>...</td>\n",
       "      <td>-0.217113</td>\n",
       "      <td>-0.501507</td>\n",
       "      <td>-0.040129</td>\n",
       "      <td>-0.040129</td>\n",
       "      <td>0.836333</td>\n",
       "      <td>-0.395138</td>\n",
       "      <td>0.0</td>\n",
       "      <td>-0.056796</td>\n",
       "      <td>-0.040129</td>\n",
       "      <td>-0.040129</td>\n",
       "    </tr>\n",
       "    <tr>\n",
       "      <th>3</th>\n",
       "      <td>1.174456</td>\n",
       "      <td>-0.467125</td>\n",
       "      <td>-0.463389</td>\n",
       "      <td>-0.011930</td>\n",
       "      <td>-0.558271</td>\n",
       "      <td>0.721653</td>\n",
       "      <td>-0.295656</td>\n",
       "      <td>-1.630590</td>\n",
       "      <td>-0.506523</td>\n",
       "      <td>-1.098032</td>\n",
       "      <td>...</td>\n",
       "      <td>-0.217113</td>\n",
       "      <td>-0.501507</td>\n",
       "      <td>-0.040129</td>\n",
       "      <td>-0.040129</td>\n",
       "      <td>0.836333</td>\n",
       "      <td>-0.395138</td>\n",
       "      <td>0.0</td>\n",
       "      <td>-0.056796</td>\n",
       "      <td>-0.040129</td>\n",
       "      <td>-0.040129</td>\n",
       "    </tr>\n",
       "    <tr>\n",
       "      <th>4</th>\n",
       "      <td>-0.885524</td>\n",
       "      <td>-0.467125</td>\n",
       "      <td>0.768354</td>\n",
       "      <td>-0.463585</td>\n",
       "      <td>0.081222</td>\n",
       "      <td>-1.385708</td>\n",
       "      <td>-0.295656</td>\n",
       "      <td>0.613275</td>\n",
       "      <td>-0.506523</td>\n",
       "      <td>0.910720</td>\n",
       "      <td>...</td>\n",
       "      <td>-0.217113</td>\n",
       "      <td>-0.501507</td>\n",
       "      <td>-0.040129</td>\n",
       "      <td>-0.040129</td>\n",
       "      <td>-1.195695</td>\n",
       "      <td>2.530763</td>\n",
       "      <td>0.0</td>\n",
       "      <td>-0.056796</td>\n",
       "      <td>-0.040129</td>\n",
       "      <td>-0.040129</td>\n",
       "    </tr>\n",
       "    <tr>\n",
       "      <th>...</th>\n",
       "      <td>...</td>\n",
       "      <td>...</td>\n",
       "      <td>...</td>\n",
       "      <td>...</td>\n",
       "      <td>...</td>\n",
       "      <td>...</td>\n",
       "      <td>...</td>\n",
       "      <td>...</td>\n",
       "      <td>...</td>\n",
       "      <td>...</td>\n",
       "      <td>...</td>\n",
       "      <td>...</td>\n",
       "      <td>...</td>\n",
       "      <td>...</td>\n",
       "      <td>...</td>\n",
       "      <td>...</td>\n",
       "      <td>...</td>\n",
       "      <td>...</td>\n",
       "      <td>...</td>\n",
       "      <td>...</td>\n",
       "      <td>...</td>\n",
       "    </tr>\n",
       "    <tr>\n",
       "      <th>617</th>\n",
       "      <td>0.179983</td>\n",
       "      <td>-0.467125</td>\n",
       "      <td>-0.463389</td>\n",
       "      <td>-0.508548</td>\n",
       "      <td>-0.558271</td>\n",
       "      <td>0.721653</td>\n",
       "      <td>-0.295656</td>\n",
       "      <td>-1.630590</td>\n",
       "      <td>-0.506523</td>\n",
       "      <td>0.910720</td>\n",
       "      <td>...</td>\n",
       "      <td>-0.217113</td>\n",
       "      <td>-0.501507</td>\n",
       "      <td>-0.040129</td>\n",
       "      <td>-0.040129</td>\n",
       "      <td>0.836333</td>\n",
       "      <td>-0.395138</td>\n",
       "      <td>0.0</td>\n",
       "      <td>-0.056796</td>\n",
       "      <td>-0.040129</td>\n",
       "      <td>-0.040129</td>\n",
       "    </tr>\n",
       "    <tr>\n",
       "      <th>618</th>\n",
       "      <td>2.026862</td>\n",
       "      <td>-0.467125</td>\n",
       "      <td>-0.463389</td>\n",
       "      <td>-0.111289</td>\n",
       "      <td>-0.558271</td>\n",
       "      <td>0.721653</td>\n",
       "      <td>-0.295656</td>\n",
       "      <td>0.613275</td>\n",
       "      <td>-0.506523</td>\n",
       "      <td>-1.098032</td>\n",
       "      <td>...</td>\n",
       "      <td>-0.217113</td>\n",
       "      <td>-0.501507</td>\n",
       "      <td>-0.040129</td>\n",
       "      <td>-0.040129</td>\n",
       "      <td>0.836333</td>\n",
       "      <td>-0.395138</td>\n",
       "      <td>0.0</td>\n",
       "      <td>-0.056796</td>\n",
       "      <td>-0.040129</td>\n",
       "      <td>-0.040129</td>\n",
       "    </tr>\n",
       "    <tr>\n",
       "      <th>619</th>\n",
       "      <td>2.026862</td>\n",
       "      <td>-0.467125</td>\n",
       "      <td>-0.463389</td>\n",
       "      <td>-0.508019</td>\n",
       "      <td>-0.558271</td>\n",
       "      <td>0.721653</td>\n",
       "      <td>-0.295656</td>\n",
       "      <td>0.613275</td>\n",
       "      <td>-0.506523</td>\n",
       "      <td>0.910720</td>\n",
       "      <td>...</td>\n",
       "      <td>-0.217113</td>\n",
       "      <td>-0.501507</td>\n",
       "      <td>-0.040129</td>\n",
       "      <td>-0.040129</td>\n",
       "      <td>0.836333</td>\n",
       "      <td>-0.395138</td>\n",
       "      <td>0.0</td>\n",
       "      <td>-0.056796</td>\n",
       "      <td>-0.040129</td>\n",
       "      <td>-0.040129</td>\n",
       "    </tr>\n",
       "    <tr>\n",
       "      <th>620</th>\n",
       "      <td>0.393084</td>\n",
       "      <td>-0.467125</td>\n",
       "      <td>-0.463389</td>\n",
       "      <td>-0.389000</td>\n",
       "      <td>-0.558271</td>\n",
       "      <td>0.721653</td>\n",
       "      <td>-0.295656</td>\n",
       "      <td>-1.630590</td>\n",
       "      <td>1.974244</td>\n",
       "      <td>-1.098032</td>\n",
       "      <td>...</td>\n",
       "      <td>-0.217113</td>\n",
       "      <td>-0.501507</td>\n",
       "      <td>-0.040129</td>\n",
       "      <td>-0.040129</td>\n",
       "      <td>0.836333</td>\n",
       "      <td>-0.395138</td>\n",
       "      <td>0.0</td>\n",
       "      <td>-0.056796</td>\n",
       "      <td>-0.040129</td>\n",
       "      <td>-0.040129</td>\n",
       "    </tr>\n",
       "    <tr>\n",
       "      <th>621</th>\n",
       "      <td>-0.672423</td>\n",
       "      <td>-0.467125</td>\n",
       "      <td>-0.463389</td>\n",
       "      <td>-0.496382</td>\n",
       "      <td>-0.558271</td>\n",
       "      <td>0.721653</td>\n",
       "      <td>-0.295656</td>\n",
       "      <td>0.613275</td>\n",
       "      <td>-0.506523</td>\n",
       "      <td>0.910720</td>\n",
       "      <td>...</td>\n",
       "      <td>-0.217113</td>\n",
       "      <td>-0.501507</td>\n",
       "      <td>-0.040129</td>\n",
       "      <td>-0.040129</td>\n",
       "      <td>0.836333</td>\n",
       "      <td>-0.395138</td>\n",
       "      <td>0.0</td>\n",
       "      <td>-0.056796</td>\n",
       "      <td>-0.040129</td>\n",
       "      <td>-0.040129</td>\n",
       "    </tr>\n",
       "  </tbody>\n",
       "</table>\n",
       "<p>622 rows × 26 columns</p>\n",
       "</div>"
      ],
      "text/plain": [
       "          Age     SibSp     Parch      Fare FamilySize  Sex_male  \\\n",
       "0   -0.885524 -0.467125 -0.463389 -0.418093  -0.558271  0.721653   \n",
       "1    1.245490 -0.467125 -0.463389 -0.497440  -0.558271  0.721653   \n",
       "2    0.251017  0.473172 -0.463389 -0.111289   0.081222  0.721653   \n",
       "3    1.174456 -0.467125 -0.463389 -0.011930  -0.558271  0.721653   \n",
       "4   -0.885524 -0.467125  0.768354 -0.463585   0.081222 -1.385708   \n",
       "..        ...       ...       ...       ...        ...       ...   \n",
       "617  0.179983 -0.467125 -0.463389 -0.508548  -0.558271  0.721653   \n",
       "618  2.026862 -0.467125 -0.463389 -0.111289  -0.558271  0.721653   \n",
       "619  2.026862 -0.467125 -0.463389 -0.508019  -0.558271  0.721653   \n",
       "620  0.393084 -0.467125 -0.463389 -0.389000  -0.558271  0.721653   \n",
       "621 -0.672423 -0.467125 -0.463389 -0.496382  -0.558271  0.721653   \n",
       "\n",
       "    Embarked_Queenstown Embarked_Southampton  Pclass_2  Pclass_3  ...  \\\n",
       "0             -0.295656             0.613275  1.974244 -1.098032  ...   \n",
       "1              3.382307            -1.630590 -0.506523  0.910720  ...   \n",
       "2             -0.295656             0.613275  1.974244 -1.098032  ...   \n",
       "3             -0.295656            -1.630590 -0.506523 -1.098032  ...   \n",
       "4             -0.295656             0.613275 -0.506523  0.910720  ...   \n",
       "..                  ...                  ...       ...       ...  ...   \n",
       "617           -0.295656            -1.630590 -0.506523  0.910720  ...   \n",
       "618           -0.295656             0.613275 -0.506523 -1.098032  ...   \n",
       "619           -0.295656             0.613275 -0.506523  0.910720  ...   \n",
       "620           -0.295656            -1.630590  1.974244 -1.098032  ...   \n",
       "621           -0.295656             0.613275 -0.506523  0.910720  ...   \n",
       "\n",
       "    Title_Master Title_Miss Title_Mlle Title_Mme  Title_Mr Title_Mrs Title_Ms  \\\n",
       "0      -0.217113  -0.501507  -0.040129 -0.040129  0.836333 -0.395138      0.0   \n",
       "1      -0.217113  -0.501507  -0.040129 -0.040129  0.836333 -0.395138      0.0   \n",
       "2      -0.217113  -0.501507  -0.040129 -0.040129  0.836333 -0.395138      0.0   \n",
       "3      -0.217113  -0.501507  -0.040129 -0.040129  0.836333 -0.395138      0.0   \n",
       "4      -0.217113  -0.501507  -0.040129 -0.040129 -1.195695  2.530763      0.0   \n",
       "..           ...        ...        ...       ...       ...       ...      ...   \n",
       "617    -0.217113  -0.501507  -0.040129 -0.040129  0.836333 -0.395138      0.0   \n",
       "618    -0.217113  -0.501507  -0.040129 -0.040129  0.836333 -0.395138      0.0   \n",
       "619    -0.217113  -0.501507  -0.040129 -0.040129  0.836333 -0.395138      0.0   \n",
       "620    -0.217113  -0.501507  -0.040129 -0.040129  0.836333 -0.395138      0.0   \n",
       "621    -0.217113  -0.501507  -0.040129 -0.040129  0.836333 -0.395138      0.0   \n",
       "\n",
       "    Title_Rev Title_Sir Title_the Countess  \n",
       "0   -0.056796 -0.040129          -0.040129  \n",
       "1   -0.056796 -0.040129          -0.040129  \n",
       "2   -0.056796 -0.040129          -0.040129  \n",
       "3   -0.056796 -0.040129          -0.040129  \n",
       "4   -0.056796 -0.040129          -0.040129  \n",
       "..        ...       ...                ...  \n",
       "617 -0.056796 -0.040129          -0.040129  \n",
       "618 -0.056796 -0.040129          -0.040129  \n",
       "619 -0.056796 -0.040129          -0.040129  \n",
       "620 -0.056796 -0.040129          -0.040129  \n",
       "621 -0.056796 -0.040129          -0.040129  \n",
       "\n",
       "[622 rows x 26 columns]"
      ]
     },
     "execution_count": 57,
     "metadata": {},
     "output_type": "execute_result"
    }
   ],
   "source": [
    "X_train"
   ]
  },
  {
   "cell_type": "code",
   "execution_count": 58,
   "id": "9f6960f1",
   "metadata": {
    "execution": {
     "iopub.execute_input": "2021-07-23T13:56:14.696678Z",
     "iopub.status.busy": "2021-07-23T13:56:14.696000Z",
     "iopub.status.idle": "2021-07-23T13:56:14.699107Z",
     "shell.execute_reply": "2021-07-23T13:56:14.698541Z",
     "shell.execute_reply.started": "2021-07-23T13:41:17.566610Z"
    },
    "papermill": {
     "duration": 0.09335,
     "end_time": "2021-07-23T13:56:14.699251",
     "exception": false,
     "start_time": "2021-07-23T13:56:14.605901",
     "status": "completed"
    },
    "tags": []
   },
   "outputs": [],
   "source": [
    "X_scaled = scaler.transform(X_test)"
   ]
  },
  {
   "cell_type": "code",
   "execution_count": 59,
   "id": "bb48a049",
   "metadata": {
    "execution": {
     "iopub.execute_input": "2021-07-23T13:56:14.885335Z",
     "iopub.status.busy": "2021-07-23T13:56:14.884315Z",
     "iopub.status.idle": "2021-07-23T13:56:14.888114Z",
     "shell.execute_reply": "2021-07-23T13:56:14.887201Z",
     "shell.execute_reply.started": "2021-07-23T13:41:23.123936Z"
    },
    "papermill": {
     "duration": 0.105327,
     "end_time": "2021-07-23T13:56:14.888344",
     "exception": false,
     "start_time": "2021-07-23T13:56:14.783017",
     "status": "completed"
    },
    "tags": []
   },
   "outputs": [],
   "source": [
    "X_test = pd.DataFrame(X_scaled, columns=[X_test.columns])"
   ]
  },
  {
   "cell_type": "code",
   "execution_count": 60,
   "id": "11236d56",
   "metadata": {
    "execution": {
     "iopub.execute_input": "2021-07-23T13:56:15.080161Z",
     "iopub.status.busy": "2021-07-23T13:56:15.079398Z",
     "iopub.status.idle": "2021-07-23T13:56:15.325750Z",
     "shell.execute_reply": "2021-07-23T13:56:15.327087Z",
     "shell.execute_reply.started": "2021-07-23T13:41:28.152497Z"
    },
    "papermill": {
     "duration": 0.337673,
     "end_time": "2021-07-23T13:56:15.327415",
     "exception": false,
     "start_time": "2021-07-23T13:56:14.989742",
     "status": "completed"
    },
    "tags": []
   },
   "outputs": [
    {
     "data": {
      "text/plain": [
       "LogisticRegression(max_iter=500)"
      ]
     },
     "execution_count": 60,
     "metadata": {},
     "output_type": "execute_result"
    }
   ],
   "source": [
    "lr = LogisticRegression(max_iter=500)\n",
    "lr.fit(X_train, y_train)"
   ]
  },
  {
   "cell_type": "code",
   "execution_count": 61,
   "id": "f2ef49b5",
   "metadata": {
    "execution": {
     "iopub.execute_input": "2021-07-23T13:56:15.558305Z",
     "iopub.status.busy": "2021-07-23T13:56:15.557530Z",
     "iopub.status.idle": "2021-07-23T13:56:15.560367Z",
     "shell.execute_reply": "2021-07-23T13:56:15.560995Z",
     "shell.execute_reply.started": "2021-07-23T13:42:27.836691Z"
    },
    "papermill": {
     "duration": 0.096201,
     "end_time": "2021-07-23T13:56:15.561201",
     "exception": false,
     "start_time": "2021-07-23T13:56:15.465000",
     "status": "completed"
    },
    "tags": []
   },
   "outputs": [],
   "source": [
    "pred_y = lr.predict(X_test)"
   ]
  },
  {
   "cell_type": "code",
   "execution_count": 62,
   "id": "023225fb",
   "metadata": {
    "execution": {
     "iopub.execute_input": "2021-07-23T13:56:15.734913Z",
     "iopub.status.busy": "2021-07-23T13:56:15.734216Z",
     "iopub.status.idle": "2021-07-23T13:56:15.739093Z",
     "shell.execute_reply": "2021-07-23T13:56:15.738538Z",
     "shell.execute_reply.started": "2021-07-23T13:43:49.507481Z"
    },
    "papermill": {
     "duration": 0.09155,
     "end_time": "2021-07-23T13:56:15.739245",
     "exception": false,
     "start_time": "2021-07-23T13:56:15.647695",
     "status": "completed"
    },
    "tags": []
   },
   "outputs": [],
   "source": [
    "from sklearn.metrics import accuracy_score,classification_report,confusion_matrix"
   ]
  },
  {
   "cell_type": "code",
   "execution_count": 63,
   "id": "b90983a5",
   "metadata": {
    "execution": {
     "iopub.execute_input": "2021-07-23T13:56:15.917255Z",
     "iopub.status.busy": "2021-07-23T13:56:15.916447Z",
     "iopub.status.idle": "2021-07-23T13:56:15.919808Z",
     "shell.execute_reply": "2021-07-23T13:56:15.920342Z",
     "shell.execute_reply.started": "2021-07-23T13:43:50.070975Z"
    },
    "papermill": {
     "duration": 0.096127,
     "end_time": "2021-07-23T13:56:15.920518",
     "exception": false,
     "start_time": "2021-07-23T13:56:15.824391",
     "status": "completed"
    },
    "tags": []
   },
   "outputs": [
    {
     "data": {
      "text/plain": [
       "0.8389513108614233"
      ]
     },
     "execution_count": 63,
     "metadata": {},
     "output_type": "execute_result"
    }
   ],
   "source": [
    "accuracy_score(y_test,pred_y)"
   ]
  },
  {
   "cell_type": "code",
   "execution_count": 64,
   "id": "aad1d391",
   "metadata": {
    "execution": {
     "iopub.execute_input": "2021-07-23T13:56:16.097942Z",
     "iopub.status.busy": "2021-07-23T13:56:16.095229Z",
     "iopub.status.idle": "2021-07-23T13:56:16.102558Z",
     "shell.execute_reply": "2021-07-23T13:56:16.103118Z",
     "shell.execute_reply.started": "2021-07-23T13:44:07.886445Z"
    },
    "papermill": {
     "duration": 0.09837,
     "end_time": "2021-07-23T13:56:16.103336",
     "exception": false,
     "start_time": "2021-07-23T13:56:16.004966",
     "status": "completed"
    },
    "tags": []
   },
   "outputs": [
    {
     "data": {
      "text/plain": [
       "array([[148,  23],\n",
       "       [ 20,  76]])"
      ]
     },
     "execution_count": 64,
     "metadata": {},
     "output_type": "execute_result"
    }
   ],
   "source": [
    "confusion_matrix(y_test, pred_y)\n"
   ]
  },
  {
   "cell_type": "code",
   "execution_count": 65,
   "id": "745c0b69",
   "metadata": {
    "execution": {
     "iopub.execute_input": "2021-07-23T13:56:16.283876Z",
     "iopub.status.busy": "2021-07-23T13:56:16.283165Z",
     "iopub.status.idle": "2021-07-23T13:56:16.293517Z",
     "shell.execute_reply": "2021-07-23T13:56:16.292760Z",
     "shell.execute_reply.started": "2021-07-23T13:44:32.579999Z"
    },
    "papermill": {
     "duration": 0.103013,
     "end_time": "2021-07-23T13:56:16.293672",
     "exception": false,
     "start_time": "2021-07-23T13:56:16.190659",
     "status": "completed"
    },
    "tags": []
   },
   "outputs": [
    {
     "name": "stdout",
     "output_type": "stream",
     "text": [
      "              precision    recall  f1-score   support\n",
      "\n",
      "           0       0.88      0.87      0.87       171\n",
      "           1       0.77      0.79      0.78        96\n",
      "\n",
      "    accuracy                           0.84       267\n",
      "   macro avg       0.82      0.83      0.83       267\n",
      "weighted avg       0.84      0.84      0.84       267\n",
      "\n"
     ]
    }
   ],
   "source": [
    "print(classification_report(y_test, pred_y))"
   ]
  },
  {
   "cell_type": "code",
   "execution_count": 66,
   "id": "aa2e241a",
   "metadata": {
    "execution": {
     "iopub.execute_input": "2021-07-23T13:56:16.482693Z",
     "iopub.status.busy": "2021-07-23T13:56:16.481562Z",
     "iopub.status.idle": "2021-07-23T13:56:16.677305Z",
     "shell.execute_reply": "2021-07-23T13:56:16.676582Z",
     "shell.execute_reply.started": "2021-07-23T13:45:30.778761Z"
    },
    "papermill": {
     "duration": 0.289377,
     "end_time": "2021-07-23T13:56:16.677476",
     "exception": false,
     "start_time": "2021-07-23T13:56:16.388099",
     "status": "completed"
    },
    "tags": []
   },
   "outputs": [
    {
     "data": {
      "image/png": "[encoded data removed]",
      "text/plain": [
       "<Figure size 432x288 with 1 Axes>"
      ]
     },
     "metadata": {},
     "output_type": "display_data"
    }
   ],
   "source": [
    "plt.plot(confusion_matrix(y_test, pred_y))\n",
    "plt.show()"
   ]
  },
  {
   "cell_type": "code",
   "execution_count": 67,
   "id": "63151465",
   "metadata": {
    "execution": {
     "iopub.execute_input": "2021-07-23T13:56:16.859963Z",
     "iopub.status.busy": "2021-07-23T13:56:16.859216Z",
     "iopub.status.idle": "2021-07-23T13:56:16.863192Z",
     "shell.execute_reply": "2021-07-23T13:56:16.864026Z",
     "shell.execute_reply.started": "2021-07-23T13:45:44.890249Z"
    },
    "papermill": {
     "duration": 0.099833,
     "end_time": "2021-07-23T13:56:16.864224",
     "exception": false,
     "start_time": "2021-07-23T13:56:16.764391",
     "status": "completed"
    },
    "tags": []
   },
   "outputs": [
    {
     "data": {
      "text/plain": [
       "0    0.617548\n",
       "1    0.382452\n",
       "Name: Survived, dtype: float64"
      ]
     },
     "execution_count": 67,
     "metadata": {},
     "output_type": "execute_result"
    }
   ],
   "source": [
    "train['Survived'].value_counts(normalize=True)"
   ]
  },
  {
   "cell_type": "code",
   "execution_count": 68,
   "id": "5946fd73",
   "metadata": {
    "execution": {
     "iopub.execute_input": "2021-07-23T13:56:17.040398Z",
     "iopub.status.busy": "2021-07-23T13:56:17.039708Z",
     "iopub.status.idle": "2021-07-23T13:56:17.052324Z",
     "shell.execute_reply": "2021-07-23T13:56:17.052808Z",
     "shell.execute_reply.started": "2021-07-23T13:46:14.264817Z"
    },
    "papermill": {
     "duration": 0.101988,
     "end_time": "2021-07-23T13:56:17.053038",
     "exception": false,
     "start_time": "2021-07-23T13:56:16.951050",
     "status": "completed"
    },
    "tags": []
   },
   "outputs": [
    {
     "data": {
      "text/plain": [
       "DecisionTreeClassifier(max_depth=4)"
      ]
     },
     "execution_count": 68,
     "metadata": {},
     "output_type": "execute_result"
    }
   ],
   "source": [
    "dt = DecisionTreeClassifier(max_depth=4)\n",
    "dt.fit(X_train, y_train)"
   ]
  },
  {
   "cell_type": "code",
   "execution_count": 69,
   "id": "508d1fba",
   "metadata": {
    "execution": {
     "iopub.execute_input": "2021-07-23T13:56:17.233820Z",
     "iopub.status.busy": "2021-07-23T13:56:17.233100Z",
     "iopub.status.idle": "2021-07-23T13:56:17.244501Z",
     "shell.execute_reply": "2021-07-23T13:56:17.245005Z",
     "shell.execute_reply.started": "2021-07-23T13:46:30.468015Z"
    },
    "papermill": {
     "duration": 0.103294,
     "end_time": "2021-07-23T13:56:17.245197",
     "exception": false,
     "start_time": "2021-07-23T13:56:17.141903",
     "status": "completed"
    },
    "tags": []
   },
   "outputs": [
    {
     "data": {
      "text/plain": [
       "(0.8440514469453376, 0.8239700374531835)"
      ]
     },
     "execution_count": 69,
     "metadata": {},
     "output_type": "execute_result"
    }
   ],
   "source": [
    "dt.score(X_train, y_train), dt.score(X_test, y_test)"
   ]
  },
  {
   "cell_type": "code",
   "execution_count": 70,
   "id": "db99e6f3",
   "metadata": {
    "execution": {
     "iopub.execute_input": "2021-07-23T13:56:17.431008Z",
     "iopub.status.busy": "2021-07-23T13:56:17.430052Z",
     "iopub.status.idle": "2021-07-23T13:56:17.437019Z",
     "shell.execute_reply": "2021-07-23T13:56:17.437489Z",
     "shell.execute_reply.started": "2021-07-23T13:47:29.995180Z"
    },
    "papermill": {
     "duration": 0.101974,
     "end_time": "2021-07-23T13:56:17.437679",
     "exception": false,
     "start_time": "2021-07-23T13:56:17.335705",
     "status": "completed"
    },
    "tags": []
   },
   "outputs": [],
   "source": [
    "y_dt = dt.predict(X_test)"
   ]
  },
  {
   "cell_type": "code",
   "execution_count": 71,
   "id": "c37d91fb",
   "metadata": {
    "execution": {
     "iopub.execute_input": "2021-07-23T13:56:17.619235Z",
     "iopub.status.busy": "2021-07-23T13:56:17.618226Z",
     "iopub.status.idle": "2021-07-23T13:56:17.625379Z",
     "shell.execute_reply": "2021-07-23T13:56:17.624891Z",
     "shell.execute_reply.started": "2021-07-23T13:47:30.507125Z"
    },
    "papermill": {
     "duration": 0.099478,
     "end_time": "2021-07-23T13:56:17.625522",
     "exception": false,
     "start_time": "2021-07-23T13:56:17.526044",
     "status": "completed"
    },
    "tags": []
   },
   "outputs": [
    {
     "data": {
      "text/plain": [
       "0.8239700374531835"
      ]
     },
     "execution_count": 71,
     "metadata": {},
     "output_type": "execute_result"
    }
   ],
   "source": [
    "accuracy_score(y_test,y_dt)"
   ]
  },
  {
   "cell_type": "code",
   "execution_count": 72,
   "id": "29384c69",
   "metadata": {
    "execution": {
     "iopub.execute_input": "2021-07-23T13:56:17.815682Z",
     "iopub.status.busy": "2021-07-23T13:56:17.814566Z",
     "iopub.status.idle": "2021-07-23T13:56:17.823186Z",
     "shell.execute_reply": "2021-07-23T13:56:17.823978Z",
     "shell.execute_reply.started": "2021-07-23T13:47:49.797821Z"
    },
    "papermill": {
     "duration": 0.104155,
     "end_time": "2021-07-23T13:56:17.824192",
     "exception": false,
     "start_time": "2021-07-23T13:56:17.720037",
     "status": "completed"
    },
    "tags": []
   },
   "outputs": [
    {
     "name": "stdout",
     "output_type": "stream",
     "text": [
      "              precision    recall  f1-score   support\n",
      "\n",
      "           0       0.87      0.85      0.86       171\n",
      "           1       0.74      0.78      0.76        96\n",
      "\n",
      "    accuracy                           0.82       267\n",
      "   macro avg       0.81      0.81      0.81       267\n",
      "weighted avg       0.83      0.82      0.82       267\n",
      "\n"
     ]
    }
   ],
   "source": [
    "print(classification_report(y_test, y_dt))"
   ]
  },
  {
   "cell_type": "code",
   "execution_count": 73,
   "id": "ef33adc4",
   "metadata": {
    "execution": {
     "iopub.execute_input": "2021-07-23T13:56:18.063227Z",
     "iopub.status.busy": "2021-07-23T13:56:18.061978Z",
     "iopub.status.idle": "2021-07-23T13:56:18.066756Z",
     "shell.execute_reply": "2021-07-23T13:56:18.067328Z",
     "shell.execute_reply.started": "2021-07-23T13:48:27.344702Z"
    },
    "papermill": {
     "duration": 0.153802,
     "end_time": "2021-07-23T13:56:18.067541",
     "exception": false,
     "start_time": "2021-07-23T13:56:17.913739",
     "status": "completed"
    },
    "tags": []
   },
   "outputs": [],
   "source": [
    "from sklearn.svm import SVC"
   ]
  },
  {
   "cell_type": "code",
   "execution_count": 74,
   "id": "32820ab9",
   "metadata": {
    "execution": {
     "iopub.execute_input": "2021-07-23T13:56:18.263158Z",
     "iopub.status.busy": "2021-07-23T13:56:18.262000Z",
     "iopub.status.idle": "2021-07-23T13:56:18.266367Z",
     "shell.execute_reply": "2021-07-23T13:56:18.266862Z",
     "shell.execute_reply.started": "2021-07-23T13:48:36.329284Z"
    },
    "papermill": {
     "duration": 0.10281,
     "end_time": "2021-07-23T13:56:18.267071",
     "exception": false,
     "start_time": "2021-07-23T13:56:18.164261",
     "status": "completed"
    },
    "tags": []
   },
   "outputs": [],
   "source": [
    "svm = SVC()"
   ]
  },
  {
   "cell_type": "code",
   "execution_count": 75,
   "id": "ab7d1ab8",
   "metadata": {
    "execution": {
     "iopub.execute_input": "2021-07-23T13:56:18.456620Z",
     "iopub.status.busy": "2021-07-23T13:56:18.455615Z",
     "iopub.status.idle": "2021-07-23T13:56:18.484037Z",
     "shell.execute_reply": "2021-07-23T13:56:18.484524Z",
     "shell.execute_reply.started": "2021-07-23T13:48:46.898312Z"
    },
    "papermill": {
     "duration": 0.125493,
     "end_time": "2021-07-23T13:56:18.484714",
     "exception": false,
     "start_time": "2021-07-23T13:56:18.359221",
     "status": "completed"
    },
    "tags": []
   },
   "outputs": [
    {
     "data": {
      "text/plain": [
       "SVC()"
      ]
     },
     "execution_count": 75,
     "metadata": {},
     "output_type": "execute_result"
    }
   ],
   "source": [
    "svm.fit(X_train,y_train)"
   ]
  },
  {
   "cell_type": "code",
   "execution_count": 76,
   "id": "b2b8188b",
   "metadata": {
    "execution": {
     "iopub.execute_input": "2021-07-23T13:56:18.671591Z",
     "iopub.status.busy": "2021-07-23T13:56:18.670532Z",
     "iopub.status.idle": "2021-07-23T13:56:18.682386Z",
     "shell.execute_reply": "2021-07-23T13:56:18.682935Z",
     "shell.execute_reply.started": "2021-07-23T13:49:05.496085Z"
    },
    "papermill": {
     "duration": 0.108432,
     "end_time": "2021-07-23T13:56:18.683139",
     "exception": false,
     "start_time": "2021-07-23T13:56:18.574707",
     "status": "completed"
    },
    "tags": []
   },
   "outputs": [],
   "source": [
    "y_svm = svm.predict(X_test)"
   ]
  },
  {
   "cell_type": "code",
   "execution_count": 77,
   "id": "5af75e61",
   "metadata": {
    "execution": {
     "iopub.execute_input": "2021-07-23T13:56:18.867160Z",
     "iopub.status.busy": "2021-07-23T13:56:18.866083Z",
     "iopub.status.idle": "2021-07-23T13:56:18.873073Z",
     "shell.execute_reply": "2021-07-23T13:56:18.873646Z",
     "shell.execute_reply.started": "2021-07-23T13:49:27.790346Z"
    },
    "papermill": {
     "duration": 0.099983,
     "end_time": "2021-07-23T13:56:18.873856",
     "exception": false,
     "start_time": "2021-07-23T13:56:18.773873",
     "status": "completed"
    },
    "tags": []
   },
   "outputs": [
    {
     "data": {
      "text/plain": [
       "0.846441947565543"
      ]
     },
     "execution_count": 77,
     "metadata": {},
     "output_type": "execute_result"
    }
   ],
   "source": [
    "accuracy_score(y_test,y_svm)"
   ]
  },
  {
   "cell_type": "code",
   "execution_count": 78,
   "id": "0cae824c",
   "metadata": {
    "execution": {
     "iopub.execute_input": "2021-07-23T13:56:19.064829Z",
     "iopub.status.busy": "2021-07-23T13:56:19.063782Z",
     "iopub.status.idle": "2021-07-23T13:56:19.099415Z",
     "shell.execute_reply": "2021-07-23T13:56:19.098597Z",
     "shell.execute_reply.started": "2021-07-23T13:51:59.134120Z"
    },
    "papermill": {
     "duration": 0.133043,
     "end_time": "2021-07-23T13:56:19.099583",
     "exception": false,
     "start_time": "2021-07-23T13:56:18.966540",
     "status": "completed"
    },
    "tags": []
   },
   "outputs": [],
   "source": [
    "from sklearn.ensemble import RandomForestClassifier"
   ]
  },
  {
   "cell_type": "code",
   "execution_count": 79,
   "id": "6a3a7a4b",
   "metadata": {
    "execution": {
     "iopub.execute_input": "2021-07-23T13:56:19.285933Z",
     "iopub.status.busy": "2021-07-23T13:56:19.284765Z",
     "iopub.status.idle": "2021-07-23T13:56:19.289598Z",
     "shell.execute_reply": "2021-07-23T13:56:19.290197Z",
     "shell.execute_reply.started": "2021-07-23T13:54:13.878088Z"
    },
    "papermill": {
     "duration": 0.096795,
     "end_time": "2021-07-23T13:56:19.290398",
     "exception": false,
     "start_time": "2021-07-23T13:56:19.193603",
     "status": "completed"
    },
    "tags": []
   },
   "outputs": [],
   "source": [
    "rfc = RandomForestClassifier(n_estimators = 100,max_depth = 8)"
   ]
  },
  {
   "cell_type": "code",
   "execution_count": 80,
   "id": "ff85ae84",
   "metadata": {
    "execution": {
     "iopub.execute_input": "2021-07-23T13:56:19.476953Z",
     "iopub.status.busy": "2021-07-23T13:56:19.475932Z",
     "iopub.status.idle": "2021-07-23T13:56:19.709114Z",
     "shell.execute_reply": "2021-07-23T13:56:19.709595Z",
     "shell.execute_reply.started": "2021-07-23T13:54:14.914676Z"
    },
    "papermill": {
     "duration": 0.32906,
     "end_time": "2021-07-23T13:56:19.709803",
     "exception": false,
     "start_time": "2021-07-23T13:56:19.380743",
     "status": "completed"
    },
    "tags": []
   },
   "outputs": [
    {
     "data": {
      "text/plain": [
       "RandomForestClassifier(max_depth=8)"
      ]
     },
     "execution_count": 80,
     "metadata": {},
     "output_type": "execute_result"
    }
   ],
   "source": [
    "rfc.fit(X_train,y_train)"
   ]
  },
  {
   "cell_type": "code",
   "execution_count": 81,
   "id": "d35dc174",
   "metadata": {
    "execution": {
     "iopub.execute_input": "2021-07-23T13:56:19.892301Z",
     "iopub.status.busy": "2021-07-23T13:56:19.891270Z",
     "iopub.status.idle": "2021-07-23T13:56:19.911352Z",
     "shell.execute_reply": "2021-07-23T13:56:19.911909Z",
     "shell.execute_reply.started": "2021-07-23T13:54:15.804483Z"
    },
    "papermill": {
     "duration": 0.112967,
     "end_time": "2021-07-23T13:56:19.912105",
     "exception": false,
     "start_time": "2021-07-23T13:56:19.799138",
     "status": "completed"
    },
    "tags": []
   },
   "outputs": [],
   "source": [
    "y_rfc = rfc.predict(X_test)"
   ]
  },
  {
   "cell_type": "code",
   "execution_count": 82,
   "id": "9284940c",
   "metadata": {
    "execution": {
     "iopub.execute_input": "2021-07-23T13:56:20.101745Z",
     "iopub.status.busy": "2021-07-23T13:56:20.100448Z",
     "iopub.status.idle": "2021-07-23T13:56:20.107781Z",
     "shell.execute_reply": "2021-07-23T13:56:20.108319Z",
     "shell.execute_reply.started": "2021-07-23T13:54:16.656151Z"
    },
    "papermill": {
     "duration": 0.104945,
     "end_time": "2021-07-23T13:56:20.108520",
     "exception": false,
     "start_time": "2021-07-23T13:56:20.003575",
     "status": "completed"
    },
    "tags": []
   },
   "outputs": [
    {
     "data": {
      "text/plain": [
       "0.850187265917603"
      ]
     },
     "execution_count": 82,
     "metadata": {},
     "output_type": "execute_result"
    }
   ],
   "source": [
    "accuracy_score(y_test,y_rfc)"
   ]
  },
  {
   "cell_type": "code",
   "execution_count": null,
   "id": "2fbb4cba",
   "metadata": {
    "papermill": {
     "duration": 0.099487,
     "end_time": "2021-07-23T13:56:20.300077",
     "exception": false,
     "start_time": "2021-07-23T13:56:20.200590",
     "status": "completed"
    },
    "tags": []
   },
   "outputs": [],
   "source": []
  }
 ],
 "metadata": {
  "kernelspec": {
   "display_name": "Python 3",
   "language": "python",
   "name": "python3"
  },
  "language_info": {
   "codemirror_mode": {
    "name": "ipython",
    "version": 3
   },
   "file_extension": ".py",
   "mimetype": "text/x-python",
   "name": "python",
   "nbconvert_exporter": "python",
   "pygments_lexer": "ipython3",
   "version": "3.7.10"
  },
  "papermill": {
   "default_parameters": {},
   "duration": 37.877087,
   "end_time": "2021-07-23T13:56:21.307435",
   "environment_variables": {},
   "exception": null,
   "input_path": "__notebook__.ipynb",
   "output_path": "__notebook__.ipynb",
   "parameters": {},
   "start_time": "2021-07-23T13:55:43.430348",
   "version": "2.3.3"
  }
 },
 "nbformat": 4,
 "nbformat_minor": 5
}
