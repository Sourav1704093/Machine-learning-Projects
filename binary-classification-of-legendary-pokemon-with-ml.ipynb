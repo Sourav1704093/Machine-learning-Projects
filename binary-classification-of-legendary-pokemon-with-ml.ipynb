{
 "cells": [
  {
   "cell_type": "code",
   "execution_count": 1,
   "id": "c89ac27c",
   "metadata": {
    "_cell_guid": "b1076dfc-b9ad-4769-8c92-a6c4dae69d19",
    "_uuid": "8f2839f25d086af736a60e9eeb907d3b93b6e0e5",
    "execution": {
     "iopub.execute_input": "2021-08-08T13:02:39.098663Z",
     "iopub.status.busy": "2021-08-08T13:02:39.098060Z",
     "iopub.status.idle": "2021-08-08T13:02:40.140180Z",
     "shell.execute_reply": "2021-08-08T13:02:40.139389Z",
     "shell.execute_reply.started": "2021-08-08T12:52:35.500869Z"
    },
    "papermill": {
     "duration": 1.083193,
     "end_time": "2021-08-08T13:02:40.140369",
     "exception": false,
     "start_time": "2021-08-08T13:02:39.057176",
     "status": "completed"
    },
    "tags": []
   },
   "outputs": [],
   "source": [
    "import pandas as pd\n",
    "import numpy as np\n",
    "import matplotlib.pyplot as plt\n",
    "import seaborn as sns"
   ]
  },
  {
   "cell_type": "code",
   "execution_count": 2,
   "id": "c2cd381f",
   "metadata": {
    "execution": {
     "iopub.execute_input": "2021-08-08T13:02:40.208474Z",
     "iopub.status.busy": "2021-08-08T13:02:40.207771Z",
     "iopub.status.idle": "2021-08-08T13:02:40.232479Z",
     "shell.execute_reply": "2021-08-08T13:02:40.231866Z",
     "shell.execute_reply.started": "2021-08-08T12:52:35.508476Z"
    },
    "papermill": {
     "duration": 0.06013,
     "end_time": "2021-08-08T13:02:40.232633",
     "exception": false,
     "start_time": "2021-08-08T13:02:40.172503",
     "status": "completed"
    },
    "tags": []
   },
   "outputs": [],
   "source": [
    "df = pd.read_csv('../input/pokemon/Pokemon.csv')"
   ]
  },
  {
   "cell_type": "code",
   "execution_count": 3,
   "id": "b4bdc0ce",
   "metadata": {
    "execution": {
     "iopub.execute_input": "2021-08-08T13:02:40.304828Z",
     "iopub.status.busy": "2021-08-08T13:02:40.304139Z",
     "iopub.status.idle": "2021-08-08T13:02:40.336992Z",
     "shell.execute_reply": "2021-08-08T13:02:40.337639Z",
     "shell.execute_reply.started": "2021-08-08T12:52:35.539149Z"
    },
    "papermill": {
     "duration": 0.075358,
     "end_time": "2021-08-08T13:02:40.337845",
     "exception": false,
     "start_time": "2021-08-08T13:02:40.262487",
     "status": "completed"
    },
    "tags": []
   },
   "outputs": [
    {
     "data": {
      "text/html": [
       "<div>\n",
       "<style scoped>\n",
       "    .dataframe tbody tr th:only-of-type {\n",
       "        vertical-align: middle;\n",
       "    }\n",
       "\n",
       "    .dataframe tbody tr th {\n",
       "        vertical-align: top;\n",
       "    }\n",
       "\n",
       "    .dataframe thead th {\n",
       "        text-align: right;\n",
       "    }\n",
       "</style>\n",
       "<table border=\"1\" class=\"dataframe\">\n",
       "  <thead>\n",
       "    <tr style=\"text-align: right;\">\n",
       "      <th></th>\n",
       "      <th>#</th>\n",
       "      <th>Name</th>\n",
       "      <th>Type 1</th>\n",
       "      <th>Type 2</th>\n",
       "      <th>Total</th>\n",
       "      <th>HP</th>\n",
       "      <th>Attack</th>\n",
       "      <th>Defense</th>\n",
       "      <th>Sp. Atk</th>\n",
       "      <th>Sp. Def</th>\n",
       "      <th>Speed</th>\n",
       "      <th>Generation</th>\n",
       "      <th>Legendary</th>\n",
       "    </tr>\n",
       "  </thead>\n",
       "  <tbody>\n",
       "    <tr>\n",
       "      <th>0</th>\n",
       "      <td>1</td>\n",
       "      <td>Bulbasaur</td>\n",
       "      <td>Grass</td>\n",
       "      <td>Poison</td>\n",
       "      <td>318</td>\n",
       "      <td>45</td>\n",
       "      <td>49</td>\n",
       "      <td>49</td>\n",
       "      <td>65</td>\n",
       "      <td>65</td>\n",
       "      <td>45</td>\n",
       "      <td>1</td>\n",
       "      <td>False</td>\n",
       "    </tr>\n",
       "    <tr>\n",
       "      <th>1</th>\n",
       "      <td>2</td>\n",
       "      <td>Ivysaur</td>\n",
       "      <td>Grass</td>\n",
       "      <td>Poison</td>\n",
       "      <td>405</td>\n",
       "      <td>60</td>\n",
       "      <td>62</td>\n",
       "      <td>63</td>\n",
       "      <td>80</td>\n",
       "      <td>80</td>\n",
       "      <td>60</td>\n",
       "      <td>1</td>\n",
       "      <td>False</td>\n",
       "    </tr>\n",
       "    <tr>\n",
       "      <th>2</th>\n",
       "      <td>3</td>\n",
       "      <td>Venusaur</td>\n",
       "      <td>Grass</td>\n",
       "      <td>Poison</td>\n",
       "      <td>525</td>\n",
       "      <td>80</td>\n",
       "      <td>82</td>\n",
       "      <td>83</td>\n",
       "      <td>100</td>\n",
       "      <td>100</td>\n",
       "      <td>80</td>\n",
       "      <td>1</td>\n",
       "      <td>False</td>\n",
       "    </tr>\n",
       "    <tr>\n",
       "      <th>3</th>\n",
       "      <td>3</td>\n",
       "      <td>VenusaurMega Venusaur</td>\n",
       "      <td>Grass</td>\n",
       "      <td>Poison</td>\n",
       "      <td>625</td>\n",
       "      <td>80</td>\n",
       "      <td>100</td>\n",
       "      <td>123</td>\n",
       "      <td>122</td>\n",
       "      <td>120</td>\n",
       "      <td>80</td>\n",
       "      <td>1</td>\n",
       "      <td>False</td>\n",
       "    </tr>\n",
       "    <tr>\n",
       "      <th>4</th>\n",
       "      <td>4</td>\n",
       "      <td>Charmander</td>\n",
       "      <td>Fire</td>\n",
       "      <td>NaN</td>\n",
       "      <td>309</td>\n",
       "      <td>39</td>\n",
       "      <td>52</td>\n",
       "      <td>43</td>\n",
       "      <td>60</td>\n",
       "      <td>50</td>\n",
       "      <td>65</td>\n",
       "      <td>1</td>\n",
       "      <td>False</td>\n",
       "    </tr>\n",
       "  </tbody>\n",
       "</table>\n",
       "</div>"
      ],
      "text/plain": [
       "   #                   Name Type 1  Type 2  Total  HP  Attack  Defense  \\\n",
       "0  1              Bulbasaur  Grass  Poison    318  45      49       49   \n",
       "1  2                Ivysaur  Grass  Poison    405  60      62       63   \n",
       "2  3               Venusaur  Grass  Poison    525  80      82       83   \n",
       "3  3  VenusaurMega Venusaur  Grass  Poison    625  80     100      123   \n",
       "4  4             Charmander   Fire     NaN    309  39      52       43   \n",
       "\n",
       "   Sp. Atk  Sp. Def  Speed  Generation  Legendary  \n",
       "0       65       65     45           1      False  \n",
       "1       80       80     60           1      False  \n",
       "2      100      100     80           1      False  \n",
       "3      122      120     80           1      False  \n",
       "4       60       50     65           1      False  "
      ]
     },
     "execution_count": 3,
     "metadata": {},
     "output_type": "execute_result"
    }
   ],
   "source": [
    "df.head()"
   ]
  },
  {
   "cell_type": "code",
   "execution_count": 4,
   "id": "02e35c8e",
   "metadata": {
    "execution": {
     "iopub.execute_input": "2021-08-08T13:02:40.425802Z",
     "iopub.status.busy": "2021-08-08T13:02:40.424703Z",
     "iopub.status.idle": "2021-08-08T13:02:40.429397Z",
     "shell.execute_reply": "2021-08-08T13:02:40.428802Z",
     "shell.execute_reply.started": "2021-08-08T12:52:35.564828Z"
    },
    "papermill": {
     "duration": 0.053666,
     "end_time": "2021-08-08T13:02:40.429554",
     "exception": false,
     "start_time": "2021-08-08T13:02:40.375888",
     "status": "completed"
    },
    "tags": []
   },
   "outputs": [
    {
     "data": {
      "text/plain": [
       "(800, 13)"
      ]
     },
     "execution_count": 4,
     "metadata": {},
     "output_type": "execute_result"
    }
   ],
   "source": [
    "df.shape"
   ]
  },
  {
   "cell_type": "code",
   "execution_count": 5,
   "id": "eb2400eb",
   "metadata": {
    "execution": {
     "iopub.execute_input": "2021-08-08T13:02:40.500500Z",
     "iopub.status.busy": "2021-08-08T13:02:40.499466Z",
     "iopub.status.idle": "2021-08-08T13:02:40.519335Z",
     "shell.execute_reply": "2021-08-08T13:02:40.518668Z",
     "shell.execute_reply.started": "2021-08-08T12:52:35.579940Z"
    },
    "papermill": {
     "duration": 0.057789,
     "end_time": "2021-08-08T13:02:40.519479",
     "exception": false,
     "start_time": "2021-08-08T13:02:40.461690",
     "status": "completed"
    },
    "tags": []
   },
   "outputs": [
    {
     "name": "stdout",
     "output_type": "stream",
     "text": [
      "<class 'pandas.core.frame.DataFrame'>\n",
      "RangeIndex: 800 entries, 0 to 799\n",
      "Data columns (total 13 columns):\n",
      " #   Column      Non-Null Count  Dtype \n",
      "---  ------      --------------  ----- \n",
      " 0   #           800 non-null    int64 \n",
      " 1   Name        800 non-null    object\n",
      " 2   Type 1      800 non-null    object\n",
      " 3   Type 2      414 non-null    object\n",
      " 4   Total       800 non-null    int64 \n",
      " 5   HP          800 non-null    int64 \n",
      " 6   Attack      800 non-null    int64 \n",
      " 7   Defense     800 non-null    int64 \n",
      " 8   Sp. Atk     800 non-null    int64 \n",
      " 9   Sp. Def     800 non-null    int64 \n",
      " 10  Speed       800 non-null    int64 \n",
      " 11  Generation  800 non-null    int64 \n",
      " 12  Legendary   800 non-null    bool  \n",
      "dtypes: bool(1), int64(9), object(3)\n",
      "memory usage: 75.9+ KB\n"
     ]
    }
   ],
   "source": [
    "df.info()"
   ]
  },
  {
   "cell_type": "code",
   "execution_count": 6,
   "id": "ccd57c21",
   "metadata": {
    "execution": {
     "iopub.execute_input": "2021-08-08T13:02:40.591288Z",
     "iopub.status.busy": "2021-08-08T13:02:40.590358Z",
     "iopub.status.idle": "2021-08-08T13:02:40.594684Z",
     "shell.execute_reply": "2021-08-08T13:02:40.594083Z",
     "shell.execute_reply.started": "2021-08-08T12:52:35.607094Z"
    },
    "papermill": {
     "duration": 0.043303,
     "end_time": "2021-08-08T13:02:40.594831",
     "exception": false,
     "start_time": "2021-08-08T13:02:40.551528",
     "status": "completed"
    },
    "tags": []
   },
   "outputs": [
    {
     "data": {
      "text/plain": [
       "#               0\n",
       "Name            0\n",
       "Type 1          0\n",
       "Type 2        386\n",
       "Total           0\n",
       "HP              0\n",
       "Attack          0\n",
       "Defense         0\n",
       "Sp. Atk         0\n",
       "Sp. Def         0\n",
       "Speed           0\n",
       "Generation      0\n",
       "Legendary       0\n",
       "dtype: int64"
      ]
     },
     "execution_count": 6,
     "metadata": {},
     "output_type": "execute_result"
    }
   ],
   "source": [
    "df.isnull().sum()"
   ]
  },
  {
   "cell_type": "code",
   "execution_count": 7,
   "id": "e36c7e9a",
   "metadata": {
    "execution": {
     "iopub.execute_input": "2021-08-08T13:02:40.665710Z",
     "iopub.status.busy": "2021-08-08T13:02:40.664586Z",
     "iopub.status.idle": "2021-08-08T13:02:40.667101Z",
     "shell.execute_reply": "2021-08-08T13:02:40.667618Z",
     "shell.execute_reply.started": "2021-08-08T12:52:35.622076Z"
    },
    "papermill": {
     "duration": 0.041465,
     "end_time": "2021-08-08T13:02:40.667796",
     "exception": false,
     "start_time": "2021-08-08T13:02:40.626331",
     "status": "completed"
    },
    "tags": []
   },
   "outputs": [],
   "source": [
    "df.drop(columns = ['#','Name','Type 1','Type 2'],inplace = True)"
   ]
  },
  {
   "cell_type": "code",
   "execution_count": 8,
   "id": "dc4d68f6",
   "metadata": {
    "execution": {
     "iopub.execute_input": "2021-08-08T13:02:40.734325Z",
     "iopub.status.busy": "2021-08-08T13:02:40.733324Z",
     "iopub.status.idle": "2021-08-08T13:02:40.747085Z",
     "shell.execute_reply": "2021-08-08T13:02:40.746417Z",
     "shell.execute_reply.started": "2021-08-08T12:52:35.635825Z"
    },
    "papermill": {
     "duration": 0.048308,
     "end_time": "2021-08-08T13:02:40.747235",
     "exception": false,
     "start_time": "2021-08-08T13:02:40.698927",
     "status": "completed"
    },
    "tags": []
   },
   "outputs": [
    {
     "data": {
      "text/html": [
       "<div>\n",
       "<style scoped>\n",
       "    .dataframe tbody tr th:only-of-type {\n",
       "        vertical-align: middle;\n",
       "    }\n",
       "\n",
       "    .dataframe tbody tr th {\n",
       "        vertical-align: top;\n",
       "    }\n",
       "\n",
       "    .dataframe thead th {\n",
       "        text-align: right;\n",
       "    }\n",
       "</style>\n",
       "<table border=\"1\" class=\"dataframe\">\n",
       "  <thead>\n",
       "    <tr style=\"text-align: right;\">\n",
       "      <th></th>\n",
       "      <th>Total</th>\n",
       "      <th>HP</th>\n",
       "      <th>Attack</th>\n",
       "      <th>Defense</th>\n",
       "      <th>Sp. Atk</th>\n",
       "      <th>Sp. Def</th>\n",
       "      <th>Speed</th>\n",
       "      <th>Generation</th>\n",
       "      <th>Legendary</th>\n",
       "    </tr>\n",
       "  </thead>\n",
       "  <tbody>\n",
       "    <tr>\n",
       "      <th>0</th>\n",
       "      <td>318</td>\n",
       "      <td>45</td>\n",
       "      <td>49</td>\n",
       "      <td>49</td>\n",
       "      <td>65</td>\n",
       "      <td>65</td>\n",
       "      <td>45</td>\n",
       "      <td>1</td>\n",
       "      <td>False</td>\n",
       "    </tr>\n",
       "    <tr>\n",
       "      <th>1</th>\n",
       "      <td>405</td>\n",
       "      <td>60</td>\n",
       "      <td>62</td>\n",
       "      <td>63</td>\n",
       "      <td>80</td>\n",
       "      <td>80</td>\n",
       "      <td>60</td>\n",
       "      <td>1</td>\n",
       "      <td>False</td>\n",
       "    </tr>\n",
       "    <tr>\n",
       "      <th>2</th>\n",
       "      <td>525</td>\n",
       "      <td>80</td>\n",
       "      <td>82</td>\n",
       "      <td>83</td>\n",
       "      <td>100</td>\n",
       "      <td>100</td>\n",
       "      <td>80</td>\n",
       "      <td>1</td>\n",
       "      <td>False</td>\n",
       "    </tr>\n",
       "    <tr>\n",
       "      <th>3</th>\n",
       "      <td>625</td>\n",
       "      <td>80</td>\n",
       "      <td>100</td>\n",
       "      <td>123</td>\n",
       "      <td>122</td>\n",
       "      <td>120</td>\n",
       "      <td>80</td>\n",
       "      <td>1</td>\n",
       "      <td>False</td>\n",
       "    </tr>\n",
       "    <tr>\n",
       "      <th>4</th>\n",
       "      <td>309</td>\n",
       "      <td>39</td>\n",
       "      <td>52</td>\n",
       "      <td>43</td>\n",
       "      <td>60</td>\n",
       "      <td>50</td>\n",
       "      <td>65</td>\n",
       "      <td>1</td>\n",
       "      <td>False</td>\n",
       "    </tr>\n",
       "  </tbody>\n",
       "</table>\n",
       "</div>"
      ],
      "text/plain": [
       "   Total  HP  Attack  Defense  Sp. Atk  Sp. Def  Speed  Generation  Legendary\n",
       "0    318  45      49       49       65       65     45           1      False\n",
       "1    405  60      62       63       80       80     60           1      False\n",
       "2    525  80      82       83      100      100     80           1      False\n",
       "3    625  80     100      123      122      120     80           1      False\n",
       "4    309  39      52       43       60       50     65           1      False"
      ]
     },
     "execution_count": 8,
     "metadata": {},
     "output_type": "execute_result"
    }
   ],
   "source": [
    "df.head()"
   ]
  },
  {
   "cell_type": "code",
   "execution_count": 9,
   "id": "64991c78",
   "metadata": {
    "execution": {
     "iopub.execute_input": "2021-08-08T13:02:40.819734Z",
     "iopub.status.busy": "2021-08-08T13:02:40.818690Z",
     "iopub.status.idle": "2021-08-08T13:02:41.597116Z",
     "shell.execute_reply": "2021-08-08T13:02:41.597622Z",
     "shell.execute_reply.started": "2021-08-08T12:52:35.661383Z"
    },
    "papermill": {
     "duration": 0.818543,
     "end_time": "2021-08-08T13:02:41.597806",
     "exception": false,
     "start_time": "2021-08-08T13:02:40.779263",
     "status": "completed"
    },
    "tags": []
   },
   "outputs": [
    {
     "data": {
      "text/plain": [
       "<AxesSubplot:>"
      ]
     },
     "execution_count": 9,
     "metadata": {},
     "output_type": "execute_result"
    },
    {
     "data": {
      "image/png": "[encoded data removed]",
      "text/plain": [
       "<Figure size 432x288 with 2 Axes>"
      ]
     },
     "metadata": {
      "needs_background": "light"
     },
     "output_type": "display_data"
    }
   ],
   "source": [
    "sns.heatmap(df.corr(),annot = True)"
   ]
  },
  {
   "cell_type": "code",
   "execution_count": 10,
   "id": "983487a9",
   "metadata": {
    "execution": {
     "iopub.execute_input": "2021-08-08T13:02:41.675247Z",
     "iopub.status.busy": "2021-08-08T13:02:41.674293Z",
     "iopub.status.idle": "2021-08-08T13:02:41.677881Z",
     "shell.execute_reply": "2021-08-08T13:02:41.678536Z",
     "shell.execute_reply.started": "2021-08-08T12:52:36.417591Z"
    },
    "papermill": {
     "duration": 0.04662,
     "end_time": "2021-08-08T13:02:41.678711",
     "exception": false,
     "start_time": "2021-08-08T13:02:41.632091",
     "status": "completed"
    },
    "tags": []
   },
   "outputs": [
    {
     "data": {
      "text/plain": [
       "False    735\n",
       "True      65\n",
       "Name: Legendary, dtype: int64"
      ]
     },
     "execution_count": 10,
     "metadata": {},
     "output_type": "execute_result"
    }
   ],
   "source": [
    "df['Legendary'].value_counts()"
   ]
  },
  {
   "cell_type": "code",
   "execution_count": 11,
   "id": "254888b1",
   "metadata": {
    "execution": {
     "iopub.execute_input": "2021-08-08T13:02:41.751917Z",
     "iopub.status.busy": "2021-08-08T13:02:41.750926Z",
     "iopub.status.idle": "2021-08-08T13:02:41.888376Z",
     "shell.execute_reply": "2021-08-08T13:02:41.887015Z",
     "shell.execute_reply.started": "2021-08-08T12:52:36.427359Z"
    },
    "papermill": {
     "duration": 0.175654,
     "end_time": "2021-08-08T13:02:41.888538",
     "exception": false,
     "start_time": "2021-08-08T13:02:41.712884",
     "status": "completed"
    },
    "tags": []
   },
   "outputs": [],
   "source": [
    "from sklearn.preprocessing import LabelEncoder"
   ]
  },
  {
   "cell_type": "code",
   "execution_count": 12,
   "id": "50ff7b2a",
   "metadata": {
    "execution": {
     "iopub.execute_input": "2021-08-08T13:02:41.963353Z",
     "iopub.status.busy": "2021-08-08T13:02:41.962280Z",
     "iopub.status.idle": "2021-08-08T13:02:41.965202Z",
     "shell.execute_reply": "2021-08-08T13:02:41.964654Z",
     "shell.execute_reply.started": "2021-08-08T12:52:36.442689Z"
    },
    "papermill": {
     "duration": 0.042094,
     "end_time": "2021-08-08T13:02:41.965346",
     "exception": false,
     "start_time": "2021-08-08T13:02:41.923252",
     "status": "completed"
    },
    "tags": []
   },
   "outputs": [],
   "source": [
    "le = LabelEncoder()"
   ]
  },
  {
   "cell_type": "code",
   "execution_count": 13,
   "id": "d2a3aa0a",
   "metadata": {
    "execution": {
     "iopub.execute_input": "2021-08-08T13:02:42.044111Z",
     "iopub.status.busy": "2021-08-08T13:02:42.043060Z",
     "iopub.status.idle": "2021-08-08T13:02:42.045552Z",
     "shell.execute_reply": "2021-08-08T13:02:42.046088Z",
     "shell.execute_reply.started": "2021-08-08T12:52:36.455352Z"
    },
    "papermill": {
     "duration": 0.0462,
     "end_time": "2021-08-08T13:02:42.046280",
     "exception": false,
     "start_time": "2021-08-08T13:02:42.000080",
     "status": "completed"
    },
    "tags": []
   },
   "outputs": [],
   "source": [
    "df['Legendary'] = le.fit_transform(df['Legendary'])"
   ]
  },
  {
   "cell_type": "code",
   "execution_count": 14,
   "id": "e4eb0631",
   "metadata": {
    "execution": {
     "iopub.execute_input": "2021-08-08T13:02:42.123092Z",
     "iopub.status.busy": "2021-08-08T13:02:42.117962Z",
     "iopub.status.idle": "2021-08-08T13:02:42.127586Z",
     "shell.execute_reply": "2021-08-08T13:02:42.127044Z",
     "shell.execute_reply.started": "2021-08-08T12:52:36.468278Z"
    },
    "papermill": {
     "duration": 0.046939,
     "end_time": "2021-08-08T13:02:42.127737",
     "exception": false,
     "start_time": "2021-08-08T13:02:42.080798",
     "status": "completed"
    },
    "tags": []
   },
   "outputs": [
    {
     "data": {
      "text/plain": [
       "0    735\n",
       "1     65\n",
       "Name: Legendary, dtype: int64"
      ]
     },
     "execution_count": 14,
     "metadata": {},
     "output_type": "execute_result"
    }
   ],
   "source": [
    "df['Legendary'].value_counts()"
   ]
  },
  {
   "cell_type": "code",
   "execution_count": 15,
   "id": "9960988e",
   "metadata": {
    "execution": {
     "iopub.execute_input": "2021-08-08T13:02:42.205758Z",
     "iopub.status.busy": "2021-08-08T13:02:42.204788Z",
     "iopub.status.idle": "2021-08-08T13:02:42.208596Z",
     "shell.execute_reply": "2021-08-08T13:02:42.209096Z",
     "shell.execute_reply.started": "2021-08-08T12:52:36.484948Z"
    },
    "papermill": {
     "duration": 0.046701,
     "end_time": "2021-08-08T13:02:42.209297",
     "exception": false,
     "start_time": "2021-08-08T13:02:42.162596",
     "status": "completed"
    },
    "tags": []
   },
   "outputs": [
    {
     "data": {
      "text/plain": [
       "0    735\n",
       "1     65\n",
       "Name: Legendary, dtype: int64"
      ]
     },
     "execution_count": 15,
     "metadata": {},
     "output_type": "execute_result"
    }
   ],
   "source": [
    "df['Legendary'].value_counts()"
   ]
  },
  {
   "cell_type": "code",
   "execution_count": 16,
   "id": "b9947774",
   "metadata": {
    "execution": {
     "iopub.execute_input": "2021-08-08T13:02:42.284653Z",
     "iopub.status.busy": "2021-08-08T13:02:42.283860Z",
     "iopub.status.idle": "2021-08-08T13:02:42.349654Z",
     "shell.execute_reply": "2021-08-08T13:02:42.350200Z",
     "shell.execute_reply.started": "2021-08-08T12:52:36.500875Z"
    },
    "papermill": {
     "duration": 0.105927,
     "end_time": "2021-08-08T13:02:42.350411",
     "exception": false,
     "start_time": "2021-08-08T13:02:42.244484",
     "status": "completed"
    },
    "tags": []
   },
   "outputs": [],
   "source": [
    "from sklearn.model_selection import train_test_split"
   ]
  },
  {
   "cell_type": "code",
   "execution_count": 17,
   "id": "5beb3450",
   "metadata": {
    "execution": {
     "iopub.execute_input": "2021-08-08T13:02:42.426137Z",
     "iopub.status.busy": "2021-08-08T13:02:42.424984Z",
     "iopub.status.idle": "2021-08-08T13:02:42.431363Z",
     "shell.execute_reply": "2021-08-08T13:02:42.431869Z",
     "shell.execute_reply.started": "2021-08-08T12:52:36.509042Z"
    },
    "papermill": {
     "duration": 0.04591,
     "end_time": "2021-08-08T13:02:42.432087",
     "exception": false,
     "start_time": "2021-08-08T13:02:42.386177",
     "status": "completed"
    },
    "tags": []
   },
   "outputs": [],
   "source": [
    "X = df.drop('Legendary',axis = 1)\n",
    "y = df['Legendary']"
   ]
  },
  {
   "cell_type": "code",
   "execution_count": 18,
   "id": "c2b20cd6",
   "metadata": {
    "execution": {
     "iopub.execute_input": "2021-08-08T13:02:42.506517Z",
     "iopub.status.busy": "2021-08-08T13:02:42.505494Z",
     "iopub.status.idle": "2021-08-08T13:02:42.512536Z",
     "shell.execute_reply": "2021-08-08T13:02:42.513007Z",
     "shell.execute_reply.started": "2021-08-08T12:52:36.523416Z"
    },
    "papermill": {
     "duration": 0.045823,
     "end_time": "2021-08-08T13:02:42.513193",
     "exception": false,
     "start_time": "2021-08-08T13:02:42.467370",
     "status": "completed"
    },
    "tags": []
   },
   "outputs": [],
   "source": [
    "X_train,X_test,y_train,y_test = train_test_split(X,y,test_size = 0.3,random_state = 42)"
   ]
  },
  {
   "cell_type": "code",
   "execution_count": 19,
   "id": "38cb6be5",
   "metadata": {
    "execution": {
     "iopub.execute_input": "2021-08-08T13:02:42.587780Z",
     "iopub.status.busy": "2021-08-08T13:02:42.587093Z",
     "iopub.status.idle": "2021-08-08T13:02:42.590136Z",
     "shell.execute_reply": "2021-08-08T13:02:42.590604Z",
     "shell.execute_reply.started": "2021-08-08T12:52:36.539082Z"
    },
    "papermill": {
     "duration": 0.042782,
     "end_time": "2021-08-08T13:02:42.590787",
     "exception": false,
     "start_time": "2021-08-08T13:02:42.548005",
     "status": "completed"
    },
    "tags": []
   },
   "outputs": [],
   "source": [
    "from sklearn.metrics import accuracy_score,confusion_matrix,classification_report"
   ]
  },
  {
   "cell_type": "markdown",
   "id": "17c74822",
   "metadata": {
    "papermill": {
     "duration": 0.034715,
     "end_time": "2021-08-08T13:02:42.661188",
     "exception": false,
     "start_time": "2021-08-08T13:02:42.626473",
     "status": "completed"
    },
    "tags": []
   },
   "source": [
    "Using Naive Bayes"
   ]
  },
  {
   "cell_type": "code",
   "execution_count": 20,
   "id": "2dc1f6bf",
   "metadata": {
    "execution": {
     "iopub.execute_input": "2021-08-08T13:02:42.736018Z",
     "iopub.status.busy": "2021-08-08T13:02:42.735321Z",
     "iopub.status.idle": "2021-08-08T13:02:42.741784Z",
     "shell.execute_reply": "2021-08-08T13:02:42.741106Z",
     "shell.execute_reply.started": "2021-08-08T12:52:36.551564Z"
    },
    "papermill": {
     "duration": 0.045696,
     "end_time": "2021-08-08T13:02:42.741954",
     "exception": false,
     "start_time": "2021-08-08T13:02:42.696258",
     "status": "completed"
    },
    "tags": []
   },
   "outputs": [],
   "source": [
    "from sklearn.naive_bayes import GaussianNB"
   ]
  },
  {
   "cell_type": "code",
   "execution_count": 21,
   "id": "bab1c866",
   "metadata": {
    "execution": {
     "iopub.execute_input": "2021-08-08T13:02:42.818001Z",
     "iopub.status.busy": "2021-08-08T13:02:42.817182Z",
     "iopub.status.idle": "2021-08-08T13:02:42.820321Z",
     "shell.execute_reply": "2021-08-08T13:02:42.819763Z",
     "shell.execute_reply.started": "2021-08-08T12:52:36.564423Z"
    },
    "papermill": {
     "duration": 0.042562,
     "end_time": "2021-08-08T13:02:42.820466",
     "exception": false,
     "start_time": "2021-08-08T13:02:42.777904",
     "status": "completed"
    },
    "tags": []
   },
   "outputs": [],
   "source": [
    "nb = GaussianNB()"
   ]
  },
  {
   "cell_type": "code",
   "execution_count": 22,
   "id": "e709e26d",
   "metadata": {
    "execution": {
     "iopub.execute_input": "2021-08-08T13:02:42.899213Z",
     "iopub.status.busy": "2021-08-08T13:02:42.898539Z",
     "iopub.status.idle": "2021-08-08T13:02:42.905305Z",
     "shell.execute_reply": "2021-08-08T13:02:42.904760Z",
     "shell.execute_reply.started": "2021-08-08T12:52:36.576163Z"
    },
    "papermill": {
     "duration": 0.04891,
     "end_time": "2021-08-08T13:02:42.905448",
     "exception": false,
     "start_time": "2021-08-08T13:02:42.856538",
     "status": "completed"
    },
    "tags": []
   },
   "outputs": [],
   "source": [
    "nb.fit(X_train,y_train)\n",
    "y_pred = nb.predict(X_test)"
   ]
  },
  {
   "cell_type": "code",
   "execution_count": 23,
   "id": "7d481054",
   "metadata": {
    "execution": {
     "iopub.execute_input": "2021-08-08T13:02:42.981852Z",
     "iopub.status.busy": "2021-08-08T13:02:42.981139Z",
     "iopub.status.idle": "2021-08-08T13:02:42.983997Z",
     "shell.execute_reply": "2021-08-08T13:02:42.984690Z",
     "shell.execute_reply.started": "2021-08-08T12:52:36.595291Z"
    },
    "papermill": {
     "duration": 0.044395,
     "end_time": "2021-08-08T13:02:42.984950",
     "exception": false,
     "start_time": "2021-08-08T13:02:42.940555",
     "status": "completed"
    },
    "tags": []
   },
   "outputs": [
    {
     "name": "stdout",
     "output_type": "stream",
     "text": [
      "Accuracy:0.93\n"
     ]
    }
   ],
   "source": [
    "print('Accuracy:{:.2f}'.format(accuracy_score(y_test,y_pred)))"
   ]
  },
  {
   "cell_type": "markdown",
   "id": "cf52eef9",
   "metadata": {
    "papermill": {
     "duration": 0.035452,
     "end_time": "2021-08-08T13:02:43.057058",
     "exception": false,
     "start_time": "2021-08-08T13:02:43.021606",
     "status": "completed"
    },
    "tags": []
   },
   "source": [
    "Using KNeighborsClassifier"
   ]
  },
  {
   "cell_type": "code",
   "execution_count": 24,
   "id": "543e1314",
   "metadata": {
    "execution": {
     "iopub.execute_input": "2021-08-08T13:02:43.132677Z",
     "iopub.status.busy": "2021-08-08T13:02:43.131929Z",
     "iopub.status.idle": "2021-08-08T13:02:43.307201Z",
     "shell.execute_reply": "2021-08-08T13:02:43.306611Z",
     "shell.execute_reply.started": "2021-08-08T12:52:36.603937Z"
    },
    "papermill": {
     "duration": 0.214918,
     "end_time": "2021-08-08T13:02:43.307369",
     "exception": false,
     "start_time": "2021-08-08T13:02:43.092451",
     "status": "completed"
    },
    "tags": []
   },
   "outputs": [],
   "source": [
    "from sklearn.neighbors import KNeighborsClassifier"
   ]
  },
  {
   "cell_type": "code",
   "execution_count": 25,
   "id": "2e320fda",
   "metadata": {
    "execution": {
     "iopub.execute_input": "2021-08-08T13:02:43.388877Z",
     "iopub.status.busy": "2021-08-08T13:02:43.388235Z",
     "iopub.status.idle": "2021-08-08T13:02:43.408274Z",
     "shell.execute_reply": "2021-08-08T13:02:43.407712Z",
     "shell.execute_reply.started": "2021-08-08T12:52:36.613493Z"
    },
    "papermill": {
     "duration": 0.065065,
     "end_time": "2021-08-08T13:02:43.408434",
     "exception": false,
     "start_time": "2021-08-08T13:02:43.343369",
     "status": "completed"
    },
    "tags": []
   },
   "outputs": [
    {
     "name": "stdout",
     "output_type": "stream",
     "text": [
      "Accuracy:0.97\n"
     ]
    }
   ],
   "source": [
    "knn = KNeighborsClassifier(n_neighbors = 6)\n",
    "knn.fit(X_train,y_train)\n",
    "y_pred_knn = knn.predict(X_test)\n",
    "print('Accuracy:{:.2f}'.format(accuracy_score(y_test,y_pred_knn)))"
   ]
  },
  {
   "cell_type": "markdown",
   "id": "932502c9",
   "metadata": {
    "papermill": {
     "duration": 0.035922,
     "end_time": "2021-08-08T13:02:43.481483",
     "exception": false,
     "start_time": "2021-08-08T13:02:43.445561",
     "status": "completed"
    },
    "tags": []
   },
   "source": [
    "Support Vector Machine"
   ]
  },
  {
   "cell_type": "code",
   "execution_count": 26,
   "id": "819ca164",
   "metadata": {
    "execution": {
     "iopub.execute_input": "2021-08-08T13:02:43.558965Z",
     "iopub.status.busy": "2021-08-08T13:02:43.558276Z",
     "iopub.status.idle": "2021-08-08T13:02:43.561373Z",
     "shell.execute_reply": "2021-08-08T13:02:43.560851Z",
     "shell.execute_reply.started": "2021-08-08T12:52:36.645914Z"
    },
    "papermill": {
     "duration": 0.043249,
     "end_time": "2021-08-08T13:02:43.561519",
     "exception": false,
     "start_time": "2021-08-08T13:02:43.518270",
     "status": "completed"
    },
    "tags": []
   },
   "outputs": [],
   "source": [
    "from sklearn.svm import SVC"
   ]
  },
  {
   "cell_type": "code",
   "execution_count": 27,
   "id": "010dded3",
   "metadata": {
    "execution": {
     "iopub.execute_input": "2021-08-08T13:02:43.637508Z",
     "iopub.status.busy": "2021-08-08T13:02:43.636453Z",
     "iopub.status.idle": "2021-08-08T13:02:44.031837Z",
     "shell.execute_reply": "2021-08-08T13:02:44.032822Z",
     "shell.execute_reply.started": "2021-08-08T12:52:36.651798Z"
    },
    "papermill": {
     "duration": 0.43566,
     "end_time": "2021-08-08T13:02:44.033166",
     "exception": false,
     "start_time": "2021-08-08T13:02:43.597506",
     "status": "completed"
    },
    "tags": []
   },
   "outputs": [
    {
     "name": "stdout",
     "output_type": "stream",
     "text": [
      "Accuracy:0.95\n"
     ]
    }
   ],
   "source": [
    "svm = SVC(kernel = 'linear')\n",
    "svm.fit(X_train,y_train)\n",
    "y_pred_svm = svm.predict(X_test)\n",
    "print('Accuracy:{:.2f}'.format(accuracy_score(y_test,y_pred_svm)))"
   ]
  },
  {
   "cell_type": "markdown",
   "id": "20acf3dc",
   "metadata": {
    "papermill": {
     "duration": 0.037062,
     "end_time": "2021-08-08T13:02:44.107451",
     "exception": false,
     "start_time": "2021-08-08T13:02:44.070389",
     "status": "completed"
    },
    "tags": []
   },
   "source": [
    "Using Decision tree"
   ]
  },
  {
   "cell_type": "code",
   "execution_count": 28,
   "id": "cad0420a",
   "metadata": {
    "execution": {
     "iopub.execute_input": "2021-08-08T13:02:44.186867Z",
     "iopub.status.busy": "2021-08-08T13:02:44.186149Z",
     "iopub.status.idle": "2021-08-08T13:02:44.222595Z",
     "shell.execute_reply": "2021-08-08T13:02:44.222052Z",
     "shell.execute_reply.started": "2021-08-08T12:52:37.051559Z"
    },
    "papermill": {
     "duration": 0.07746,
     "end_time": "2021-08-08T13:02:44.222745",
     "exception": false,
     "start_time": "2021-08-08T13:02:44.145285",
     "status": "completed"
    },
    "tags": []
   },
   "outputs": [],
   "source": [
    "from sklearn.tree import DecisionTreeClassifier"
   ]
  },
  {
   "cell_type": "code",
   "execution_count": 29,
   "id": "1c309038",
   "metadata": {
    "execution": {
     "iopub.execute_input": "2021-08-08T13:02:44.302811Z",
     "iopub.status.busy": "2021-08-08T13:02:44.302153Z",
     "iopub.status.idle": "2021-08-08T13:02:44.311878Z",
     "shell.execute_reply": "2021-08-08T13:02:44.311347Z",
     "shell.execute_reply.started": "2021-08-08T12:52:37.056733Z"
    },
    "papermill": {
     "duration": 0.052831,
     "end_time": "2021-08-08T13:02:44.312053",
     "exception": false,
     "start_time": "2021-08-08T13:02:44.259222",
     "status": "completed"
    },
    "tags": []
   },
   "outputs": [
    {
     "name": "stdout",
     "output_type": "stream",
     "text": [
      "Accuracy:0.98\n"
     ]
    }
   ],
   "source": [
    "dt = DecisionTreeClassifier(max_depth = 6)\n",
    "dt.fit(X_train,y_train)\n",
    "y_pred_dt = dt.predict(X_test)\n",
    "print('Accuracy:{:.2f}'.format(accuracy_score(y_test,y_pred_dt)))"
   ]
  },
  {
   "cell_type": "markdown",
   "id": "916214b5",
   "metadata": {
    "papermill": {
     "duration": 0.036216,
     "end_time": "2021-08-08T13:02:44.384469",
     "exception": false,
     "start_time": "2021-08-08T13:02:44.348253",
     "status": "completed"
    },
    "tags": []
   },
   "source": [
    "Random Forest Classifier"
   ]
  },
  {
   "cell_type": "code",
   "execution_count": 30,
   "id": "34a4d24b",
   "metadata": {
    "execution": {
     "iopub.execute_input": "2021-08-08T13:02:44.463254Z",
     "iopub.status.busy": "2021-08-08T13:02:44.462600Z",
     "iopub.status.idle": "2021-08-08T13:02:44.607396Z",
     "shell.execute_reply": "2021-08-08T13:02:44.606731Z",
     "shell.execute_reply.started": "2021-08-08T12:52:37.079811Z"
    },
    "papermill": {
     "duration": 0.186675,
     "end_time": "2021-08-08T13:02:44.607543",
     "exception": false,
     "start_time": "2021-08-08T13:02:44.420868",
     "status": "completed"
    },
    "tags": []
   },
   "outputs": [],
   "source": [
    "from sklearn.ensemble import RandomForestClassifier"
   ]
  },
  {
   "cell_type": "code",
   "execution_count": 31,
   "id": "ef6f3912",
   "metadata": {
    "execution": {
     "iopub.execute_input": "2021-08-08T13:02:44.719652Z",
     "iopub.status.busy": "2021-08-08T13:02:44.688134Z",
     "iopub.status.idle": "2021-08-08T13:02:44.914685Z",
     "shell.execute_reply": "2021-08-08T13:02:44.915196Z",
     "shell.execute_reply.started": "2021-08-08T12:52:37.092219Z"
    },
    "papermill": {
     "duration": 0.271035,
     "end_time": "2021-08-08T13:02:44.915390",
     "exception": false,
     "start_time": "2021-08-08T13:02:44.644355",
     "status": "completed"
    },
    "tags": []
   },
   "outputs": [
    {
     "name": "stdout",
     "output_type": "stream",
     "text": [
      "Accuracy:0.96\n"
     ]
    }
   ],
   "source": [
    "rfc = RandomForestClassifier(max_depth = 7)\n",
    "rfc.fit(X_train,y_train)\n",
    "y_pred_rfc = rfc.predict(X_test)\n",
    "print('Accuracy:{:.2f}'.format(accuracy_score(y_test,y_pred_rfc)))"
   ]
  },
  {
   "cell_type": "markdown",
   "id": "52eb6ccd",
   "metadata": {
    "papermill": {
     "duration": 0.037329,
     "end_time": "2021-08-08T13:02:44.990226",
     "exception": false,
     "start_time": "2021-08-08T13:02:44.952897",
     "status": "completed"
    },
    "tags": []
   },
   "source": [
    "XGBOOST"
   ]
  },
  {
   "cell_type": "code",
   "execution_count": 32,
   "id": "76d51146",
   "metadata": {
    "execution": {
     "iopub.execute_input": "2021-08-08T13:02:45.068584Z",
     "iopub.status.busy": "2021-08-08T13:02:45.067983Z",
     "iopub.status.idle": "2021-08-08T13:02:45.153412Z",
     "shell.execute_reply": "2021-08-08T13:02:45.152801Z",
     "shell.execute_reply.started": "2021-08-08T12:52:37.348779Z"
    },
    "papermill": {
     "duration": 0.125101,
     "end_time": "2021-08-08T13:02:45.153567",
     "exception": false,
     "start_time": "2021-08-08T13:02:45.028466",
     "status": "completed"
    },
    "tags": []
   },
   "outputs": [],
   "source": [
    "import xgboost as xgb"
   ]
  },
  {
   "cell_type": "code",
   "execution_count": 33,
   "id": "98ced763",
   "metadata": {
    "execution": {
     "iopub.execute_input": "2021-08-08T13:02:45.234133Z",
     "iopub.status.busy": "2021-08-08T13:02:45.233448Z",
     "iopub.status.idle": "2021-08-08T13:02:45.313520Z",
     "shell.execute_reply": "2021-08-08T13:02:45.314523Z",
     "shell.execute_reply.started": "2021-08-08T12:52:37.355187Z"
    },
    "papermill": {
     "duration": 0.124451,
     "end_time": "2021-08-08T13:02:45.314729",
     "exception": false,
     "start_time": "2021-08-08T13:02:45.190278",
     "status": "completed"
    },
    "tags": []
   },
   "outputs": [
    {
     "name": "stdout",
     "output_type": "stream",
     "text": [
      "[13:02:45] WARNING: ../src/learner.cc:1095: Starting in XGBoost 1.3.0, the default evaluation metric used with the objective 'binary:logistic' was changed from 'error' to 'logloss'. Explicitly set eval_metric if you'd like to restore the old behavior.\n",
      "Accuracy:0.97\n"
     ]
    },
    {
     "name": "stderr",
     "output_type": "stream",
     "text": [
      "/opt/conda/lib/python3.7/site-packages/xgboost/sklearn.py:1146: UserWarning: The use of label encoder in XGBClassifier is deprecated and will be removed in a future release. To remove this warning, do the following: 1) Pass option use_label_encoder=False when constructing XGBClassifier object; and 2) Encode your labels (y) as integers starting with 0, i.e. 0, 1, 2, ..., [num_class - 1].\n",
      "  warnings.warn(label_encoder_deprecation_msg, UserWarning)\n"
     ]
    }
   ],
   "source": [
    "xb = xgb.XGBClassifier(objective = 'binary:logistic',random_state = 42)\n",
    "xb.fit(X_train,y_train)\n",
    "y_pred_xgb = xb.predict(X_test)\n",
    "print('Accuracy:{:.2f}'.format(accuracy_score(y_test,y_pred_xgb)))"
   ]
  },
  {
   "cell_type": "code",
   "execution_count": null,
   "id": "7f492a4b",
   "metadata": {
    "papermill": {
     "duration": 0.036857,
     "end_time": "2021-08-08T13:02:45.390778",
     "exception": false,
     "start_time": "2021-08-08T13:02:45.353921",
     "status": "completed"
    },
    "tags": []
   },
   "outputs": [],
   "source": []
  }
 ],
 "metadata": {
  "kernelspec": {
   "display_name": "Python 3",
   "language": "python",
   "name": "python3"
  },
  "language_info": {
   "codemirror_mode": {
    "name": "ipython",
    "version": 3
   },
   "file_extension": ".py",
   "mimetype": "text/x-python",
   "name": "python",
   "nbconvert_exporter": "python",
   "pygments_lexer": "ipython3",
   "version": "3.7.10"
  },
  "papermill": {
   "default_parameters": {},
   "duration": 15.691281,
   "end_time": "2021-08-08T13:02:46.239051",
   "environment_variables": {},
   "exception": null,
   "input_path": "__notebook__.ipynb",
   "output_path": "__notebook__.ipynb",
   "parameters": {},
   "start_time": "2021-08-08T13:02:30.547770",
   "version": "2.3.3"
  }
 },
 "nbformat": 4,
 "nbformat_minor": 5
}
