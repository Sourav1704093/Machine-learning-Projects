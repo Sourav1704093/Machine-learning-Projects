{
 "cells": [
  {
   "cell_type": "code",
   "execution_count": 1,
   "id": "bd77889f",
   "metadata": {
    "_cell_guid": "b1076dfc-b9ad-4769-8c92-a6c4dae69d19",
    "_uuid": "8f2839f25d086af736a60e9eeb907d3b93b6e0e5",
    "execution": {
     "iopub.execute_input": "2021-08-06T13:20:23.997266Z",
     "iopub.status.busy": "2021-08-06T13:20:23.996709Z",
     "iopub.status.idle": "2021-08-06T13:20:25.061233Z",
     "shell.execute_reply": "2021-08-06T13:20:25.060650Z",
     "shell.execute_reply.started": "2021-08-06T12:24:13.833954Z"
    },
    "papermill": {
     "duration": 1.095683,
     "end_time": "2021-08-06T13:20:25.061389",
     "exception": false,
     "start_time": "2021-08-06T13:20:23.965706",
     "status": "completed"
    },
    "tags": []
   },
   "outputs": [],
   "source": [
    "import numpy as np\n",
    "import pandas as pd\n",
    "import matplotlib.pyplot as plt\n",
    "import seaborn as sns\n"
   ]
  },
  {
   "cell_type": "code",
   "execution_count": 2,
   "id": "ba4b54f5",
   "metadata": {
    "execution": {
     "iopub.execute_input": "2021-08-06T13:20:25.100692Z",
     "iopub.status.busy": "2021-08-06T13:20:25.100125Z",
     "iopub.status.idle": "2021-08-06T13:20:25.167438Z",
     "shell.execute_reply": "2021-08-06T13:20:25.166635Z",
     "shell.execute_reply.started": "2021-08-06T12:24:14.827029Z"
    },
    "papermill": {
     "duration": 0.088134,
     "end_time": "2021-08-06T13:20:25.167553",
     "exception": false,
     "start_time": "2021-08-06T13:20:25.079419",
     "status": "completed"
    },
    "tags": []
   },
   "outputs": [],
   "source": [
    "train = pd.read_csv('../input/nlp-getting-started/train.csv')\n",
    "test = pd.read_csv('../input/nlp-getting-started/test.csv')"
   ]
  },
  {
   "cell_type": "code",
   "execution_count": 3,
   "id": "028ed677",
   "metadata": {
    "execution": {
     "iopub.execute_input": "2021-08-06T13:20:25.208966Z",
     "iopub.status.busy": "2021-08-06T13:20:25.208353Z",
     "iopub.status.idle": "2021-08-06T13:20:25.211857Z",
     "shell.execute_reply": "2021-08-06T13:20:25.212257Z",
     "shell.execute_reply.started": "2021-08-06T12:24:42.089698Z"
    },
    "papermill": {
     "duration": 0.027468,
     "end_time": "2021-08-06T13:20:25.212377",
     "exception": false,
     "start_time": "2021-08-06T13:20:25.184909",
     "status": "completed"
    },
    "tags": []
   },
   "outputs": [
    {
     "data": {
      "text/plain": [
       "((7613, 5), (3263, 4))"
      ]
     },
     "execution_count": 3,
     "metadata": {},
     "output_type": "execute_result"
    }
   ],
   "source": [
    "train.shape,test.shape"
   ]
  },
  {
   "cell_type": "code",
   "execution_count": 4,
   "id": "674f8ccc",
   "metadata": {
    "execution": {
     "iopub.execute_input": "2021-08-06T13:20:25.256903Z",
     "iopub.status.busy": "2021-08-06T13:20:25.256386Z",
     "iopub.status.idle": "2021-08-06T13:20:25.272391Z",
     "shell.execute_reply": "2021-08-06T13:20:25.272820Z",
     "shell.execute_reply.started": "2021-08-06T12:24:48.616029Z"
    },
    "papermill": {
     "duration": 0.042722,
     "end_time": "2021-08-06T13:20:25.272945",
     "exception": false,
     "start_time": "2021-08-06T13:20:25.230223",
     "status": "completed"
    },
    "tags": []
   },
   "outputs": [
    {
     "data": {
      "text/html": [
       "<div>\n",
       "<style scoped>\n",
       "    .dataframe tbody tr th:only-of-type {\n",
       "        vertical-align: middle;\n",
       "    }\n",
       "\n",
       "    .dataframe tbody tr th {\n",
       "        vertical-align: top;\n",
       "    }\n",
       "\n",
       "    .dataframe thead th {\n",
       "        text-align: right;\n",
       "    }\n",
       "</style>\n",
       "<table border=\"1\" class=\"dataframe\">\n",
       "  <thead>\n",
       "    <tr style=\"text-align: right;\">\n",
       "      <th></th>\n",
       "      <th>id</th>\n",
       "      <th>keyword</th>\n",
       "      <th>location</th>\n",
       "      <th>text</th>\n",
       "      <th>target</th>\n",
       "    </tr>\n",
       "  </thead>\n",
       "  <tbody>\n",
       "    <tr>\n",
       "      <th>0</th>\n",
       "      <td>1</td>\n",
       "      <td>NaN</td>\n",
       "      <td>NaN</td>\n",
       "      <td>Our Deeds are the Reason of this #earthquake M...</td>\n",
       "      <td>1</td>\n",
       "    </tr>\n",
       "    <tr>\n",
       "      <th>1</th>\n",
       "      <td>4</td>\n",
       "      <td>NaN</td>\n",
       "      <td>NaN</td>\n",
       "      <td>Forest fire near La Ronge Sask. Canada</td>\n",
       "      <td>1</td>\n",
       "    </tr>\n",
       "    <tr>\n",
       "      <th>2</th>\n",
       "      <td>5</td>\n",
       "      <td>NaN</td>\n",
       "      <td>NaN</td>\n",
       "      <td>All residents asked to 'shelter in place' are ...</td>\n",
       "      <td>1</td>\n",
       "    </tr>\n",
       "    <tr>\n",
       "      <th>3</th>\n",
       "      <td>6</td>\n",
       "      <td>NaN</td>\n",
       "      <td>NaN</td>\n",
       "      <td>13,000 people receive #wildfires evacuation or...</td>\n",
       "      <td>1</td>\n",
       "    </tr>\n",
       "    <tr>\n",
       "      <th>4</th>\n",
       "      <td>7</td>\n",
       "      <td>NaN</td>\n",
       "      <td>NaN</td>\n",
       "      <td>Just got sent this photo from Ruby #Alaska as ...</td>\n",
       "      <td>1</td>\n",
       "    </tr>\n",
       "  </tbody>\n",
       "</table>\n",
       "</div>"
      ],
      "text/plain": [
       "   id keyword location                                               text  \\\n",
       "0   1     NaN      NaN  Our Deeds are the Reason of this #earthquake M...   \n",
       "1   4     NaN      NaN             Forest fire near La Ronge Sask. Canada   \n",
       "2   5     NaN      NaN  All residents asked to 'shelter in place' are ...   \n",
       "3   6     NaN      NaN  13,000 people receive #wildfires evacuation or...   \n",
       "4   7     NaN      NaN  Just got sent this photo from Ruby #Alaska as ...   \n",
       "\n",
       "   target  \n",
       "0       1  \n",
       "1       1  \n",
       "2       1  \n",
       "3       1  \n",
       "4       1  "
      ]
     },
     "execution_count": 4,
     "metadata": {},
     "output_type": "execute_result"
    }
   ],
   "source": [
    "train.head()"
   ]
  },
  {
   "cell_type": "code",
   "execution_count": 5,
   "id": "2edb0bbf",
   "metadata": {
    "execution": {
     "iopub.execute_input": "2021-08-06T13:20:25.317159Z",
     "iopub.status.busy": "2021-08-06T13:20:25.316298Z",
     "iopub.status.idle": "2021-08-06T13:20:25.320537Z",
     "shell.execute_reply": "2021-08-06T13:20:25.320098Z",
     "shell.execute_reply.started": "2021-08-06T12:25:22.021726Z"
    },
    "papermill": {
     "duration": 0.029554,
     "end_time": "2021-08-06T13:20:25.320635",
     "exception": false,
     "start_time": "2021-08-06T13:20:25.291081",
     "status": "completed"
    },
    "tags": []
   },
   "outputs": [
    {
     "data": {
      "text/html": [
       "<div>\n",
       "<style scoped>\n",
       "    .dataframe tbody tr th:only-of-type {\n",
       "        vertical-align: middle;\n",
       "    }\n",
       "\n",
       "    .dataframe tbody tr th {\n",
       "        vertical-align: top;\n",
       "    }\n",
       "\n",
       "    .dataframe thead th {\n",
       "        text-align: right;\n",
       "    }\n",
       "</style>\n",
       "<table border=\"1\" class=\"dataframe\">\n",
       "  <thead>\n",
       "    <tr style=\"text-align: right;\">\n",
       "      <th></th>\n",
       "      <th>id</th>\n",
       "      <th>keyword</th>\n",
       "      <th>location</th>\n",
       "      <th>text</th>\n",
       "    </tr>\n",
       "  </thead>\n",
       "  <tbody>\n",
       "    <tr>\n",
       "      <th>0</th>\n",
       "      <td>0</td>\n",
       "      <td>NaN</td>\n",
       "      <td>NaN</td>\n",
       "      <td>Just happened a terrible car crash</td>\n",
       "    </tr>\n",
       "    <tr>\n",
       "      <th>1</th>\n",
       "      <td>2</td>\n",
       "      <td>NaN</td>\n",
       "      <td>NaN</td>\n",
       "      <td>Heard about #earthquake is different cities, s...</td>\n",
       "    </tr>\n",
       "    <tr>\n",
       "      <th>2</th>\n",
       "      <td>3</td>\n",
       "      <td>NaN</td>\n",
       "      <td>NaN</td>\n",
       "      <td>there is a forest fire at spot pond, geese are...</td>\n",
       "    </tr>\n",
       "    <tr>\n",
       "      <th>3</th>\n",
       "      <td>9</td>\n",
       "      <td>NaN</td>\n",
       "      <td>NaN</td>\n",
       "      <td>Apocalypse lighting. #Spokane #wildfires</td>\n",
       "    </tr>\n",
       "    <tr>\n",
       "      <th>4</th>\n",
       "      <td>11</td>\n",
       "      <td>NaN</td>\n",
       "      <td>NaN</td>\n",
       "      <td>Typhoon Soudelor kills 28 in China and Taiwan</td>\n",
       "    </tr>\n",
       "  </tbody>\n",
       "</table>\n",
       "</div>"
      ],
      "text/plain": [
       "   id keyword location                                               text\n",
       "0   0     NaN      NaN                 Just happened a terrible car crash\n",
       "1   2     NaN      NaN  Heard about #earthquake is different cities, s...\n",
       "2   3     NaN      NaN  there is a forest fire at spot pond, geese are...\n",
       "3   9     NaN      NaN           Apocalypse lighting. #Spokane #wildfires\n",
       "4  11     NaN      NaN      Typhoon Soudelor kills 28 in China and Taiwan"
      ]
     },
     "execution_count": 5,
     "metadata": {},
     "output_type": "execute_result"
    }
   ],
   "source": [
    "test.head()"
   ]
  },
  {
   "cell_type": "code",
   "execution_count": 6,
   "id": "9fe95551",
   "metadata": {
    "execution": {
     "iopub.execute_input": "2021-08-06T13:20:25.364001Z",
     "iopub.status.busy": "2021-08-06T13:20:25.363509Z",
     "iopub.status.idle": "2021-08-06T13:20:25.491287Z",
     "shell.execute_reply": "2021-08-06T13:20:25.490843Z",
     "shell.execute_reply.started": "2021-08-06T12:29:52.785930Z"
    },
    "papermill": {
     "duration": 0.15248,
     "end_time": "2021-08-06T13:20:25.491392",
     "exception": false,
     "start_time": "2021-08-06T13:20:25.338912",
     "status": "completed"
    },
    "tags": []
   },
   "outputs": [
    {
     "data": {
      "text/plain": [
       "<AxesSubplot:xlabel='target', ylabel='count'>"
      ]
     },
     "execution_count": 6,
     "metadata": {},
     "output_type": "execute_result"
    },
    {
     "data": {
      "image/png": "[encoded data removed]",
      "text/plain": [
       "<Figure size 432x288 with 1 Axes>"
      ]
     },
     "metadata": {
      "needs_background": "light"
     },
     "output_type": "display_data"
    }
   ],
   "source": [
    "sns.countplot(x='target',data = train)"
   ]
  },
  {
   "cell_type": "code",
   "execution_count": 7,
   "id": "1ff29e63",
   "metadata": {
    "execution": {
     "iopub.execute_input": "2021-08-06T13:20:25.533835Z",
     "iopub.status.busy": "2021-08-06T13:20:25.533349Z",
     "iopub.status.idle": "2021-08-06T13:20:25.536850Z",
     "shell.execute_reply": "2021-08-06T13:20:25.537221Z",
     "shell.execute_reply.started": "2021-08-06T12:30:20.868883Z"
    },
    "papermill": {
     "duration": 0.026509,
     "end_time": "2021-08-06T13:20:25.537336",
     "exception": false,
     "start_time": "2021-08-06T13:20:25.510827",
     "status": "completed"
    },
    "tags": []
   },
   "outputs": [],
   "source": [
    "y = train.target\n",
    "X = train.text"
   ]
  },
  {
   "cell_type": "code",
   "execution_count": 8,
   "id": "34a9637f",
   "metadata": {
    "execution": {
     "iopub.execute_input": "2021-08-06T13:20:25.580790Z",
     "iopub.status.busy": "2021-08-06T13:20:25.580305Z",
     "iopub.status.idle": "2021-08-06T13:20:25.585408Z",
     "shell.execute_reply": "2021-08-06T13:20:25.584996Z",
     "shell.execute_reply.started": "2021-08-06T12:30:28.651044Z"
    },
    "papermill": {
     "duration": 0.029182,
     "end_time": "2021-08-06T13:20:25.585509",
     "exception": false,
     "start_time": "2021-08-06T13:20:25.556327",
     "status": "completed"
    },
    "tags": []
   },
   "outputs": [
    {
     "data": {
      "text/plain": [
       "0       Our Deeds are the Reason of this #earthquake M...\n",
       "1                  Forest fire near La Ronge Sask. Canada\n",
       "2       All residents asked to 'shelter in place' are ...\n",
       "3       13,000 people receive #wildfires evacuation or...\n",
       "4       Just got sent this photo from Ruby #Alaska as ...\n",
       "                              ...                        \n",
       "7608    Two giant cranes holding a bridge collapse int...\n",
       "7609    @aria_ahrary @TheTawniest The out of control w...\n",
       "7610    M1.94 [01:04 UTC]?5km S of Volcano Hawaii. htt...\n",
       "7611    Police investigating after an e-bike collided ...\n",
       "7612    The Latest: More Homes Razed by Northern Calif...\n",
       "Name: text, Length: 7613, dtype: object"
      ]
     },
     "execution_count": 8,
     "metadata": {},
     "output_type": "execute_result"
    }
   ],
   "source": [
    "X"
   ]
  },
  {
   "cell_type": "code",
   "execution_count": 9,
   "id": "9aa30a66",
   "metadata": {
    "execution": {
     "iopub.execute_input": "2021-08-06T13:20:25.628358Z",
     "iopub.status.busy": "2021-08-06T13:20:25.627744Z",
     "iopub.status.idle": "2021-08-06T13:20:28.395479Z",
     "shell.execute_reply": "2021-08-06T13:20:28.394333Z",
     "shell.execute_reply.started": "2021-08-06T13:11:13.713936Z"
    },
    "papermill": {
     "duration": 2.790277,
     "end_time": "2021-08-06T13:20:28.395610",
     "exception": false,
     "start_time": "2021-08-06T13:20:25.605333",
     "status": "completed"
    },
    "tags": []
   },
   "outputs": [],
   "source": [
    "import nltk\n",
    "from nltk.tokenize import word_tokenize,sent_tokenize\n",
    "from nltk.corpus import stopwords\n",
    "import spacy"
   ]
  },
  {
   "cell_type": "code",
   "execution_count": 10,
   "id": "1ac0e703",
   "metadata": {
    "execution": {
     "iopub.execute_input": "2021-08-06T13:20:28.441091Z",
     "iopub.status.busy": "2021-08-06T13:20:28.440264Z",
     "iopub.status.idle": "2021-08-06T13:20:29.609011Z",
     "shell.execute_reply": "2021-08-06T13:20:29.608552Z",
     "shell.execute_reply.started": "2021-08-06T13:11:14.672031Z"
    },
    "papermill": {
     "duration": 1.19267,
     "end_time": "2021-08-06T13:20:29.609147",
     "exception": false,
     "start_time": "2021-08-06T13:20:28.416477",
     "status": "completed"
    },
    "tags": []
   },
   "outputs": [],
   "source": [
    "nlp = spacy.load('en_core_web_sm')\n",
    "def preprocess(text):\n",
    "    doc = nlp(text)\n",
    "    lemmas = [token.lemma_ for token in doc]\n",
    "    a_lemmas = [lemma.lower() for lemma in lemmas if lemma.isalpha() and lemma not in stopwords.words('english')]\n",
    "    lemmatized_text = ' '.join(a_lemmas)\n",
    "    return lemmatized_text"
   ]
  },
  {
   "cell_type": "code",
   "execution_count": 11,
   "id": "9a9d9fd9",
   "metadata": {
    "execution": {
     "iopub.execute_input": "2021-08-06T13:20:29.661454Z",
     "iopub.status.busy": "2021-08-06T13:20:29.660880Z",
     "iopub.status.idle": "2021-08-06T13:21:43.192944Z",
     "shell.execute_reply": "2021-08-06T13:21:43.192436Z",
     "shell.execute_reply.started": "2021-08-06T13:11:16.746784Z"
    },
    "papermill": {
     "duration": 73.562947,
     "end_time": "2021-08-06T13:21:43.193074",
     "exception": false,
     "start_time": "2021-08-06T13:20:29.630127",
     "status": "completed"
    },
    "tags": []
   },
   "outputs": [],
   "source": [
    "df_train = pd.DataFrame([])\n",
    "cleaned_text = []\n",
    "for text in X:\n",
    "    cleaned_text.append(preprocess(text))\n",
    "df_train['text'] = cleaned_text"
   ]
  },
  {
   "cell_type": "code",
   "execution_count": 12,
   "id": "81804462",
   "metadata": {
    "execution": {
     "iopub.execute_input": "2021-08-06T13:21:43.241714Z",
     "iopub.status.busy": "2021-08-06T13:21:43.240965Z",
     "iopub.status.idle": "2021-08-06T13:21:43.245374Z",
     "shell.execute_reply": "2021-08-06T13:21:43.245770Z",
     "shell.execute_reply.started": "2021-08-06T13:12:59.872027Z"
    },
    "papermill": {
     "duration": 0.032328,
     "end_time": "2021-08-06T13:21:43.245892",
     "exception": false,
     "start_time": "2021-08-06T13:21:43.213564",
     "status": "completed"
    },
    "tags": []
   },
   "outputs": [
    {
     "data": {
      "text/html": [
       "<div>\n",
       "<style scoped>\n",
       "    .dataframe tbody tr th:only-of-type {\n",
       "        vertical-align: middle;\n",
       "    }\n",
       "\n",
       "    .dataframe tbody tr th {\n",
       "        vertical-align: top;\n",
       "    }\n",
       "\n",
       "    .dataframe thead th {\n",
       "        text-align: right;\n",
       "    }\n",
       "</style>\n",
       "<table border=\"1\" class=\"dataframe\">\n",
       "  <thead>\n",
       "    <tr style=\"text-align: right;\">\n",
       "      <th></th>\n",
       "      <th>text</th>\n",
       "    </tr>\n",
       "  </thead>\n",
       "  <tbody>\n",
       "    <tr>\n",
       "      <th>0</th>\n",
       "      <td>deed reason earthquake may allah forgive</td>\n",
       "    </tr>\n",
       "    <tr>\n",
       "      <th>1</th>\n",
       "      <td>forest fire near la ronge sask canada</td>\n",
       "    </tr>\n",
       "    <tr>\n",
       "      <th>2</th>\n",
       "      <td>resident ask shelter place notify officer evac...</td>\n",
       "    </tr>\n",
       "    <tr>\n",
       "      <th>3</th>\n",
       "      <td>people receive wildfire evacuation order calif...</td>\n",
       "    </tr>\n",
       "    <tr>\n",
       "      <th>4</th>\n",
       "      <td>get send photo ruby alaska smoke wildfire pour...</td>\n",
       "    </tr>\n",
       "    <tr>\n",
       "      <th>...</th>\n",
       "      <td>...</td>\n",
       "    </tr>\n",
       "    <tr>\n",
       "      <th>7608</th>\n",
       "      <td>two giant crane hold bridge collapse nearby home</td>\n",
       "    </tr>\n",
       "    <tr>\n",
       "      <th>7609</th>\n",
       "      <td>control wild fire california even northern par...</td>\n",
       "    </tr>\n",
       "    <tr>\n",
       "      <th>7610</th>\n",
       "      <td>km s volcano hawaii</td>\n",
       "    </tr>\n",
       "    <tr>\n",
       "      <th>7611</th>\n",
       "      <td>police investigate e bike collide car little p...</td>\n",
       "    </tr>\n",
       "    <tr>\n",
       "      <th>7612</th>\n",
       "      <td>late more home raze northern california wildfi...</td>\n",
       "    </tr>\n",
       "  </tbody>\n",
       "</table>\n",
       "<p>7613 rows × 1 columns</p>\n",
       "</div>"
      ],
      "text/plain": [
       "                                                   text\n",
       "0              deed reason earthquake may allah forgive\n",
       "1                 forest fire near la ronge sask canada\n",
       "2     resident ask shelter place notify officer evac...\n",
       "3     people receive wildfire evacuation order calif...\n",
       "4     get send photo ruby alaska smoke wildfire pour...\n",
       "...                                                 ...\n",
       "7608   two giant crane hold bridge collapse nearby home\n",
       "7609  control wild fire california even northern par...\n",
       "7610                                km s volcano hawaii\n",
       "7611  police investigate e bike collide car little p...\n",
       "7612  late more home raze northern california wildfi...\n",
       "\n",
       "[7613 rows x 1 columns]"
      ]
     },
     "execution_count": 12,
     "metadata": {},
     "output_type": "execute_result"
    }
   ],
   "source": [
    "df_train"
   ]
  },
  {
   "cell_type": "code",
   "execution_count": 13,
   "id": "f8e6f0e9",
   "metadata": {
    "execution": {
     "iopub.execute_input": "2021-08-06T13:21:43.288915Z",
     "iopub.status.busy": "2021-08-06T13:21:43.288432Z",
     "iopub.status.idle": "2021-08-06T13:21:43.292199Z",
     "shell.execute_reply": "2021-08-06T13:21:43.291753Z",
     "shell.execute_reply.started": "2021-08-06T13:13:00.894635Z"
    },
    "papermill": {
     "duration": 0.026754,
     "end_time": "2021-08-06T13:21:43.292301",
     "exception": false,
     "start_time": "2021-08-06T13:21:43.265547",
     "status": "completed"
    },
    "tags": []
   },
   "outputs": [],
   "source": [
    "from sklearn.model_selection import train_test_split"
   ]
  },
  {
   "cell_type": "code",
   "execution_count": 14,
   "id": "5e0cf4da",
   "metadata": {
    "execution": {
     "iopub.execute_input": "2021-08-06T13:21:43.336146Z",
     "iopub.status.busy": "2021-08-06T13:21:43.335686Z",
     "iopub.status.idle": "2021-08-06T13:21:43.340003Z",
     "shell.execute_reply": "2021-08-06T13:21:43.340578Z",
     "shell.execute_reply.started": "2021-08-06T13:13:02.798126Z"
    },
    "papermill": {
     "duration": 0.028701,
     "end_time": "2021-08-06T13:21:43.340700",
     "exception": false,
     "start_time": "2021-08-06T13:21:43.311999",
     "status": "completed"
    },
    "tags": []
   },
   "outputs": [],
   "source": [
    "X_train,X_test,y_train,y_test = train_test_split(df_train,y,test_size = 0.3,random_state = 42)"
   ]
  },
  {
   "cell_type": "code",
   "execution_count": 15,
   "id": "136a7ea9",
   "metadata": {
    "execution": {
     "iopub.execute_input": "2021-08-06T13:21:43.383603Z",
     "iopub.status.busy": "2021-08-06T13:21:43.382962Z",
     "iopub.status.idle": "2021-08-06T13:21:43.385902Z",
     "shell.execute_reply": "2021-08-06T13:21:43.386298Z",
     "shell.execute_reply.started": "2021-08-06T13:13:03.835420Z"
    },
    "papermill": {
     "duration": 0.025712,
     "end_time": "2021-08-06T13:21:43.386415",
     "exception": false,
     "start_time": "2021-08-06T13:21:43.360703",
     "status": "completed"
    },
    "tags": []
   },
   "outputs": [],
   "source": [
    "from sklearn.feature_extraction.text import CountVectorizer"
   ]
  },
  {
   "cell_type": "code",
   "execution_count": 16,
   "id": "ef7a2015",
   "metadata": {
    "execution": {
     "iopub.execute_input": "2021-08-06T13:21:43.428736Z",
     "iopub.status.busy": "2021-08-06T13:21:43.428180Z",
     "iopub.status.idle": "2021-08-06T13:21:43.431554Z",
     "shell.execute_reply": "2021-08-06T13:21:43.431966Z",
     "shell.execute_reply.started": "2021-08-06T13:13:04.962882Z"
    },
    "papermill": {
     "duration": 0.026221,
     "end_time": "2021-08-06T13:21:43.432089",
     "exception": false,
     "start_time": "2021-08-06T13:21:43.405868",
     "status": "completed"
    },
    "tags": []
   },
   "outputs": [],
   "source": [
    "vect = CountVectorizer(max_features = 350)"
   ]
  },
  {
   "cell_type": "code",
   "execution_count": 17,
   "id": "2d451a42",
   "metadata": {
    "execution": {
     "iopub.execute_input": "2021-08-06T13:21:43.495857Z",
     "iopub.status.busy": "2021-08-06T13:21:43.490690Z",
     "iopub.status.idle": "2021-08-06T13:21:43.588688Z",
     "shell.execute_reply": "2021-08-06T13:21:43.588288Z",
     "shell.execute_reply.started": "2021-08-06T13:13:05.873680Z"
    },
    "papermill": {
     "duration": 0.136493,
     "end_time": "2021-08-06T13:21:43.588794",
     "exception": false,
     "start_time": "2021-08-06T13:21:43.452301",
     "status": "completed"
    },
    "tags": []
   },
   "outputs": [],
   "source": [
    "X_train_bow = vect.fit_transform(X_train['text'].tolist())\n",
    "X_test_bow = vect.transform(X_test['text'].tolist())"
   ]
  },
  {
   "cell_type": "code",
   "execution_count": 18,
   "id": "54e737fe",
   "metadata": {
    "execution": {
     "iopub.execute_input": "2021-08-06T13:21:43.632628Z",
     "iopub.status.busy": "2021-08-06T13:21:43.632111Z",
     "iopub.status.idle": "2021-08-06T13:21:43.637553Z",
     "shell.execute_reply": "2021-08-06T13:21:43.637100Z",
     "shell.execute_reply.started": "2021-08-06T13:13:06.858744Z"
    },
    "papermill": {
     "duration": 0.02862,
     "end_time": "2021-08-06T13:21:43.637663",
     "exception": false,
     "start_time": "2021-08-06T13:21:43.609043",
     "status": "completed"
    },
    "tags": []
   },
   "outputs": [],
   "source": [
    "from sklearn.naive_bayes import MultinomialNB"
   ]
  },
  {
   "cell_type": "code",
   "execution_count": 19,
   "id": "57eae709",
   "metadata": {
    "execution": {
     "iopub.execute_input": "2021-08-06T13:21:43.682670Z",
     "iopub.status.busy": "2021-08-06T13:21:43.681483Z",
     "iopub.status.idle": "2021-08-06T13:21:43.683763Z",
     "shell.execute_reply": "2021-08-06T13:21:43.684129Z",
     "shell.execute_reply.started": "2021-08-06T13:13:07.806263Z"
    },
    "papermill": {
     "duration": 0.025935,
     "end_time": "2021-08-06T13:21:43.684256",
     "exception": false,
     "start_time": "2021-08-06T13:21:43.658321",
     "status": "completed"
    },
    "tags": []
   },
   "outputs": [],
   "source": [
    "clf = MultinomialNB()"
   ]
  },
  {
   "cell_type": "code",
   "execution_count": 20,
   "id": "90d9ff2b",
   "metadata": {
    "execution": {
     "iopub.execute_input": "2021-08-06T13:21:43.727093Z",
     "iopub.status.busy": "2021-08-06T13:21:43.726631Z",
     "iopub.status.idle": "2021-08-06T13:21:43.736033Z",
     "shell.execute_reply": "2021-08-06T13:21:43.735630Z",
     "shell.execute_reply.started": "2021-08-06T13:13:08.766080Z"
    },
    "papermill": {
     "duration": 0.032384,
     "end_time": "2021-08-06T13:21:43.736139",
     "exception": false,
     "start_time": "2021-08-06T13:21:43.703755",
     "status": "completed"
    },
    "tags": []
   },
   "outputs": [
    {
     "data": {
      "text/plain": [
       "MultinomialNB()"
      ]
     },
     "execution_count": 20,
     "metadata": {},
     "output_type": "execute_result"
    }
   ],
   "source": [
    "clf.fit(X_train_bow,y_train)"
   ]
  },
  {
   "cell_type": "code",
   "execution_count": 21,
   "id": "65f9176b",
   "metadata": {
    "execution": {
     "iopub.execute_input": "2021-08-06T13:21:43.780201Z",
     "iopub.status.busy": "2021-08-06T13:21:43.779601Z",
     "iopub.status.idle": "2021-08-06T13:21:43.782417Z",
     "shell.execute_reply": "2021-08-06T13:21:43.781997Z",
     "shell.execute_reply.started": "2021-08-06T13:13:09.703640Z"
    },
    "papermill": {
     "duration": 0.026021,
     "end_time": "2021-08-06T13:21:43.782516",
     "exception": false,
     "start_time": "2021-08-06T13:21:43.756495",
     "status": "completed"
    },
    "tags": []
   },
   "outputs": [],
   "source": [
    "pred = clf.predict(X_test_bow)"
   ]
  },
  {
   "cell_type": "code",
   "execution_count": 22,
   "id": "121757ac",
   "metadata": {
    "execution": {
     "iopub.execute_input": "2021-08-06T13:21:43.826309Z",
     "iopub.status.busy": "2021-08-06T13:21:43.825766Z",
     "iopub.status.idle": "2021-08-06T13:21:43.829005Z",
     "shell.execute_reply": "2021-08-06T13:21:43.829396Z",
     "shell.execute_reply.started": "2021-08-06T13:13:10.711081Z"
    },
    "papermill": {
     "duration": 0.026971,
     "end_time": "2021-08-06T13:21:43.829515",
     "exception": false,
     "start_time": "2021-08-06T13:21:43.802544",
     "status": "completed"
    },
    "tags": []
   },
   "outputs": [],
   "source": [
    "from sklearn.metrics import classification_report,accuracy_score,confusion_matrix"
   ]
  },
  {
   "cell_type": "code",
   "execution_count": 23,
   "id": "07807690",
   "metadata": {
    "execution": {
     "iopub.execute_input": "2021-08-06T13:21:43.874468Z",
     "iopub.status.busy": "2021-08-06T13:21:43.873449Z",
     "iopub.status.idle": "2021-08-06T13:21:43.877352Z",
     "shell.execute_reply": "2021-08-06T13:21:43.877903Z",
     "shell.execute_reply.started": "2021-08-06T13:13:11.785813Z"
    },
    "papermill": {
     "duration": 0.028502,
     "end_time": "2021-08-06T13:21:43.878052",
     "exception": false,
     "start_time": "2021-08-06T13:21:43.849550",
     "status": "completed"
    },
    "tags": []
   },
   "outputs": [
    {
     "name": "stdout",
     "output_type": "stream",
     "text": [
      "Accuracy:0.743\n"
     ]
    }
   ],
   "source": [
    "print(\"Accuracy:{:.3f}\".format(accuracy_score(y_test,pred)))"
   ]
  },
  {
   "cell_type": "code",
   "execution_count": 24,
   "id": "c02bf191",
   "metadata": {
    "execution": {
     "iopub.execute_input": "2021-08-06T13:21:43.923833Z",
     "iopub.status.busy": "2021-08-06T13:21:43.923311Z",
     "iopub.status.idle": "2021-08-06T13:21:43.935037Z",
     "shell.execute_reply": "2021-08-06T13:21:43.935537Z",
     "shell.execute_reply.started": "2021-08-06T13:13:12.838935Z"
    },
    "papermill": {
     "duration": 0.035982,
     "end_time": "2021-08-06T13:21:43.935660",
     "exception": false,
     "start_time": "2021-08-06T13:21:43.899678",
     "status": "completed"
    },
    "tags": []
   },
   "outputs": [
    {
     "name": "stdout",
     "output_type": "stream",
     "text": [
      "              precision    recall  f1-score   support\n",
      "\n",
      "           0       0.75      0.84      0.79      1318\n",
      "           1       0.74      0.61      0.67       966\n",
      "\n",
      "    accuracy                           0.74      2284\n",
      "   macro avg       0.74      0.72      0.73      2284\n",
      "weighted avg       0.74      0.74      0.74      2284\n",
      "\n"
     ]
    }
   ],
   "source": [
    "print(classification_report(y_test,pred))"
   ]
  },
  {
   "cell_type": "code",
   "execution_count": 25,
   "id": "9a719519",
   "metadata": {
    "execution": {
     "iopub.execute_input": "2021-08-06T13:21:43.980910Z",
     "iopub.status.busy": "2021-08-06T13:21:43.980179Z",
     "iopub.status.idle": "2021-08-06T13:21:43.990324Z",
     "shell.execute_reply": "2021-08-06T13:21:43.989731Z",
     "shell.execute_reply.started": "2021-08-06T13:13:13.949335Z"
    },
    "papermill": {
     "duration": 0.033893,
     "end_time": "2021-08-06T13:21:43.990453",
     "exception": false,
     "start_time": "2021-08-06T13:21:43.956560",
     "status": "completed"
    },
    "tags": []
   },
   "outputs": [
    {
     "name": "stdout",
     "output_type": "stream",
     "text": [
      "[[1110  208]\n",
      " [ 379  587]]\n"
     ]
    }
   ],
   "source": [
    "print(confusion_matrix(y_test,pred))"
   ]
  },
  {
   "cell_type": "code",
   "execution_count": null,
   "id": "3ae7b1ca",
   "metadata": {
    "papermill": {
     "duration": 0.020765,
     "end_time": "2021-08-06T13:21:44.032651",
     "exception": false,
     "start_time": "2021-08-06T13:21:44.011886",
     "status": "completed"
    },
    "tags": []
   },
   "outputs": [],
   "source": []
  }
 ],
 "metadata": {
  "kernelspec": {
   "display_name": "Python 3",
   "language": "python",
   "name": "python3"
  },
  "language_info": {
   "codemirror_mode": {
    "name": "ipython",
    "version": 3
   },
   "file_extension": ".py",
   "mimetype": "text/x-python",
   "name": "python",
   "nbconvert_exporter": "python",
   "pygments_lexer": "ipython3",
   "version": "3.7.10"
  },
  "papermill": {
   "default_parameters": {},
   "duration": 89.765272,
   "end_time": "2021-08-06T13:21:46.050338",
   "environment_variables": {},
   "exception": null,
   "input_path": "__notebook__.ipynb",
   "output_path": "__notebook__.ipynb",
   "parameters": {},
   "start_time": "2021-08-06T13:20:16.285066",
   "version": "2.3.3"
  }
 },
 "nbformat": 4,
 "nbformat_minor": 5
}
