{
 "cells": [
  {
   "cell_type": "code",
   "execution_count": 1,
   "id": "40853559",
   "metadata": {
    "_cell_guid": "b1076dfc-b9ad-4769-8c92-a6c4dae69d19",
    "_uuid": "8f2839f25d086af736a60e9eeb907d3b93b6e0e5",
    "execution": {
     "iopub.execute_input": "2021-08-05T12:27:10.916717Z",
     "iopub.status.busy": "2021-08-05T12:27:10.916185Z",
     "iopub.status.idle": "2021-08-05T12:27:10.920451Z",
     "shell.execute_reply": "2021-08-05T12:27:10.919807Z",
     "shell.execute_reply.started": "2021-08-05T11:57:05.750962Z"
    },
    "papermill": {
     "duration": 0.034679,
     "end_time": "2021-08-05T12:27:10.920598",
     "exception": false,
     "start_time": "2021-08-05T12:27:10.885919",
     "status": "completed"
    },
    "tags": []
   },
   "outputs": [],
   "source": [
    "import pandas as pd\n",
    "import numpy as np\n",
    "import matplotlib.pyplot as plt\n"
   ]
  },
  {
   "cell_type": "code",
   "execution_count": 2,
   "id": "3420fcb1",
   "metadata": {
    "execution": {
     "iopub.execute_input": "2021-08-05T12:27:10.967601Z",
     "iopub.status.busy": "2021-08-05T12:27:10.966978Z",
     "iopub.status.idle": "2021-08-05T12:27:11.074020Z",
     "shell.execute_reply": "2021-08-05T12:27:11.073336Z",
     "shell.execute_reply.started": "2021-08-05T11:57:32.356032Z"
    },
    "papermill": {
     "duration": 0.13178,
     "end_time": "2021-08-05T12:27:11.074164",
     "exception": false,
     "start_time": "2021-08-05T12:27:10.942384",
     "status": "completed"
    },
    "tags": []
   },
   "outputs": [],
   "source": [
    "df = pd.read_csv('../input/sms-spam-collection-dataset/spam.csv')"
   ]
  },
  {
   "cell_type": "code",
   "execution_count": 3,
   "id": "43c79983",
   "metadata": {
    "execution": {
     "iopub.execute_input": "2021-08-05T12:27:11.127901Z",
     "iopub.status.busy": "2021-08-05T12:27:11.127096Z",
     "iopub.status.idle": "2021-08-05T12:27:11.142528Z",
     "shell.execute_reply": "2021-08-05T12:27:11.142913Z",
     "shell.execute_reply.started": "2021-08-05T11:57:37.634473Z"
    },
    "papermill": {
     "duration": 0.046593,
     "end_time": "2021-08-05T12:27:11.143032",
     "exception": false,
     "start_time": "2021-08-05T12:27:11.096439",
     "status": "completed"
    },
    "tags": []
   },
   "outputs": [
    {
     "data": {
      "text/html": [
       "<div>\n",
       "<style scoped>\n",
       "    .dataframe tbody tr th:only-of-type {\n",
       "        vertical-align: middle;\n",
       "    }\n",
       "\n",
       "    .dataframe tbody tr th {\n",
       "        vertical-align: top;\n",
       "    }\n",
       "\n",
       "    .dataframe thead th {\n",
       "        text-align: right;\n",
       "    }\n",
       "</style>\n",
       "<table border=\"1\" class=\"dataframe\">\n",
       "  <thead>\n",
       "    <tr style=\"text-align: right;\">\n",
       "      <th></th>\n",
       "      <th>v1</th>\n",
       "      <th>v2</th>\n",
       "      <th>Unnamed: 2</th>\n",
       "      <th>Unnamed: 3</th>\n",
       "      <th>Unnamed: 4</th>\n",
       "    </tr>\n",
       "  </thead>\n",
       "  <tbody>\n",
       "    <tr>\n",
       "      <th>0</th>\n",
       "      <td>ham</td>\n",
       "      <td>Go until jurong point, crazy.. Available only ...</td>\n",
       "      <td>NaN</td>\n",
       "      <td>NaN</td>\n",
       "      <td>NaN</td>\n",
       "    </tr>\n",
       "    <tr>\n",
       "      <th>1</th>\n",
       "      <td>ham</td>\n",
       "      <td>Ok lar... Joking wif u oni...</td>\n",
       "      <td>NaN</td>\n",
       "      <td>NaN</td>\n",
       "      <td>NaN</td>\n",
       "    </tr>\n",
       "    <tr>\n",
       "      <th>2</th>\n",
       "      <td>spam</td>\n",
       "      <td>Free entry in 2 a wkly comp to win FA Cup fina...</td>\n",
       "      <td>NaN</td>\n",
       "      <td>NaN</td>\n",
       "      <td>NaN</td>\n",
       "    </tr>\n",
       "    <tr>\n",
       "      <th>3</th>\n",
       "      <td>ham</td>\n",
       "      <td>U dun say so early hor... U c already then say...</td>\n",
       "      <td>NaN</td>\n",
       "      <td>NaN</td>\n",
       "      <td>NaN</td>\n",
       "    </tr>\n",
       "    <tr>\n",
       "      <th>4</th>\n",
       "      <td>ham</td>\n",
       "      <td>Nah I don't think he goes to usf, he lives aro...</td>\n",
       "      <td>NaN</td>\n",
       "      <td>NaN</td>\n",
       "      <td>NaN</td>\n",
       "    </tr>\n",
       "  </tbody>\n",
       "</table>\n",
       "</div>"
      ],
      "text/plain": [
       "     v1                                                 v2 Unnamed: 2  \\\n",
       "0   ham  Go until jurong point, crazy.. Available only ...        NaN   \n",
       "1   ham                      Ok lar... Joking wif u oni...        NaN   \n",
       "2  spam  Free entry in 2 a wkly comp to win FA Cup fina...        NaN   \n",
       "3   ham  U dun say so early hor... U c already then say...        NaN   \n",
       "4   ham  Nah I don't think he goes to usf, he lives aro...        NaN   \n",
       "\n",
       "  Unnamed: 3 Unnamed: 4  \n",
       "0        NaN        NaN  \n",
       "1        NaN        NaN  \n",
       "2        NaN        NaN  \n",
       "3        NaN        NaN  \n",
       "4        NaN        NaN  "
      ]
     },
     "execution_count": 3,
     "metadata": {},
     "output_type": "execute_result"
    }
   ],
   "source": [
    "df.head()"
   ]
  },
  {
   "cell_type": "code",
   "execution_count": 4,
   "id": "7817539d",
   "metadata": {
    "execution": {
     "iopub.execute_input": "2021-08-05T12:27:11.186016Z",
     "iopub.status.busy": "2021-08-05T12:27:11.185285Z",
     "iopub.status.idle": "2021-08-05T12:27:11.188254Z",
     "shell.execute_reply": "2021-08-05T12:27:11.188741Z",
     "shell.execute_reply.started": "2021-08-05T11:58:00.427332Z"
    },
    "papermill": {
     "duration": 0.026036,
     "end_time": "2021-08-05T12:27:11.188866",
     "exception": false,
     "start_time": "2021-08-05T12:27:11.162830",
     "status": "completed"
    },
    "tags": []
   },
   "outputs": [
    {
     "data": {
      "text/plain": [
       "(5572, 5)"
      ]
     },
     "execution_count": 4,
     "metadata": {},
     "output_type": "execute_result"
    }
   ],
   "source": [
    "df.shape"
   ]
  },
  {
   "cell_type": "code",
   "execution_count": 5,
   "id": "f3105bda",
   "metadata": {
    "execution": {
     "iopub.execute_input": "2021-08-05T12:27:11.239509Z",
     "iopub.status.busy": "2021-08-05T12:27:11.237208Z",
     "iopub.status.idle": "2021-08-05T12:27:11.250003Z",
     "shell.execute_reply": "2021-08-05T12:27:11.249564Z",
     "shell.execute_reply.started": "2021-08-05T11:58:41.623443Z"
    },
    "papermill": {
     "duration": 0.041383,
     "end_time": "2021-08-05T12:27:11.250121",
     "exception": false,
     "start_time": "2021-08-05T12:27:11.208738",
     "status": "completed"
    },
    "tags": []
   },
   "outputs": [
    {
     "data": {
      "text/html": [
       "<div>\n",
       "<style scoped>\n",
       "    .dataframe tbody tr th:only-of-type {\n",
       "        vertical-align: middle;\n",
       "    }\n",
       "\n",
       "    .dataframe tbody tr th {\n",
       "        vertical-align: top;\n",
       "    }\n",
       "\n",
       "    .dataframe thead th {\n",
       "        text-align: right;\n",
       "    }\n",
       "</style>\n",
       "<table border=\"1\" class=\"dataframe\">\n",
       "  <thead>\n",
       "    <tr style=\"text-align: right;\">\n",
       "      <th></th>\n",
       "      <th>ham</th>\n",
       "      <th>spam</th>\n",
       "    </tr>\n",
       "  </thead>\n",
       "  <tbody>\n",
       "    <tr>\n",
       "      <th>0</th>\n",
       "      <td>1</td>\n",
       "      <td>0</td>\n",
       "    </tr>\n",
       "    <tr>\n",
       "      <th>1</th>\n",
       "      <td>1</td>\n",
       "      <td>0</td>\n",
       "    </tr>\n",
       "    <tr>\n",
       "      <th>2</th>\n",
       "      <td>0</td>\n",
       "      <td>1</td>\n",
       "    </tr>\n",
       "    <tr>\n",
       "      <th>3</th>\n",
       "      <td>1</td>\n",
       "      <td>0</td>\n",
       "    </tr>\n",
       "    <tr>\n",
       "      <th>4</th>\n",
       "      <td>1</td>\n",
       "      <td>0</td>\n",
       "    </tr>\n",
       "    <tr>\n",
       "      <th>...</th>\n",
       "      <td>...</td>\n",
       "      <td>...</td>\n",
       "    </tr>\n",
       "    <tr>\n",
       "      <th>5567</th>\n",
       "      <td>0</td>\n",
       "      <td>1</td>\n",
       "    </tr>\n",
       "    <tr>\n",
       "      <th>5568</th>\n",
       "      <td>1</td>\n",
       "      <td>0</td>\n",
       "    </tr>\n",
       "    <tr>\n",
       "      <th>5569</th>\n",
       "      <td>1</td>\n",
       "      <td>0</td>\n",
       "    </tr>\n",
       "    <tr>\n",
       "      <th>5570</th>\n",
       "      <td>1</td>\n",
       "      <td>0</td>\n",
       "    </tr>\n",
       "    <tr>\n",
       "      <th>5571</th>\n",
       "      <td>1</td>\n",
       "      <td>0</td>\n",
       "    </tr>\n",
       "  </tbody>\n",
       "</table>\n",
       "<p>5572 rows × 2 columns</p>\n",
       "</div>"
      ],
      "text/plain": [
       "      ham  spam\n",
       "0       1     0\n",
       "1       1     0\n",
       "2       0     1\n",
       "3       1     0\n",
       "4       1     0\n",
       "...   ...   ...\n",
       "5567    0     1\n",
       "5568    1     0\n",
       "5569    1     0\n",
       "5570    1     0\n",
       "5571    1     0\n",
       "\n",
       "[5572 rows x 2 columns]"
      ]
     },
     "execution_count": 5,
     "metadata": {},
     "output_type": "execute_result"
    }
   ],
   "source": [
    "pd.get_dummies(df['v1'])"
   ]
  },
  {
   "cell_type": "code",
   "execution_count": 6,
   "id": "a2dccb62",
   "metadata": {
    "execution": {
     "iopub.execute_input": "2021-08-05T12:27:11.296291Z",
     "iopub.status.busy": "2021-08-05T12:27:11.295687Z",
     "iopub.status.idle": "2021-08-05T12:27:12.033034Z",
     "shell.execute_reply": "2021-08-05T12:27:12.032558Z",
     "shell.execute_reply.started": "2021-08-05T11:59:51.237181Z"
    },
    "papermill": {
     "duration": 0.760538,
     "end_time": "2021-08-05T12:27:12.033177",
     "exception": false,
     "start_time": "2021-08-05T12:27:11.272639",
     "status": "completed"
    },
    "tags": []
   },
   "outputs": [],
   "source": [
    "from sklearn.model_selection import train_test_split\n",
    "from sklearn.feature_extraction.text import CountVectorizer"
   ]
  },
  {
   "cell_type": "code",
   "execution_count": 7,
   "id": "b43328cb",
   "metadata": {
    "execution": {
     "iopub.execute_input": "2021-08-05T12:27:12.079658Z",
     "iopub.status.busy": "2021-08-05T12:27:12.078736Z",
     "iopub.status.idle": "2021-08-05T12:27:12.083201Z",
     "shell.execute_reply": "2021-08-05T12:27:12.082705Z",
     "shell.execute_reply.started": "2021-08-05T12:00:35.725803Z"
    },
    "papermill": {
     "duration": 0.028882,
     "end_time": "2021-08-05T12:27:12.083308",
     "exception": false,
     "start_time": "2021-08-05T12:27:12.054426",
     "status": "completed"
    },
    "tags": []
   },
   "outputs": [],
   "source": [
    "X_train,X_test,y_train,y_test = train_test_split(df['v2'],df['v1'],test_size = 0.3)"
   ]
  },
  {
   "cell_type": "code",
   "execution_count": 8,
   "id": "3ee534a0",
   "metadata": {
    "execution": {
     "iopub.execute_input": "2021-08-05T12:27:12.133379Z",
     "iopub.status.busy": "2021-08-05T12:27:12.132596Z",
     "iopub.status.idle": "2021-08-05T12:27:12.136356Z",
     "shell.execute_reply": "2021-08-05T12:27:12.135922Z",
     "shell.execute_reply.started": "2021-08-05T12:00:42.760748Z"
    },
    "papermill": {
     "duration": 0.031198,
     "end_time": "2021-08-05T12:27:12.136493",
     "exception": false,
     "start_time": "2021-08-05T12:27:12.105295",
     "status": "completed"
    },
    "tags": []
   },
   "outputs": [
    {
     "data": {
      "text/plain": [
       "(3900,)"
      ]
     },
     "execution_count": 8,
     "metadata": {},
     "output_type": "execute_result"
    }
   ],
   "source": [
    "X_train.shape"
   ]
  },
  {
   "cell_type": "code",
   "execution_count": 9,
   "id": "fd7942d3",
   "metadata": {
    "execution": {
     "iopub.execute_input": "2021-08-05T12:27:12.182338Z",
     "iopub.status.busy": "2021-08-05T12:27:12.181694Z",
     "iopub.status.idle": "2021-08-05T12:27:12.184005Z",
     "shell.execute_reply": "2021-08-05T12:27:12.184445Z",
     "shell.execute_reply.started": "2021-08-05T12:01:40.205840Z"
    },
    "papermill": {
     "duration": 0.025967,
     "end_time": "2021-08-05T12:27:12.184583",
     "exception": false,
     "start_time": "2021-08-05T12:27:12.158616",
     "status": "completed"
    },
    "tags": []
   },
   "outputs": [],
   "source": [
    "vect = CountVectorizer(lowercase = True,stop_words = 'english')"
   ]
  },
  {
   "cell_type": "code",
   "execution_count": 10,
   "id": "b0f9cb27",
   "metadata": {
    "execution": {
     "iopub.execute_input": "2021-08-05T12:27:12.254681Z",
     "iopub.status.busy": "2021-08-05T12:27:12.253776Z",
     "iopub.status.idle": "2021-08-05T12:27:12.356914Z",
     "shell.execute_reply": "2021-08-05T12:27:12.356433Z",
     "shell.execute_reply.started": "2021-08-05T12:02:50.817474Z"
    },
    "papermill": {
     "duration": 0.143756,
     "end_time": "2021-08-05T12:27:12.357031",
     "exception": false,
     "start_time": "2021-08-05T12:27:12.213275",
     "status": "completed"
    },
    "tags": []
   },
   "outputs": [],
   "source": [
    "X_train_bow = vect.fit_transform(X_train)"
   ]
  },
  {
   "cell_type": "code",
   "execution_count": 11,
   "id": "b0ed5b2a",
   "metadata": {
    "execution": {
     "iopub.execute_input": "2021-08-05T12:27:12.433335Z",
     "iopub.status.busy": "2021-08-05T12:27:12.432345Z",
     "iopub.status.idle": "2021-08-05T12:27:12.450906Z",
     "shell.execute_reply": "2021-08-05T12:27:12.451875Z",
     "shell.execute_reply.started": "2021-08-05T12:03:20.469689Z"
    },
    "papermill": {
     "duration": 0.0744,
     "end_time": "2021-08-05T12:27:12.452102",
     "exception": false,
     "start_time": "2021-08-05T12:27:12.377702",
     "status": "completed"
    },
    "tags": []
   },
   "outputs": [],
   "source": [
    "X_test_bow = vect.transform(X_test)"
   ]
  },
  {
   "cell_type": "code",
   "execution_count": 12,
   "id": "4134a46b",
   "metadata": {
    "execution": {
     "iopub.execute_input": "2021-08-05T12:27:12.521674Z",
     "iopub.status.busy": "2021-08-05T12:27:12.520815Z",
     "iopub.status.idle": "2021-08-05T12:27:12.526869Z",
     "shell.execute_reply": "2021-08-05T12:27:12.527491Z",
     "shell.execute_reply.started": "2021-08-05T12:04:34.920909Z"
    },
    "papermill": {
     "duration": 0.042119,
     "end_time": "2021-08-05T12:27:12.527709",
     "exception": false,
     "start_time": "2021-08-05T12:27:12.485590",
     "status": "completed"
    },
    "tags": []
   },
   "outputs": [],
   "source": [
    "from sklearn.naive_bayes import MultinomialNB"
   ]
  },
  {
   "cell_type": "code",
   "execution_count": 13,
   "id": "6877a99d",
   "metadata": {
    "execution": {
     "iopub.execute_input": "2021-08-05T12:27:12.583420Z",
     "iopub.status.busy": "2021-08-05T12:27:12.582589Z",
     "iopub.status.idle": "2021-08-05T12:27:12.585254Z",
     "shell.execute_reply": "2021-08-05T12:27:12.584674Z",
     "shell.execute_reply.started": "2021-08-05T12:04:47.454918Z"
    },
    "papermill": {
     "duration": 0.029888,
     "end_time": "2021-08-05T12:27:12.585384",
     "exception": false,
     "start_time": "2021-08-05T12:27:12.555496",
     "status": "completed"
    },
    "tags": []
   },
   "outputs": [],
   "source": [
    "clf = MultinomialNB()"
   ]
  },
  {
   "cell_type": "code",
   "execution_count": 14,
   "id": "08e4edad",
   "metadata": {
    "execution": {
     "iopub.execute_input": "2021-08-05T12:27:12.646437Z",
     "iopub.status.busy": "2021-08-05T12:27:12.645658Z",
     "iopub.status.idle": "2021-08-05T12:27:12.653145Z",
     "shell.execute_reply": "2021-08-05T12:27:12.652619Z",
     "shell.execute_reply.started": "2021-08-05T12:05:19.998009Z"
    },
    "papermill": {
     "duration": 0.046852,
     "end_time": "2021-08-05T12:27:12.653251",
     "exception": false,
     "start_time": "2021-08-05T12:27:12.606399",
     "status": "completed"
    },
    "tags": []
   },
   "outputs": [
    {
     "data": {
      "text/plain": [
       "MultinomialNB()"
      ]
     },
     "execution_count": 14,
     "metadata": {},
     "output_type": "execute_result"
    }
   ],
   "source": [
    "clf.fit(X_train_bow,y_train)"
   ]
  },
  {
   "cell_type": "code",
   "execution_count": 15,
   "id": "3dc91210",
   "metadata": {
    "execution": {
     "iopub.execute_input": "2021-08-05T12:27:12.701843Z",
     "iopub.status.busy": "2021-08-05T12:27:12.701011Z",
     "iopub.status.idle": "2021-08-05T12:27:12.725460Z",
     "shell.execute_reply": "2021-08-05T12:27:12.724523Z",
     "shell.execute_reply.started": "2021-08-05T12:05:34.461227Z"
    },
    "papermill": {
     "duration": 0.051575,
     "end_time": "2021-08-05T12:27:12.725635",
     "exception": false,
     "start_time": "2021-08-05T12:27:12.674060",
     "status": "completed"
    },
    "tags": []
   },
   "outputs": [
    {
     "data": {
      "text/plain": [
       "0.9886363636363636"
      ]
     },
     "execution_count": 15,
     "metadata": {},
     "output_type": "execute_result"
    }
   ],
   "source": [
    "clf.score(X_test_bow,y_test)"
   ]
  },
  {
   "cell_type": "code",
   "execution_count": 16,
   "id": "4cfe4c01",
   "metadata": {
    "execution": {
     "iopub.execute_input": "2021-08-05T12:27:12.805800Z",
     "iopub.status.busy": "2021-08-05T12:27:12.804897Z",
     "iopub.status.idle": "2021-08-05T12:27:12.807738Z",
     "shell.execute_reply": "2021-08-05T12:27:12.807197Z",
     "shell.execute_reply.started": "2021-08-05T12:07:25.703357Z"
    },
    "papermill": {
     "duration": 0.041405,
     "end_time": "2021-08-05T12:27:12.807859",
     "exception": false,
     "start_time": "2021-08-05T12:27:12.766454",
     "status": "completed"
    },
    "tags": []
   },
   "outputs": [],
   "source": [
    "from sklearn.feature_extraction.text import TfidfVectorizer"
   ]
  },
  {
   "cell_type": "code",
   "execution_count": 17,
   "id": "8542df9e",
   "metadata": {
    "execution": {
     "iopub.execute_input": "2021-08-05T12:27:12.859979Z",
     "iopub.status.busy": "2021-08-05T12:27:12.859085Z",
     "iopub.status.idle": "2021-08-05T12:27:12.862072Z",
     "shell.execute_reply": "2021-08-05T12:27:12.861577Z",
     "shell.execute_reply.started": "2021-08-05T12:09:24.200117Z"
    },
    "papermill": {
     "duration": 0.031532,
     "end_time": "2021-08-05T12:27:12.862191",
     "exception": false,
     "start_time": "2021-08-05T12:27:12.830659",
     "status": "completed"
    },
    "tags": []
   },
   "outputs": [],
   "source": [
    "vect2 = TfidfVectorizer(stop_words = 'english')"
   ]
  },
  {
   "cell_type": "code",
   "execution_count": 18,
   "id": "02f27e10",
   "metadata": {
    "execution": {
     "iopub.execute_input": "2021-08-05T12:27:12.944298Z",
     "iopub.status.busy": "2021-08-05T12:27:12.939149Z",
     "iopub.status.idle": "2021-08-05T12:27:13.004654Z",
     "shell.execute_reply": "2021-08-05T12:27:13.004073Z",
     "shell.execute_reply.started": "2021-08-05T12:09:25.189697Z"
    },
    "papermill": {
     "duration": 0.119155,
     "end_time": "2021-08-05T12:27:13.004799",
     "exception": false,
     "start_time": "2021-08-05T12:27:12.885644",
     "status": "completed"
    },
    "tags": []
   },
   "outputs": [],
   "source": [
    "X_train_tf = vect2.fit_transform(X_train)"
   ]
  },
  {
   "cell_type": "code",
   "execution_count": 19,
   "id": "84d0f6d9",
   "metadata": {
    "execution": {
     "iopub.execute_input": "2021-08-05T12:27:13.082839Z",
     "iopub.status.busy": "2021-08-05T12:27:13.077776Z",
     "iopub.status.idle": "2021-08-05T12:27:13.087059Z",
     "shell.execute_reply": "2021-08-05T12:27:13.086666Z",
     "shell.execute_reply.started": "2021-08-05T12:09:48.142145Z"
    },
    "papermill": {
     "duration": 0.058329,
     "end_time": "2021-08-05T12:27:13.087169",
     "exception": false,
     "start_time": "2021-08-05T12:27:13.028840",
     "status": "completed"
    },
    "tags": []
   },
   "outputs": [],
   "source": [
    "X_test_tf = vect2.transform(X_test)"
   ]
  },
  {
   "cell_type": "code",
   "execution_count": 20,
   "id": "13fcbf26",
   "metadata": {
    "execution": {
     "iopub.execute_input": "2021-08-05T12:27:13.153046Z",
     "iopub.status.busy": "2021-08-05T12:27:13.152068Z",
     "iopub.status.idle": "2021-08-05T12:27:13.158990Z",
     "shell.execute_reply": "2021-08-05T12:27:13.158414Z",
     "shell.execute_reply.started": "2021-08-05T12:10:12.063741Z"
    },
    "papermill": {
     "duration": 0.050315,
     "end_time": "2021-08-05T12:27:13.159106",
     "exception": false,
     "start_time": "2021-08-05T12:27:13.108791",
     "status": "completed"
    },
    "tags": []
   },
   "outputs": [
    {
     "data": {
      "text/plain": [
       "MultinomialNB()"
      ]
     },
     "execution_count": 20,
     "metadata": {},
     "output_type": "execute_result"
    }
   ],
   "source": [
    "clf.fit(X_train_tf,y_train)"
   ]
  },
  {
   "cell_type": "code",
   "execution_count": 21,
   "id": "b303da41",
   "metadata": {
    "execution": {
     "iopub.execute_input": "2021-08-05T12:27:13.209349Z",
     "iopub.status.busy": "2021-08-05T12:27:13.208589Z",
     "iopub.status.idle": "2021-08-05T12:27:13.217828Z",
     "shell.execute_reply": "2021-08-05T12:27:13.217310Z",
     "shell.execute_reply.started": "2021-08-05T12:10:29.879248Z"
    },
    "papermill": {
     "duration": 0.036075,
     "end_time": "2021-08-05T12:27:13.217929",
     "exception": false,
     "start_time": "2021-08-05T12:27:13.181854",
     "status": "completed"
    },
    "tags": []
   },
   "outputs": [
    {
     "data": {
      "text/plain": [
       "0.9706937799043063"
      ]
     },
     "execution_count": 21,
     "metadata": {},
     "output_type": "execute_result"
    }
   ],
   "source": [
    "clf.score(X_test_tf,y_test)"
   ]
  },
  {
   "cell_type": "code",
   "execution_count": 22,
   "id": "e0ea72f2",
   "metadata": {
    "execution": {
     "iopub.execute_input": "2021-08-05T12:27:13.267883Z",
     "iopub.status.busy": "2021-08-05T12:27:13.267197Z",
     "iopub.status.idle": "2021-08-05T12:27:13.334543Z",
     "shell.execute_reply": "2021-08-05T12:27:13.334030Z",
     "shell.execute_reply.started": "2021-08-05T12:18:20.234811Z"
    },
    "papermill": {
     "duration": 0.095252,
     "end_time": "2021-08-05T12:27:13.334673",
     "exception": false,
     "start_time": "2021-08-05T12:27:13.239421",
     "status": "completed"
    },
    "tags": []
   },
   "outputs": [],
   "source": [
    "from sklearn.linear_model import LogisticRegression\n",
    "from sklearn.metrics import confusion_matrix,accuracy_score"
   ]
  },
  {
   "cell_type": "code",
   "execution_count": 23,
   "id": "4fffdb5c",
   "metadata": {
    "execution": {
     "iopub.execute_input": "2021-08-05T12:27:13.380583Z",
     "iopub.status.busy": "2021-08-05T12:27:13.379936Z",
     "iopub.status.idle": "2021-08-05T12:27:13.382291Z",
     "shell.execute_reply": "2021-08-05T12:27:13.382697Z",
     "shell.execute_reply.started": "2021-08-05T12:21:11.301339Z"
    },
    "papermill": {
     "duration": 0.026594,
     "end_time": "2021-08-05T12:27:13.382816",
     "exception": false,
     "start_time": "2021-08-05T12:27:13.356222",
     "status": "completed"
    },
    "tags": []
   },
   "outputs": [],
   "source": [
    "lr = LogisticRegression(penalty = 'l2')"
   ]
  },
  {
   "cell_type": "code",
   "execution_count": 24,
   "id": "367b0073",
   "metadata": {
    "execution": {
     "iopub.execute_input": "2021-08-05T12:27:13.433013Z",
     "iopub.status.busy": "2021-08-05T12:27:13.432119Z",
     "iopub.status.idle": "2021-08-05T12:27:13.629992Z",
     "shell.execute_reply": "2021-08-05T12:27:13.629586Z",
     "shell.execute_reply.started": "2021-08-05T12:21:12.346962Z"
    },
    "papermill": {
     "duration": 0.225522,
     "end_time": "2021-08-05T12:27:13.630119",
     "exception": false,
     "start_time": "2021-08-05T12:27:13.404597",
     "status": "completed"
    },
    "tags": []
   },
   "outputs": [
    {
     "data": {
      "text/plain": [
       "LogisticRegression()"
      ]
     },
     "execution_count": 24,
     "metadata": {},
     "output_type": "execute_result"
    }
   ],
   "source": [
    "lr.fit(X_train_bow,y_train)"
   ]
  },
  {
   "cell_type": "code",
   "execution_count": 25,
   "id": "9ebcda9d",
   "metadata": {
    "execution": {
     "iopub.execute_input": "2021-08-05T12:27:13.679470Z",
     "iopub.status.busy": "2021-08-05T12:27:13.678774Z",
     "iopub.status.idle": "2021-08-05T12:27:13.688155Z",
     "shell.execute_reply": "2021-08-05T12:27:13.687769Z",
     "shell.execute_reply.started": "2021-08-05T12:21:32.746692Z"
    },
    "papermill": {
     "duration": 0.034546,
     "end_time": "2021-08-05T12:27:13.688265",
     "exception": false,
     "start_time": "2021-08-05T12:27:13.653719",
     "status": "completed"
    },
    "tags": []
   },
   "outputs": [
    {
     "data": {
      "text/plain": [
       "0.9826555023923444"
      ]
     },
     "execution_count": 25,
     "metadata": {},
     "output_type": "execute_result"
    }
   ],
   "source": [
    "lr.score(X_test_bow,y_test)"
   ]
  },
  {
   "cell_type": "code",
   "execution_count": 26,
   "id": "c80dc58c",
   "metadata": {
    "execution": {
     "iopub.execute_input": "2021-08-05T12:27:13.742879Z",
     "iopub.status.busy": "2021-08-05T12:27:13.742172Z",
     "iopub.status.idle": "2021-08-05T12:27:13.745219Z",
     "shell.execute_reply": "2021-08-05T12:27:13.744670Z",
     "shell.execute_reply.started": "2021-08-05T12:24:02.676808Z"
    },
    "papermill": {
     "duration": 0.032391,
     "end_time": "2021-08-05T12:27:13.745331",
     "exception": false,
     "start_time": "2021-08-05T12:27:13.712940",
     "status": "completed"
    },
    "tags": []
   },
   "outputs": [],
   "source": [
    "y_pred = lr.predict(X_test_bow)"
   ]
  },
  {
   "cell_type": "code",
   "execution_count": 27,
   "id": "ea710dae",
   "metadata": {
    "execution": {
     "iopub.execute_input": "2021-08-05T12:27:13.803831Z",
     "iopub.status.busy": "2021-08-05T12:27:13.803092Z",
     "iopub.status.idle": "2021-08-05T12:27:13.806624Z",
     "shell.execute_reply": "2021-08-05T12:27:13.806108Z",
     "shell.execute_reply.started": "2021-08-05T12:24:40.936140Z"
    },
    "papermill": {
     "duration": 0.038494,
     "end_time": "2021-08-05T12:27:13.806726",
     "exception": false,
     "start_time": "2021-08-05T12:27:13.768232",
     "status": "completed"
    },
    "tags": []
   },
   "outputs": [
    {
     "data": {
      "text/plain": [
       "array([[1451,    0],\n",
       "       [  29,  192]])"
      ]
     },
     "execution_count": 27,
     "metadata": {},
     "output_type": "execute_result"
    }
   ],
   "source": [
    "confusion_matrix(y_test,y_pred)"
   ]
  },
  {
   "cell_type": "code",
   "execution_count": null,
   "id": "f6210f9a",
   "metadata": {
    "papermill": {
     "duration": 0.024088,
     "end_time": "2021-08-05T12:27:13.852823",
     "exception": false,
     "start_time": "2021-08-05T12:27:13.828735",
     "status": "completed"
    },
    "tags": []
   },
   "outputs": [],
   "source": []
  }
 ],
 "metadata": {
  "kernelspec": {
   "display_name": "Python 3",
   "language": "python",
   "name": "python3"
  },
  "language_info": {
   "codemirror_mode": {
    "name": "ipython",
    "version": 3
   },
   "file_extension": ".py",
   "mimetype": "text/x-python",
   "name": "python",
   "nbconvert_exporter": "python",
   "pygments_lexer": "ipython3",
   "version": "3.7.10"
  },
  "papermill": {
   "default_parameters": {},
   "duration": 10.384535,
   "end_time": "2021-08-05T12:27:14.486443",
   "environment_variables": {},
   "exception": null,
   "input_path": "__notebook__.ipynb",
   "output_path": "__notebook__.ipynb",
   "parameters": {},
   "start_time": "2021-08-05T12:27:04.101908",
   "version": "2.3.3"
  }
 },
 "nbformat": 4,
 "nbformat_minor": 5
}
